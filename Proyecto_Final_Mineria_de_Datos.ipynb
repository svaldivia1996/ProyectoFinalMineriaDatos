{
  "cells": [
    {
      "cell_type": "code",
      "execution_count": null,
      "metadata": {
        "id": "-PZFug9OdOqB"
      },
      "outputs": [],
      "source": [
        "%load_ext rpy2.ipython"
      ]
    },
    {
      "cell_type": "code",
      "execution_count": null,
      "metadata": {
        "id": "rqHga0kWYn_F"
      },
      "outputs": [],
      "source": [
        "from google.colab import drive\n",
        "drive.mount('/content/drive')"
      ]
    },
    {
      "attachments": {},
      "cell_type": "markdown",
      "metadata": {
        "id": "F491eofS9Z-q"
      },
      "source": [
        "##Hito 3: Spotify Top 200\n",
        "\n",
        "Valeria C. Zúñiga, Tomás Marchessi, Joaquin Salas, Sebastián Valdivia y Esteban Courard\n",
        "Fecha de Realizacion: Noviembre 2021"
      ]
    },
    {
      "cell_type": "markdown",
      "metadata": {
        "id": "ByQCy_Ak9Zvu"
      },
      "source": [
        "##Motivación"
      ]
    },
    {
      "cell_type": "markdown",
      "metadata": {
        "id": "Ih4239Y6-EKH"
      },
      "source": [
        "La música ha estado presente en la vida de todas las personas y desde los inicios de la música han habido canciones más populares que otras. En la actualidad, gracias al avance de distintas tecnologías es posible ver de manera estadística cuáles son las canciones más populares.\n",
        "\n",
        "Spotify es una plataforma de streaming musical que se ha hecho presente en la vida de muchas personas alrededor de todo el mundo y que su uso va en aumento. Esta plataforma lleva por lo menos 4 años realizando un chart con las 200 canciones más escuchadas a nivel mundial y por cada una de las distintas regiones presentes en Spotify (incluyendo Chile).\n",
        "\n",
        "Durante la pandemia ha aumentado la necesidad de entretención, siendo la música una de las opciones entre las cuales uno podría entretenerse. Es por esto que nos gustaría estudiar el aumento en la cantidad de streaming pre y post pandemia, para luego estudiar las canciones más destacadas de este ranking, ver sus características (tales como los decibeles, los beat per minute, entre otros) y ver cómo estas propiedades afectan para que una canción sea popular."
      ]
    },
    {
      "cell_type": "markdown",
      "metadata": {
        "id": "TvZ7AXx8-L8N"
      },
      "source": [
        "## Exploración de Datos"
      ]
    },
    {
      "cell_type": "markdown",
      "metadata": {
        "id": "x4CIY6FD-if-"
      },
      "source": [
        "Spotify actualiza cada 2 o 3 día los charts correspondiente a las canciones pertenecientes al top 200 y al viral 50. Ambos charts están catalogados tanto a nivel global, como por cada región que considera Spotify."
      ]
    },
    {
      "cell_type": "code",
      "execution_count": null,
      "metadata": {
        "id": "zXWSpeweeHt_"
      },
      "outputs": [],
      "source": [
        "%%R\n",
        "spotifyChart <- read.csv(\"/content/drive/MyDrive/spotify-charts.csv\" , encoding = \"UTF-8\")\n",
        "topChile<- read.csv(\"topChile.csv\" , encoding = \"UTF-8\")"
      ]
    },
    {
      "cell_type": "markdown",
      "metadata": {
        "id": "l_Lc0TTeAknN"
      },
      "source": [
        "Los dos dataset importados contienen la misma información, el segundo es tan solo un subconjunto del primero. Contiene tan solo la información correspondiente a la región de Chile. Ambos contienen el top 200 y el viral 50 con fechas desde el 1 de Abril de 2017 hasta el 31 de Julio de 2021."
      ]
    },
    {
      "cell_type": "markdown",
      "metadata": {
        "id": "U4EL2tkjA_Og"
      },
      "source": [
        "### Descripción y limpieza del dataset"
      ]
    },
    {
      "cell_type": "markdown",
      "metadata": {
        "id": "4X3hP09DBAyi"
      },
      "source": [
        "A continuación podemos ver las columnas que posee el dataset:"
      ]
    },
    {
      "cell_type": "code",
      "execution_count": null,
      "metadata": {
        "colab": {
          "base_uri": "https://localhost:8080/"
        },
        "id": "zFc55KzgeIzJ",
        "outputId": "5939b54e-1c48-4a6c-f9c5-1456dbe022ba"
      },
      "outputs": [
        {
          "name": "stdout",
          "output_type": "stream",
          "text": [
            "                               title rank       date              artist\n",
            "1 Despacito (Featuring Daddy Yankee)    1 2017-03-01          Luis Fonsi\n",
            "2                          El Amante    2 2017-03-01           Nicky Jam\n",
            "3         Reggaetón Lento (Bailemos)    3 2017-03-01                CNCO\n",
            "4                       Shape of You    4 2017-03-01          Ed Sheeran\n",
            "5            Chantaje (feat. Maluma)    5 2017-03-01             Shakira\n",
            "6                 La Rompe Corazones    6 2017-03-01 Daddy Yankee, Ozuna\n",
            "                                                    url    region  chart\n",
            "1 https://open.spotify.com/track/4aWmUDTfIPGksMNLV2rQP2 Argentina top200\n",
            "2 https://open.spotify.com/track/3umS4y3uQDkqekNjVpiRUs Argentina top200\n",
            "3 https://open.spotify.com/track/3AEZUABDXNtecAOSC1qTfo Argentina top200\n",
            "4 https://open.spotify.com/track/7qiZfU4dY1lWllzX7mPBI3 Argentina top200\n",
            "5 https://open.spotify.com/track/6mICuAdrwEjh6Y6lroV2Kg Argentina top200\n",
            "6 https://open.spotify.com/track/4okba5wu9mMLXx79DXLKi3 Argentina top200\n",
            "          trend streams\n",
            "1 SAME_POSITION  365941\n",
            "2 SAME_POSITION  179697\n",
            "3 SAME_POSITION  169647\n",
            "4 SAME_POSITION  168495\n",
            "5 SAME_POSITION  141696\n",
            "6       MOVE_UP  130672\n"
          ]
        }
      ],
      "source": [
        "%%R\n",
        "head(spotifyChart)"
      ]
    },
    {
      "cell_type": "markdown",
      "metadata": {
        "id": "avMCvIUkBE5P"
      },
      "source": [
        "Podemos ver también las dimensiones del dataset:"
      ]
    },
    {
      "cell_type": "code",
      "execution_count": null,
      "metadata": {
        "colab": {
          "base_uri": "https://localhost:8080/"
        },
        "id": "DYAGzTV3A6nb",
        "outputId": "725e4502-53f1-4238-c4a1-b4014df2db51"
      },
      "outputs": [
        {
          "name": "stdout",
          "output_type": "stream",
          "text": [
            "[1] 25512202\n"
          ]
        }
      ],
      "source": [
        "%%R\n",
        "nrow(spotifyChart)"
      ]
    },
    {
      "cell_type": "code",
      "execution_count": null,
      "metadata": {
        "colab": {
          "base_uri": "https://localhost:8080/"
        },
        "id": "0g1oBMseBHGH",
        "outputId": "04f0a8dc-070e-4c30-b4c7-3b9479b48f9a"
      },
      "outputs": [
        {
          "name": "stdout",
          "output_type": "stream",
          "text": [
            "[1] 9\n"
          ]
        }
      ],
      "source": [
        "%%R\n",
        "ncol(spotifyChart)"
      ]
    },
    {
      "cell_type": "markdown",
      "metadata": {
        "id": "lC4iO-d8BT3Q"
      },
      "source": [
        "Y un resumen del contenido de sus columnas:"
      ]
    },
    {
      "cell_type": "code",
      "execution_count": null,
      "metadata": {
        "colab": {
          "base_uri": "https://localhost:8080/"
        },
        "id": "5qww1qrsBUY6",
        "outputId": "8c75752b-6e91-4b62-acf0-6d8b84cf4fe4"
      },
      "outputs": [
        {
          "name": "stdout",
          "output_type": "stream",
          "text": [
            "    title                rank            date              artist         \n",
            " Length:25512202    Min.   :  1.00   Length:25512202    Length:25512202   \n",
            " Class :character   1st Qu.: 29.00   Class :character   Class :character  \n",
            " Mode  :character   Median : 67.00   Mode  :character   Mode  :character  \n",
            "                    Mean   : 81.07                                        \n",
            "                    3rd Qu.:131.00                                        \n",
            "                    Max.   :200.00                                        \n",
            "                                                                          \n",
            "     url               region             chart              trend          \n",
            " Length:25512202    Length:25512202    Length:25512202    Length:25512202   \n",
            " Class :character   Class :character   Class :character   Class :character  \n",
            " Mode  :character   Mode  :character   Mode  :character   Mode  :character  \n",
            "                                                                            \n",
            "                                                                            \n",
            "                                                                            \n",
            "                                                                            \n",
            "    streams        \n",
            " Min.   :    1001  \n",
            " 1st Qu.:    3529  \n",
            " Median :    9538  \n",
            " Mean   :   54786  \n",
            " 3rd Qu.:   35141  \n",
            " Max.   :19749704  \n",
            " NA's   :5638792   \n"
          ]
        }
      ],
      "source": [
        "%%R\n",
        "summary(spotifyChart)"
      ]
    },
    {
      "cell_type": "markdown",
      "metadata": {
        "id": "ISNsq4dGBZHZ"
      },
      "source": [
        "Realizamos una eliminación de NA’s y url’s ya que no aportan informacion para la exploracion. En este caso, las canciones del viral 50 son las que poseen valor NA, pero dado que nos importa estudiar el top 200, la eliminación de estos datos aporta positivamente."
      ]
    },
    {
      "cell_type": "code",
      "execution_count": null,
      "metadata": {
        "id": "MweNOkWXBZno"
      },
      "outputs": [],
      "source": [
        "%%R\n",
        "spotifyChart <- na.omit(spotifyChart[c(1,2,3,4,6,7,9)])\n",
        "topChile <- na.omit(topChile)"
      ]
    },
    {
      "cell_type": "code",
      "execution_count": null,
      "metadata": {
        "colab": {
          "base_uri": "https://localhost:8080/"
        },
        "id": "YzoJVxZkBeOL",
        "outputId": "696ece5b-2be7-47b2-b99d-0e54c66ed960"
      },
      "outputs": [
        {
          "name": "stdout",
          "output_type": "stream",
          "text": [
            "    title                rank            date              artist         \n",
            " Length:19873403    Min.   :  1.00   Length:19873403    Length:19873403   \n",
            " Class :character   1st Qu.: 47.00   Class :character   Class :character  \n",
            " Mode  :character   Median : 95.00   Mode  :character   Mode  :character  \n",
            "                    Mean   : 96.84                                        \n",
            "                    3rd Qu.:146.00                                        \n",
            "                    Max.   :200.00                                        \n",
            "    region             chart              streams        \n",
            " Length:19873403    Length:19873403    Min.   :    1001  \n",
            " Class :character   Class :character   1st Qu.:    3529  \n",
            " Mode  :character   Mode  :character   Median :    9538  \n",
            "                                       Mean   :   54786  \n",
            "                                       3rd Qu.:   35141  \n",
            "                                       Max.   :19749704  \n"
          ]
        }
      ],
      "source": [
        "%%R\n",
        "summary(spotifyChart)"
      ]
    },
    {
      "cell_type": "markdown",
      "metadata": {
        "id": "abDWjN0UBmbe"
      },
      "source": [
        "Acá podemos ver que los datos con valores NA quedaron eliminados satisfactoriamente."
      ]
    },
    {
      "cell_type": "code",
      "execution_count": null,
      "metadata": {
        "colab": {
          "base_uri": "https://localhost:8080/"
        },
        "id": "gldTP28nBm6o",
        "outputId": "7c281c09-8ec6-4b14-d758-ae8502fdd504"
      },
      "outputs": [
        {
          "name": "stdout",
          "output_type": "stream",
          "text": [
            "  title    rank    date  artist  region   chart streams \n",
            "      0       0       0       0       0       0       0 \n"
          ]
        }
      ],
      "source": [
        "%%R\n",
        "sapply(spotifyChart, function(x) sum(is.na(x)))"
      ]
    },
    {
      "cell_type": "markdown",
      "metadata": {
        "id": "-ngtMxieBval"
      },
      "source": [
        "### Datos básicos del dataset"
      ]
    },
    {
      "cell_type": "markdown",
      "metadata": {
        "id": "pjThNZ_yB1dh"
      },
      "source": [
        "A continuación se encuentran las distintas regiones que considera Spotify para realizar el top 200:"
      ]
    },
    {
      "cell_type": "code",
      "execution_count": null,
      "metadata": {
        "colab": {
          "base_uri": "https://localhost:8080/"
        },
        "id": "pttBIJMSFTQ1",
        "outputId": "4496aaca-91f9-49c5-fc66-820664412968"
      },
      "outputs": [
        {
          "name": "stdout",
          "output_type": "stream",
          "text": [
            " [1] \"Argentina\"            \"Australia\"            \"Canada\"              \n",
            " [4] \"Austria\"              \"Taiwan\"               \"Belgium\"             \n",
            " [7] \"Bolivia\"              \"Brazil\"               \"Bulgaria\"            \n",
            "[10] \"Chile\"                \"Colombia\"             \"Ecuador\"             \n",
            "[13] \"Costa Rica\"           \"Czech Republic\"       \"Denmark\"             \n",
            "[16] \"Dominican Republic\"   \"Guatemala\"            \"El Salvador\"         \n",
            "[19] \"Estonia\"              \"Finland\"              \"Indonesia\"           \n",
            "[22] \"France\"               \"Germany\"              \"Global\"              \n",
            "[25] \"Greece\"               \"Turkey\"               \"Honduras\"            \n",
            "[28] \"Hong Kong\"            \"Hungary\"              \"Iceland\"             \n",
            "[31] \"Ireland\"              \"Italy\"                \"Japan\"               \n",
            "[34] \"Latvia\"               \"Lithuania\"            \"Malaysia\"            \n",
            "[37] \"Luxembourg\"           \"Mexico\"               \"Uruguay\"             \n",
            "[40] \"Netherlands\"          \"New Zealand\"          \"Nicaragua\"           \n",
            "[43] \"Norway\"               \"Panama\"               \"Paraguay\"            \n",
            "[46] \"Peru\"                 \"Philippines\"          \"Poland\"              \n",
            "[49] \"Portugal\"             \"Singapore\"            \"Slovakia\"            \n",
            "[52] \"Spain\"                \"Sweden\"               \"Switzerland\"         \n",
            "[55] \"United Kingdom\"       \"United States\"        \"Thailand\"            \n",
            "[58] \"Israel\"               \"Romania\"              \"Vietnam\"             \n",
            "[61] \"South Africa\"         \"India\"                \"Saudi Arabia\"        \n",
            "[64] \"United Arab Emirates\" \"Morocco\"              \"Egypt\"               \n",
            "[67] \"Russia\"               \"Ukraine\"              \"South Korea\"         \n"
          ]
        }
      ],
      "source": [
        "%%R\n",
        "unique(spotifyChart$region)"
      ]
    },
    {
      "cell_type": "markdown",
      "metadata": {
        "id": "tH__v6WGFY0t"
      },
      "source": [
        "#### Caracterización por país"
      ]
    },
    {
      "cell_type": "markdown",
      "metadata": {
        "id": "YnANwCvKFcnx"
      },
      "source": [
        "La siguiente tabla contiene la cantidad de streams por país"
      ]
    },
    {
      "cell_type": "code",
      "execution_count": null,
      "metadata": {
        "colab": {
          "base_uri": "https://localhost:8080/"
        },
        "id": "KzGVep3EFec2",
        "outputId": "bd0a56cf-f7a7-4444-e5e0-2e19bb099374"
      },
      "outputs": [
        {
          "name": "stdout",
          "output_type": "stream",
          "text": [
            "     region     streams\n",
            "1 Argentina 18577279210\n",
            "2 Australia 19550963267\n",
            "3   Austria  2569955889\n",
            "4   Belgium  3798018649\n",
            "5   Bolivia  1111403870\n",
            "6    Brazil 52768333202\n"
          ]
        }
      ],
      "source": [
        "%%R\n",
        "streamsRegion<-aggregate(streams ~ region, spotifyChart, FUN=sum)\n",
        "head(streamsRegion)"
      ]
    },
    {
      "cell_type": "markdown",
      "metadata": {
        "id": "3NhwjGpWGV77"
      },
      "source": [
        "Luego se encuentran los 10 países con mayor reproducción de hits"
      ]
    },
    {
      "cell_type": "code",
      "execution_count": null,
      "metadata": {
        "colab": {
          "base_uri": "https://localhost:8080/"
        },
        "id": "8lwmXadrGYpj",
        "outputId": "dd633916-17bf-4339-d36b-142211d2356a"
      },
      "outputs": [
        {
          "name": "stdout",
          "output_type": "stream",
          "text": [
            "           region      streams\n",
            "67  United States 137439346178\n",
            "6          Brazil  52768333202\n",
            "39         Mexico  44577188602\n",
            "21        Germany  39244228894\n",
            "66 United Kingdom  35617685707\n",
            "58          Spain  26521104225\n",
            "33          Italy  25064681172\n",
            "20         France  23309349788\n",
            "2       Australia  19550963267\n",
            "8          Canada  18787956265\n"
          ]
        }
      ],
      "source": [
        "%%R\n",
        "streamsRegion[order(-streamsRegion$streams), ][2:11,]"
      ]
    },
    {
      "cell_type": "markdown",
      "metadata": {
        "id": "6nzEhjsiGh1F"
      },
      "source": [
        "Tomamos desde el segundo hasta el onceavo, ya que el primero es la región global, la cual considera una suma de todas las demás regiones."
      ]
    },
    {
      "cell_type": "code",
      "execution_count": null,
      "metadata": {
        "colab": {
          "base_uri": "https://localhost:8080/"
        },
        "id": "yHeTPAl7GiSd",
        "outputId": "c4a4d74f-e448-4087-e4e9-06462f8ae7dc"
      },
      "outputs": [
        {
          "name": "stderr",
          "output_type": "stream",
          "text": [
            "R[write to console]: ── Attaching packages ─────────────────────────────────────── tidyverse 1.3.1 ──\n",
            "\n",
            "R[write to console]: ✔ ggplot2 3.3.5     ✔ purrr   0.3.4\n",
            "✔ tibble  3.1.5     ✔ dplyr   1.0.7\n",
            "✔ tidyr   1.1.4     ✔ stringr 1.4.0\n",
            "✔ readr   2.0.2     ✔ forcats 0.5.1\n",
            "\n",
            "R[write to console]: ── Conflicts ────────────────────────────────────────── tidyverse_conflicts() ──\n",
            "✖ dplyr::filter() masks stats::filter()\n",
            "✖ dplyr::lag()    masks stats::lag()\n",
            "\n"
          ]
        }
      ],
      "source": [
        "%%R\n",
        "library(tidyverse)\n",
        "library(ggplot2)\n",
        "options(scipen = 999)"
      ]
    },
    {
      "cell_type": "code",
      "execution_count": null,
      "metadata": {
        "colab": {
          "base_uri": "https://localhost:8080/",
          "height": 497
        },
        "id": "LE_FtXB3GuYX",
        "outputId": "4b3f47fc-b4af-4e86-83e8-71a13afe120e"
      },
      "outputs": [
        {
          "data": {
            "image/png": "[encoded data removed]"
          },
          "metadata": {},
          "output_type": "display_data"
        }
      ],
      "source": [
        "%%R\n",
        "ggplot(streamsRegion[order(-streamsRegion$streams), ][2:21,]) +   # asociamos un data frame a ggplot\n",
        "  geom_bar(aes(x = reorder(region, streams), y = streams), stat=\"identity\") +   # creamos un grafico de barras como una capa\n",
        "  coord_flip() +  # transformamos el grafico invirtiendo los ejes de coordenadas (sólo visualmente)\n",
        "  ggtitle(\"Cantidad de reproducciones de los 20 paises con mayor trafico\") + # título\n",
        "  xlab(\"Pais\") + ylab(\"Cantidad\")  # etiqueta"
      ]
    },
    {
      "cell_type": "markdown",
      "metadata": {
        "id": "0Jku6SMDGyLz"
      },
      "source": [
        "##### Caracterización específica de Chile"
      ]
    },
    {
      "cell_type": "code",
      "execution_count": null,
      "metadata": {
        "colab": {
          "base_uri": "https://localhost:8080/"
        },
        "id": "n44sC2oaG1J1",
        "outputId": "9083374f-b554-4e5e-f602-d272afcac587"
      },
      "outputs": [
        {
          "name": "stdout",
          "output_type": "stream",
          "text": [
            "[1] 352185\n"
          ]
        }
      ],
      "source": [
        "%%R\n",
        "# Suma cuantos datos hay en Chile\n",
        "sum(spotifyChart$region == \"Chile\")"
      ]
    },
    {
      "cell_type": "code",
      "execution_count": null,
      "metadata": {
        "colab": {
          "base_uri": "https://localhost:8080/",
          "height": 497
        },
        "id": "SrtO0l8HG6Vj",
        "outputId": "d7f215b3-2217-435a-c16c-b14b54a931b8"
      },
      "outputs": [
        {
          "data": {
            "image/png": "[encoded data removed]"
          },
          "metadata": {},
          "output_type": "display_data"
        }
      ],
      "source": [
        "%%R\n",
        "# Reproducciones a lo largo del tiempo del top 200 en Chile\n",
        "tpoChile <- aggregate(streams ~ date, topChile, FUN=sum)\n",
        "tpoChile <- tpoChile[order(tpoChile$date), ]\n",
        "\n",
        "\n",
        "ggplot(topChile) +\n",
        "  geom_bar(aes(x=date, y=streams), stat='identity') +\n",
        "  ggtitle(\"Cantidad de streams totales para Chile\") + \n",
        "  xlab(\"Fecha\") + ylab(\"streams\") "
      ]
    },
    {
      "cell_type": "markdown",
      "metadata": {
        "id": "NUsG740FHOYZ"
      },
      "source": [
        "#### Caracterización por artistas"
      ]
    },
    {
      "cell_type": "markdown",
      "metadata": {
        "id": "S7vWCrt0HQxw"
      },
      "source": [
        "A continuación se realiza una tabla con la cantidad de streams por artista"
      ]
    },
    {
      "cell_type": "code",
      "execution_count": null,
      "metadata": {
        "colab": {
          "base_uri": "https://localhost:8080/"
        },
        "id": "x3Y4wWEtHSVS",
        "outputId": "99ec93ec-3ca2-4946-b053-f35b82036c4c"
      },
      "outputs": [
        {
          "name": "stdout",
          "output_type": "stream",
          "text": [
            "                artist  streams\n",
            "1                  -M-    81350\n",
            "2  -M-, Michel Legrand   237517\n",
            "3                  ?te  1867744\n",
            "4               .benzo     2453\n",
            "5               .Feast 18297375\n",
            "6 .Feast, Rayssa Dynta  6680548\n"
          ]
        }
      ],
      "source": [
        "%%R\n",
        "streamsArtist<-aggregate(streams ~ artist, spotifyChart, FUN=sum)\n",
        "head(streamsArtist)"
      ]
    },
    {
      "cell_type": "markdown",
      "metadata": {
        "id": "lM1P9z2sH1MA"
      },
      "source": [
        "Se muestran los 20 artistas con más reproducciones:"
      ]
    },
    {
      "cell_type": "code",
      "execution_count": null,
      "metadata": {
        "colab": {
          "base_uri": "https://localhost:8080/"
        },
        "id": "sS5Lsa-RH3LS",
        "outputId": "361dad1a-14e2-4e21-f6d2-b16b153a6de5"
      },
      "outputs": [
        {
          "name": "stdout",
          "output_type": "stream",
          "text": [
            "               artist     streams\n",
            "10040      Ed Sheeran 22741603960\n",
            "28531     Post Malone 19197177105\n",
            "9660            Drake 17796165273\n",
            "4276    Billie Eilish 16831058618\n",
            "2564    Ariana Grande 15187905538\n",
            "37384    XXXTENTACION 12009158612\n",
            "9765         Dua Lipa 11896985612\n",
            "17363      Juice WRLD 11689143660\n",
            "34721      The Weeknd 11588902960\n",
            "35473    Travis Scott  9152387455\n",
            "17580   Justin Bieber  8886085467\n",
            "27035  Olivia Rodrigo  8816319776\n",
            "3367        Bad Bunny  8638114412\n",
            "15095 Imagine Dragons  7262605685\n",
            "14052    Harry Styles  6942072330\n",
            "20737       Lil Nas X  6913373967\n",
            "34088    Taylor Swift  6853427079\n",
            "18706          Khalid  6741307791\n",
            "20524   Lewis Capaldi  6663780227\n",
            "5350              BTS  6572845548\n"
          ]
        }
      ],
      "source": [
        "%%R\n",
        "streamsArtist[order(-streamsArtist$streams), ][1:20,]"
      ]
    },
    {
      "cell_type": "code",
      "execution_count": null,
      "metadata": {
        "colab": {
          "base_uri": "https://localhost:8080/",
          "height": 497
        },
        "id": "wGDPAyw0H-at",
        "outputId": "da600b0e-59fc-47ba-9561-359f2b9774e8"
      },
      "outputs": [
        {
          "data": {
            "image/png": "[encoded data removed]"
          },
          "metadata": {},
          "output_type": "display_data"
        }
      ],
      "source": [
        "%%R\n",
        "ggplot(streamsArtist[order(-streamsArtist$streams), ][1:20,]) +   # asociamos un data frame a ggplot\n",
        "  geom_bar(aes(x = reorder(artist, streams), y = streams), stat=\"identity\") +   # creamos un grafico de barras como una capa\n",
        "  coord_flip() +  # transformamos el grafico invirtiendo los ejes de coordenadas (sólo visualmente)\n",
        "  ggtitle(\"Los 20 artistas con mayor cantidad de repoducciones\") + # título\n",
        "  xlab(\"Artista\") + ylab(\"Cantidad\")  # etiquetas"
      ]
    },
    {
      "cell_type": "code",
      "execution_count": null,
      "metadata": {
        "id": "XiYvygshICAq"
      },
      "outputs": [],
      "source": [
        "%%R\n",
        "subsetArtist<-subset(spotifyChart, artist %in% streamsArtist[order(-streamsArtist$streams), ][1:5,]$artist)"
      ]
    },
    {
      "cell_type": "markdown",
      "metadata": {
        "id": "2ZtIQS4tIE5Y"
      },
      "source": [
        "Cambiamos el formato de la fecha desde string a date"
      ]
    },
    {
      "cell_type": "code",
      "execution_count": null,
      "metadata": {
        "id": "QA2_CA9pIGKJ"
      },
      "outputs": [],
      "source": [
        "%%R\n",
        "topChile$date<-as.Date(topChile$date)\n",
        "subsetArtist$date<-as.Date(subsetArtist$date)"
      ]
    },
    {
      "cell_type": "code",
      "execution_count": null,
      "metadata": {
        "colab": {
          "base_uri": "https://localhost:8080/",
          "height": 497
        },
        "id": "I5vZzcQuIKtH",
        "outputId": "3bb3e601-1afb-476b-fb18-249cb483764f"
      },
      "outputs": [
        {
          "data": {
            "image/png": "[encoded data removed]"
          },
          "metadata": {},
          "output_type": "display_data"
        }
      ],
      "source": [
        "%%R\n",
        "ggplot(subsetArtist) +   # asociamos un data frame a ggplot\n",
        "  geom_line(aes(x = date, y = streams , colour = artist ), stat=\"identity\") +   # creamos un grafico de barras como una capa\n",
        "  ggtitle(\"Evolucion de reproducciones en los artistas mas eschuchados\") + # título\n",
        "  xlab(\"Fecha\") + ylab(\"Cantidad\")  # etiquetas"
      ]
    },
    {
      "cell_type": "markdown",
      "metadata": {
        "id": "NDaW3oEtIPRC"
      },
      "source": [
        "##### Centrándose en un sólo artista"
      ]
    },
    {
      "cell_type": "code",
      "execution_count": null,
      "metadata": {
        "colab": {
          "base_uri": "https://localhost:8080/",
          "height": 497
        },
        "id": "4MgSnBYtIRvy",
        "outputId": "0c15af81-fa20-47ee-cdfa-594d20c48b5e"
      },
      "outputs": [
        {
          "data": {
            "image/png": "[encoded data removed]"
          },
          "metadata": {},
          "output_type": "display_data"
        }
      ],
      "source": [
        "%%R\n",
        "subEd<-aggregate(rank ~ artist+date, topChile, FUN=min)\n",
        "subEd <- with(subEd, subEd[artist == 'Ed Sheeran', ])\n",
        "ggplot(subEd) +\n",
        "  geom_line(aes(x = date, y = rank), stat=\"identity\", color='coral') + \n",
        "    scale_y_reverse() +\n",
        "  ggtitle(\"Mejor ranking de alguna canción de Ed Sheeran durante el tiempo\") + \n",
        "  xlab(\"Date\") + ylab(\"Rank\")"
      ]
    },
    {
      "cell_type": "markdown",
      "metadata": {
        "id": "jZAc8T9UIW-P"
      },
      "source": [
        "#### Caracterización por canciones"
      ]
    },
    {
      "cell_type": "markdown",
      "metadata": {
        "id": "ETY0SWRkIZMY"
      },
      "source": [
        "Luego, una tabla con la cantidad de streams por canción:"
      ]
    },
    {
      "cell_type": "code",
      "execution_count": null,
      "metadata": {
        "id": "zo7zalRzIZqF"
      },
      "outputs": [],
      "source": [
        "%%R\n",
        "streamsTitle<-aggregate(streams ~ title + artist, spotifyChart, FUN=sum)"
      ]
    },
    {
      "cell_type": "markdown",
      "metadata": {
        "id": "ytoqQNz4Icuh"
      },
      "source": [
        "Y aquí se muestran las 10 canciones más reproducidas:"
      ]
    },
    {
      "cell_type": "code",
      "execution_count": null,
      "metadata": {
        "colab": {
          "base_uri": "https://localhost:8080/"
        },
        "id": "ToK24M6PIeIw",
        "outputId": "b142d007-8bd6-4bb7-cd89-45a170056af2"
      },
      "outputs": [
        {
          "name": "stdout",
          "output_type": "stream",
          "text": [
            "                                              title\n",
            "25457                                  Shape of You\n",
            "90788                               Blinding Lights\n",
            "92210                                  Dance Monkey\n",
            "53711                             Someone You Loved\n",
            "74794 Sunflower - Spider-Man: Into the Spider-Verse\n",
            "83500                                      Señorita\n",
            "11102                                       bad guy\n",
            "24667                               Don't Start Now\n",
            "44922                                  Lucid Dreams\n",
            "39007                                      Believer\n",
            "                            artist    streams\n",
            "25457                   Ed Sheeran 5195020979\n",
            "90788                   The Weeknd 5025539799\n",
            "92210                  Tones And I 4497591845\n",
            "53711                Lewis Capaldi 3919387236\n",
            "74794        Post Malone, Swae Lee 3711068758\n",
            "83500 Shawn Mendes, Camila Cabello 3552457038\n",
            "11102                Billie Eilish 3464498734\n",
            "24667                     Dua Lipa 3182333314\n",
            "44922                   Juice WRLD 3127515370\n",
            "39007              Imagine Dragons 3049701822\n"
          ]
        }
      ],
      "source": [
        "%%R\n",
        "streamsTitle[order(-streamsTitle$streams), ][1:10,]"
      ]
    },
    {
      "cell_type": "markdown",
      "metadata": {
        "id": "GpOS1SRBIkc8"
      },
      "source": [
        "En la siguiente tabla se registran los 5 artistas con más reproducciones:"
      ]
    },
    {
      "cell_type": "code",
      "execution_count": null,
      "metadata": {
        "colab": {
          "base_uri": "https://localhost:8080/",
          "height": 497
        },
        "id": "z_zx2O7QIk84",
        "outputId": "5c6db761-7642-4717-9e6c-6b6d89d73176"
      },
      "outputs": [
        {
          "data": {
            "image/png": "[encoded data removed]"
          },
          "metadata": {},
          "output_type": "display_data"
        }
      ],
      "source": [
        "%%R\n",
        "ggplot(streamsTitle[order(-streamsTitle$streams), ][1:20,]) +   # asociamos un data frame a ggplot\n",
        "  geom_bar(aes(x = reorder(title, streams), y = streams), stat=\"identity\") +   # creamos un grafico de barras como una capa\n",
        "  coord_flip() +  # transformamos el grafico invirtiendo los ejes de coordenadas (sólo visualmente)\n",
        "  ggtitle(\"Los 20 hits mas reproducidos\") + # título\n",
        "  xlab(\"Cancion\") + ylab(\"Cantidad\")  # etiquetas"
      ]
    },
    {
      "cell_type": "markdown",
      "metadata": {
        "id": "6J_FDcoQImht"
      },
      "source": [
        "##### Centrándose en una canción\n"
      ]
    },
    {
      "cell_type": "markdown",
      "metadata": {
        "id": "mKuZPyWDIt_1"
      },
      "source": [
        "El siguiente procedimiento permite estudiar la variación del ranking para una canción en específico. En este caso se utilizó “Despacito”, por Luis Fonsi y Daddy Yankee."
      ]
    },
    {
      "cell_type": "code",
      "execution_count": null,
      "metadata": {
        "colab": {
          "base_uri": "https://localhost:8080/",
          "height": 497
        },
        "id": "fLupWqlRIvhn",
        "outputId": "4088804d-4542-4c7f-ed45-9952c6edfa85"
      },
      "outputs": [
        {
          "data": {
            "image/png": "[encoded data removed]"
          },
          "metadata": {},
          "output_type": "display_data"
        }
      ],
      "source": [
        "%%R\n",
        "despacito <- topChile[topChile$title == \"Despacito (Featuring Daddy Yankee)\", ]\n",
        "despacito <- despacito[order(despacito$date), ]\n",
        "\n",
        "ggplot(despacito) +\n",
        "  geom_line(aes(x=date, y=rank), stat=\"identity\") +\n",
        "  scale_y_reverse() +\n",
        "  ggtitle(\"Variación en el ranking para Despacito\") + \n",
        "  xlab(\"Fecha\") + ylab(\"rank\")"
      ]
    },
    {
      "cell_type": "markdown",
      "metadata": {
        "id": "M_mWX9nkIzDe"
      },
      "source": [
        "Acá también podemos ver la variación en la cantidad de streams para la misma canción:"
      ]
    },
    {
      "cell_type": "code",
      "execution_count": null,
      "metadata": {
        "colab": {
          "base_uri": "https://localhost:8080/",
          "height": 497
        },
        "id": "T6QcC7NQIzc1",
        "outputId": "acb98645-57b1-4899-dd66-6ffafdcc9439"
      },
      "outputs": [
        {
          "data": {
            "image/png": "[encoded data removed]"
          },
          "metadata": {},
          "output_type": "display_data"
        }
      ],
      "source": [
        "%%R\n",
        "ggplot(despacito) +\n",
        "  geom_line(aes(x=date, y=streams), stat=\"identity\") +\n",
        "  ggtitle(\"Variación de streams para Despacito\") + \n",
        "  xlab(\"Fecha\") + ylab(\"streams\")"
      ]
    },
    {
      "cell_type": "markdown",
      "metadata": {
        "id": "LRmZIfE-CP5O"
      },
      "source": [
        "## Corrección Hito 1"
      ]
    },
    {
      "cell_type": "markdown",
      "metadata": {
        "id": "cK4qIM5aCTNS"
      },
      "source": [
        "Tomamos en consideración varios comentarios presentados en la evaluación del hito 1. Entre estos destacan los siguientes:\n",
        "\n",
        "- Mostrar aumento en cantidad de streamings después de iniciada la pandemia. Dentro de nuestra motivación para estudiar datasets correspondiente a Spotify, mencionamos sobre un aumento en la cantidad de streamings desde que inició la pandemia y no demostramos este hecho en la primera entrega. Esto se puede ver con la cantidad de Streams totales a nivel global."
      ]
    },
    {
      "cell_type": "code",
      "execution_count": null,
      "metadata": {
        "colab": {
          "base_uri": "https://localhost:8080/",
          "height": 497
        },
        "id": "LQgQf3y8FQ-K",
        "outputId": "fb19b712-0144-4b5c-94b6-b22e010404df"
      },
      "outputs": [
        {
          "data": {
            "image/png": "[encoded data removed]"
          },
          "metadata": {},
          "output_type": "display_data"
        }
      ],
      "source": [
        "%%R\n",
        "topGlobal <- spotifyChart[spotifyChart$region == 'Global', ]\n",
        "topGlobal$date = as.Date(topGlobal$date)\n",
        "topGlobal <- aggregate(streams ~ date, topGlobal, FUN=sum)\n",
        "topGlobal <- topGlobal[order(topGlobal$date), ]\n",
        "\n",
        "\n",
        "ggplot(topGlobal) +\n",
        "  geom_bar(aes(x=date, y=streams), stat='identity') +\n",
        "  ggtitle(\"Cantidad de streams totales a nivel global\") + \n",
        "  xlab(\"Fecha\") + ylab(\"streams\")"
      ]
    },
    {
      "cell_type": "markdown",
      "metadata": {
        "id": "PbYmIXtOb_on"
      },
      "source": [
        "En este gráfico se puede notar como a través de los años la cantidad de streams aumenta levemente, con el peak más alto al inicio del año 2020, finales del 2019."
      ]
    },
    {
      "cell_type": "markdown",
      "metadata": {
        "id": "iGh9lf4-cuav"
      },
      "source": [
        "La segunda observación a considerar es:\n",
        "- No poseemos canciones no exitosas para lograr una comparación entre hits y no hits. Para resolver esta situación, las preguntas que comprenden una separación entre hits y no hits, se realizarán considerando un umbral dentro del top 200 separando hits de super hits. Este umbral se considerará dejando las primeras ? canciones del top 200 como superhits y las demás como hits."
      ]
    },
    {
      "cell_type": "markdown",
      "metadata": {
        "id": "f2qeq6f-eQFc"
      },
      "source": [
        "Por último, una observación clave que se nos realizó fue:\n",
        "\n",
        "- Obtener un dataset que contenga distintas características de las canciones.\n",
        "\n",
        "Esta última observación es de suma importancia, ya que dentro de nuestros problemas planteados se encuentra el reconocer algún súper hit por sus características. Este dataset no se incluyó dentro del primer hito debido a que no lo poseíamos y en un inicio no fue considerado, mas se hizo necesario para dar un análisis con mayor profundidad."
      ]
    },
    {
      "cell_type": "markdown",
      "metadata": {
        "id": "bR8WSjADI07R"
      },
      "source": [
        "## Preguntas y problemas"
      ]
    },
    {
      "cell_type": "markdown",
      "metadata": {
        "id": "e968ysPFI489"
      },
      "source": [
        "### ¿Es posible predecir si una canción va a ser popular según sus características?"
      ]
    },
    {
      "cell_type": "markdown",
      "metadata": {
        "id": "n7Usx11VI6Mt"
      },
      "source": [
        "Esta información es vital para los artistas que busquen ser el próximo hit: si logramos definir las características de las mejores canciones de los últimos años se podría componer una canción que cumpla estas características para tener una mayor probabilidad de ser un hit."
      ]
    },
    {
      "cell_type": "markdown",
      "metadata": {
        "id": "joNw6rPnI7fU"
      },
      "source": [
        "### ¿Qué características tienen en común las canciones de éxito?"
      ]
    },
    {
      "cell_type": "markdown",
      "metadata": {
        "id": "rpve0xeQJD8K"
      },
      "source": [
        "Muchas veces las canciones que escuchamos tienen características en común de las que no nos damos cuenta: con esto podríamos extraerlas y analizar por qué estas canciones son tan populares."
      ]
    },
    {
      "cell_type": "markdown",
      "metadata": {
        "id": "hz0wU5gUJG7U"
      },
      "source": [
        "### ¿Cuales son los géneros más escuchados en cada país o región?"
      ]
    },
    {
      "cell_type": "markdown",
      "metadata": {
        "id": "qnco5pP8JH6G"
      },
      "source": [
        "Existe en el pensamiento colectivo que, por ejemplo, en Latinoamérica se escuchan más las canciones más bailables, y con este estudio podremos confirmar o rechazar esta hipótesis. Estos datos servirán también para los artistas que quieran entrar en una región nueva, entregandoles información de los mejores géneros para esta misma.\n",
        "\n",
        "Dado que esta pregunta es de carácter predictivo y además en nuestros dataset no tenemos el genero de las canciones, usaremos técnicas de clasificación para predecir el género y poder evaluar los géneros en cada país o región. Se etiquetaría manualmente un set de entrenamiento, buscando en internet el género de cierta cantidad de canciones para poder entrenar el clasificador. Para evaluar la calidad de la clasificación usaremos probaremos con distintos algoritmos de clasificación y distintas métricas. Luego probaremos con técnicas de clustering para evaluar si se agrupan según género."
      ]
    },
    {
      "cell_type": "markdown",
      "metadata": {
        "id": "6BXeDnH0JJil"
      },
      "source": [
        "### ¿Es posible predecir si un género será más/menos popular cada año?"
      ]
    },
    {
      "cell_type": "markdown",
      "metadata": {
        "id": "Dnb9zHlGJLYL"
      },
      "source": [
        "Un caso de estudio interesante es el ‘boom’ de los últimos años que ha tenido el trap en Chile: quizás podríamos predecir algún otro fenómeno parecido, o intentar explicar a partir de los datos este último.\n",
        "\n",
        "Dado que la pregunta anterior nos permitirá predecir géneros, podremos evaluar los tipos de géneros que mas y menos se repiten por año y así, con técnicas de clasificación , predecir si un generó será mas o menos popular cada año."
      ]
    },
    {
      "cell_type": "markdown",
      "metadata": {
        "id": "lJBsEDZDKTkO"
      },
      "source": [
        "###  ¿Cuales son los artistas que más han perdurado en el top de reproducciones?"
      ]
    },
    {
      "cell_type": "markdown",
      "metadata": {
        "id": "5bw8MkTvKUiP"
      },
      "source": [
        "Esta información podría ser útil a la hora de dar premios a los mejores artistas de los últimos años.\n",
        "\n",
        "En el caso de esta pregunta, veremos tanto los artistas que han perdurado debido a constantes canciones en el top 10 y tambien los que se han mantenido solo con una sola."
      ]
    },
    {
      "cell_type": "markdown",
      "metadata": {
        "id": "ztYZ69ePKfuH"
      },
      "source": [
        "### ¿Que canciones han perdurado a través del tiempo?"
      ]
    },
    {
      "cell_type": "markdown",
      "metadata": {
        "id": "tqrEftpOKjB_"
      },
      "source": [
        "¿Sienten que Despacito se escuchó a más no poder durante varios años? Con esta información podremos confirmar o rechazar esta idea."
      ]
    },
    {
      "cell_type": "markdown",
      "metadata": {
        "id": "M0DHKO5Rsrtl"
      },
      "source": [
        "## Implementacion de preguntas y problemas\n"
      ]
    },
    {
      "cell_type": "markdown",
      "metadata": {
        "id": "dKZkafxTsx9l"
      },
      "source": [
        "## ¿Es posible predecir si una canción va a ser popular según sus características?\n",
        "Para desarrollar sobre esta pregunta se decidió entrenar un clasificador conectando creando nuevos dataframes conectando con la API de Spotify para obtener las caracteristicas de las canciones.\n"
      ]
    },
    {
      "cell_type": "code",
      "execution_count": null,
      "metadata": {
        "id": "iR7sUiDktpQl"
      },
      "outputs": [],
      "source": [
        "import pandas as pd\n",
        "\n",
        "chileFeatures2020 = pd.read_csv('spotify-charts-features.csv')\n",
        "topChileDf = pd.read_csv('topChile.csv')"
      ]
    },
    {
      "cell_type": "markdown",
      "metadata": {
        "id": "47suAvBHQ9dm"
      },
      "source": [
        "### Exploración del nuevo dataset"
      ]
    },
    {
      "cell_type": "markdown",
      "metadata": {
        "id": "RKi-EKSfRCnW"
      },
      "source": [
        "#### Descripción del dataset"
      ]
    },
    {
      "cell_type": "code",
      "execution_count": null,
      "metadata": {
        "colab": {
          "base_uri": "https://localhost:8080/",
          "height": 313
        },
        "id": "88kVYPH4RBIV",
        "outputId": "7b52577e-173e-4f36-d9be-389a4d2d1c03"
      },
      "outputs": [
        {
          "data": {
            "text/html": [
              "<div>\n",
              "<style scoped>\n",
              "    .dataframe tbody tr th:only-of-type {\n",
              "        vertical-align: middle;\n",
              "    }\n",
              "\n",
              "    .dataframe tbody tr th {\n",
              "        vertical-align: top;\n",
              "    }\n",
              "\n",
              "    .dataframe thead th {\n",
              "        text-align: right;\n",
              "    }\n",
              "</style>\n",
              "<table border=\"1\" class=\"dataframe\">\n",
              "  <thead>\n",
              "    <tr style=\"text-align: right;\">\n",
              "      <th></th>\n",
              "      <th>danceability</th>\n",
              "      <th>energy</th>\n",
              "      <th>key</th>\n",
              "      <th>loudness</th>\n",
              "      <th>mode</th>\n",
              "      <th>speechiness</th>\n",
              "      <th>acousticness</th>\n",
              "      <th>instrumentalness</th>\n",
              "      <th>liveness</th>\n",
              "      <th>valence</th>\n",
              "      <th>tempo</th>\n",
              "      <th>type</th>\n",
              "      <th>id</th>\n",
              "      <th>uri</th>\n",
              "      <th>track_href</th>\n",
              "      <th>analysis_url</th>\n",
              "      <th>duration_ms</th>\n",
              "      <th>time_signature</th>\n",
              "    </tr>\n",
              "  </thead>\n",
              "  <tbody>\n",
              "    <tr>\n",
              "      <th>0</th>\n",
              "      <td>0.801</td>\n",
              "      <td>0.745</td>\n",
              "      <td>6</td>\n",
              "      <td>-3.733</td>\n",
              "      <td>0</td>\n",
              "      <td>0.0630</td>\n",
              "      <td>0.3980</td>\n",
              "      <td>0.006030</td>\n",
              "      <td>0.1530</td>\n",
              "      <td>0.245</td>\n",
              "      <td>104.965</td>\n",
              "      <td>audio_features</td>\n",
              "      <td>3JHpk0DOTOzyh0777JFAky</td>\n",
              "      <td>spotify:track:3JHpk0DOTOzyh0777JFAky</td>\n",
              "      <td>https://api.spotify.com/v1/tracks/3JHpk0DOTOzy...</td>\n",
              "      <td>https://api.spotify.com/v1/audio-analysis/3JHp...</td>\n",
              "      <td>214013</td>\n",
              "      <td>4</td>\n",
              "    </tr>\n",
              "    <tr>\n",
              "      <th>1</th>\n",
              "      <td>0.731</td>\n",
              "      <td>0.573</td>\n",
              "      <td>4</td>\n",
              "      <td>-10.059</td>\n",
              "      <td>0</td>\n",
              "      <td>0.0544</td>\n",
              "      <td>0.4010</td>\n",
              "      <td>0.000052</td>\n",
              "      <td>0.1130</td>\n",
              "      <td>0.145</td>\n",
              "      <td>109.928</td>\n",
              "      <td>audio_features</td>\n",
              "      <td>4MzXwWMhyBbmu6hOcLVD49</td>\n",
              "      <td>spotify:track:4MzXwWMhyBbmu6hOcLVD49</td>\n",
              "      <td>https://api.spotify.com/v1/tracks/4MzXwWMhyBbm...</td>\n",
              "      <td>https://api.spotify.com/v1/audio-analysis/4MzX...</td>\n",
              "      <td>205090</td>\n",
              "      <td>4</td>\n",
              "    </tr>\n",
              "    <tr>\n",
              "      <th>2</th>\n",
              "      <td>0.863</td>\n",
              "      <td>0.666</td>\n",
              "      <td>1</td>\n",
              "      <td>-4.158</td>\n",
              "      <td>0</td>\n",
              "      <td>0.1520</td>\n",
              "      <td>0.2120</td>\n",
              "      <td>0.000493</td>\n",
              "      <td>0.1030</td>\n",
              "      <td>0.838</td>\n",
              "      <td>163.908</td>\n",
              "      <td>audio_features</td>\n",
              "      <td>7vrJn5hDSXRmdXoR30KgF1</td>\n",
              "      <td>spotify:track:7vrJn5hDSXRmdXoR30KgF1</td>\n",
              "      <td>https://api.spotify.com/v1/tracks/7vrJn5hDSXRm...</td>\n",
              "      <td>https://api.spotify.com/v1/audio-analysis/7vrJ...</td>\n",
              "      <td>178947</td>\n",
              "      <td>4</td>\n",
              "    </tr>\n",
              "    <tr>\n",
              "      <th>3</th>\n",
              "      <td>0.856</td>\n",
              "      <td>0.618</td>\n",
              "      <td>7</td>\n",
              "      <td>-4.892</td>\n",
              "      <td>1</td>\n",
              "      <td>0.2860</td>\n",
              "      <td>0.0303</td>\n",
              "      <td>0.000000</td>\n",
              "      <td>0.0866</td>\n",
              "      <td>0.391</td>\n",
              "      <td>81.993</td>\n",
              "      <td>audio_features</td>\n",
              "      <td>2XIc1pqjXV3Cr2BQUGNBck</td>\n",
              "      <td>spotify:track:2XIc1pqjXV3Cr2BQUGNBck</td>\n",
              "      <td>https://api.spotify.com/v1/tracks/2XIc1pqjXV3C...</td>\n",
              "      <td>https://api.spotify.com/v1/audio-analysis/2XIc...</td>\n",
              "      <td>203201</td>\n",
              "      <td>4</td>\n",
              "    </tr>\n",
              "    <tr>\n",
              "      <th>4</th>\n",
              "      <td>0.725</td>\n",
              "      <td>0.756</td>\n",
              "      <td>4</td>\n",
              "      <td>-5.013</td>\n",
              "      <td>1</td>\n",
              "      <td>0.0572</td>\n",
              "      <td>0.3620</td>\n",
              "      <td>0.000685</td>\n",
              "      <td>0.1030</td>\n",
              "      <td>0.828</td>\n",
              "      <td>100.070</td>\n",
              "      <td>audio_features</td>\n",
              "      <td>3VvA1wSxukMLsvXoXtlwWx</td>\n",
              "      <td>spotify:track:3VvA1wSxukMLsvXoXtlwWx</td>\n",
              "      <td>https://api.spotify.com/v1/tracks/3VvA1wSxukML...</td>\n",
              "      <td>https://api.spotify.com/v1/audio-analysis/3VvA...</td>\n",
              "      <td>186133</td>\n",
              "      <td>4</td>\n",
              "    </tr>\n",
              "  </tbody>\n",
              "</table>\n",
              "</div>"
            ],
            "text/plain": [
              "   danceability  energy  ...  duration_ms  time_signature\n",
              "0         0.801   0.745  ...       214013               4\n",
              "1         0.731   0.573  ...       205090               4\n",
              "2         0.863   0.666  ...       178947               4\n",
              "3         0.856   0.618  ...       203201               4\n",
              "4         0.725   0.756  ...       186133               4\n",
              "\n",
              "[5 rows x 18 columns]"
            ]
          },
          "execution_count": 43,
          "metadata": {},
          "output_type": "execute_result"
        }
      ],
      "source": [
        "chileFeatures2020.head()"
      ]
    },
    {
      "cell_type": "markdown",
      "metadata": {
        "id": "tWk70CnJRWIO"
      },
      "source": [
        "Los atributos que nos interesan para la exploración del nuevo dataset son:\n",
        "\n",
        "\n",
        "*   **danceability:** Valor entre 0 y 1 de que tan bailable es una canción\n",
        "*   **energy:** Valor entre 0 y 1 que representa la intensidad y actividad de una canción\n",
        "*   **key:** La llave en la que está la canción\n",
        "*   **loudness:** la intensidad promedio de la cancion (en dB). El valor está promediado entre todas las canciones de Spotify y varía, en este dataset, entre -27 y 1.\n",
        "*   **mode:** El modo de la canción, mayor es 1 y menor es 0.\n",
        "*   **speechiness:** Valor entre 0 y 1 de si hay presencia de letra cantada en la canción. Un valor sobre 0.66 indica que, con gran probabilidad, la canción está compuesta únicamente de letras, entre 0.66 y 0.33 que contiene tanto letras como instrumentos y menor a 0.33 que contiene únicamente instrumentos.\n",
        "*   **acousticness:** medida entre 0 y 1 de que tan acústica es una canción\n",
        "*   **instrumentalness:** valor entre 0 y de que tan instrumantal es una canción. Se condideran con alta probabilidad, que una canción que tiene un valor sobre 0.5 es completamente instrumental.\n",
        "*   **valence:** Valor entre 0 y 1 que descibe la positividad que entrega la canción. \n",
        "*   **tempo:** El tempo promedio estimado de la canción, en BPM.\n",
        "*   **duration_ms:** Duración de la canción en milisegundos\n",
        "\n",
        "Por lo tanto, vamos a quedarnos sólo con esas columnas, y vamos a sacar las filas repetidas:"
      ]
    },
    {
      "cell_type": "code",
      "execution_count": null,
      "metadata": {
        "colab": {
          "base_uri": "https://localhost:8080/"
        },
        "id": "Sf4O84ONR8G2",
        "outputId": "2b2f23dc-2abd-4a12-e829-ad2ebe0b42ca"
      },
      "outputs": [
        {
          "name": "stdout",
          "output_type": "stream",
          "text": [
            "<class 'pandas.core.frame.DataFrame'>\n",
            "Int64Index: 1198 entries, 0 to 60693\n",
            "Data columns (total 12 columns):\n",
            " #   Column            Dtype  \n",
            "---  ------            -----  \n",
            " 0   danceability      float64\n",
            " 1   energy            float64\n",
            " 2   key               int64  \n",
            " 3   loudness          float64\n",
            " 4   mode              int64  \n",
            " 5   speechiness       float64\n",
            " 6   acousticness      float64\n",
            " 7   instrumentalness  float64\n",
            " 8   liveness          float64\n",
            " 9   valence           float64\n",
            " 10  tempo             float64\n",
            " 11  duration_ms       int64  \n",
            "dtypes: float64(9), int64(3)"
          ]
        }
      ],
      "source": [
        "chileFeatures2020_expl = chileFeatures2020[~chileFeatures2020.duplicated() == 1] # sacamos los duplicados\n",
        "columns = ['danceability', 'energy', 'key', 'loudness', 'mode', 'speechiness', 'acousticness', 'instrumentalness', 'liveness', 'valence', 'tempo', 'duration_ms'] # las columnas que nos interesan\n",
        "chileFeatures2020_expl = chileFeatures2020_expl[columns]\n",
        "chileFeatures2020_expl.info(memory_usage=False, null_counts=False)\n",
        "# print(chileFeatures2020_expl.info())"
      ]
    },
    {
      "cell_type": "markdown",
      "metadata": {
        "id": "lh4j-7RUSTuk"
      },
      "source": [
        "Veamos la correlación entre los distintos atributos:"
      ]
    },
    {
      "cell_type": "code",
      "execution_count": null,
      "metadata": {
        "colab": {
          "base_uri": "https://localhost:8080/",
          "height": 346
        },
        "id": "NlbEZsKpSZx1",
        "outputId": "88dbafbd-b498-4dfe-8170-81c29838cbe1"
      },
      "outputs": [
        {
          "data": {
            "image/png": "[encoded data removed]",
            "text/plain": [
              "<Figure size 432x288 with 2 Axes>"
            ]
          },
          "metadata": {
            "needs_background": "light"
          },
          "output_type": "display_data"
        }
      ],
      "source": [
        "import seaborn as sns\n",
        "import matplotlib.pyplot as plt\n",
        "\n",
        "corr = chileFeatures2020_expl.corr()\n",
        "sns.heatmap(corr)\n",
        "plt.show()"
      ]
    },
    {
      "cell_type": "markdown",
      "metadata": {
        "id": "9nOyKG6JTXru"
      },
      "source": [
        "Luego, podemos ordenar las correlaciones de más altas a más bajas (en valor absoluto):"
      ]
    },
    {
      "cell_type": "code",
      "execution_count": null,
      "metadata": {
        "colab": {
          "base_uri": "https://localhost:8080/"
        },
        "id": "0QpeA-kTTal1",
        "outputId": "d77b0417-d6e5-40d0-f666-6a951e30ed33"
      },
      "outputs": [
        {
          "name": "stdout",
          "output_type": "stream",
          "text": [
            "Los atributos con una correlación más alta son:\n",
            "energy        loudness        0.626753\n",
            "              valence         0.409171\n",
            "danceability  valence         0.376319\n",
            "loudness      valence         0.284375\n",
            "              danceability    0.212239\n",
            "\n",
            "Mientras que los con una correlación negativa más alta son:\n",
            "acousticness  danceability       -0.185039\n",
            "tempo         danceability       -0.191391\n",
            "danceability  instrumentalness   -0.196543\n",
            "loudness      instrumentalness   -0.274608\n",
            "              acousticness       -0.328957\n"
          ]
        }
      ],
      "source": [
        "correlaciones = corr.unstack().sort_values(ascending=False).drop_duplicates()\n",
        "print('Los atributos con una correlación más alta son:')\n",
        "print(correlaciones[1:6].to_string(header=False))\n",
        "print('\\nMientras que los con una correlación negativa más alta son:')\n",
        "print(correlaciones[-6:-1].to_string(header=False))"
      ]
    },
    {
      "cell_type": "markdown",
      "metadata": {
        "id": "EN5IKQTlVpwx"
      },
      "source": [
        "Podemos ver entonces que el atributo 'energy' tiene alta correlación con los atributos 'loudness' y 'valence'. Esto se ve lógico, debido a que una canción más encendida tiende a ser más fuerte y tiende a ser vista como más positiva. Mientras tanto, los atributos con una correlación negativa más alta son 'loudness' tanto con 'instrumentalness' como con 'acousticness': nuevamente es lógico, debido a que una canción fuerte tiende a ...\n",
        "\n",
        "A continuación, presentaremos gráficos para ver las frecuencias de algunos de los atributos, y así ver a priori como se distribuyen estos dentro de las canciones extraídas con la API:"
      ]
    },
    {
      "cell_type": "code",
      "execution_count": null,
      "metadata": {
        "colab": {
          "base_uri": "https://localhost:8080/",
          "height": 605
        },
        "id": "hofPnkfyWsf0",
        "outputId": "d10a7049-f2c5-4f97-8de8-980087249c22"
      },
      "outputs": [
        {
          "data": {
            "image/png": "[encoded data removed]",
            "text/plain": [
              "<Figure size 864x864 with 7 Axes>"
            ]
          },
          "metadata": {
            "needs_background": "light"
          },
          "output_type": "display_data"
        }
      ],
      "source": [
        "chileFeatures2020_expl[['danceability', 'energy', 'speechiness', 'acousticness', 'instrumentalness', 'liveness', 'valence']].plot.hist(subplots=True, figsize=(12, 12))\n",
        "plt.show()"
      ]
    },
    {
      "cell_type": "markdown",
      "metadata": {
        "id": "pHiimr2_iyQZ"
      },
      "source": [
        "Tambien se pueden ver las frecuencias de las variables categóricas:"
      ]
    },
    {
      "cell_type": "code",
      "execution_count": null,
      "metadata": {
        "colab": {
          "base_uri": "https://localhost:8080/",
          "height": 397
        },
        "id": "XW3Emv5XfRaa",
        "outputId": "2e98f695-f61f-4c43-a00e-baa8b57ef58e"
      },
      "outputs": [
        {
          "data": {
            "image/png": "[encoded data removed]",
            "text/plain": [
              "<Figure size 936x936 with 2 Axes>"
            ]
          },
          "metadata": {},
          "output_type": "display_data"
        }
      ],
      "source": [
        "key = chileFeatures2020_expl.groupby(['key'])['danceability'].count().rename('Cantidad')\n",
        "mode = chileFeatures2020_expl.groupby(['mode'])['danceability'].count().rename('Cantidad')\n",
        "\n",
        "fig, axes = plt.subplots(1,2, figsize=(13,13))\n",
        "\n",
        "axes[0].pie(key, labels=key.index)\n",
        "axes[0].set_title(\"Frecuencia de cada valor de 'key'\")\n",
        "\n",
        "axes[1].pie(mode, labels=mode.index)\n",
        "axes[1].set_title(\"Frecuencia de cada valor de 'mode'\")\n",
        "\n",
        "plt.show()"
      ]
    },
    {
      "cell_type": "markdown",
      "metadata": {
        "id": "NBGOvaT6jHT2"
      },
      "source": [
        "Igualmente podemos ver algún gráfico scatter entre 2 variables, elijamos las con mayor correlación positiva y negativa:"
      ]
    },
    {
      "cell_type": "code",
      "execution_count": null,
      "metadata": {
        "colab": {
          "base_uri": "https://localhost:8080/",
          "height": 347
        },
        "id": "y35ZaUOijVUJ",
        "outputId": "7e8eb923-fa06-4fa0-e4c2-527682ee62e3"
      },
      "outputs": [
        {
          "data": {
            "image/png": "[encoded data removed]",
            "text/plain": [
              "<Figure size 1152x576 with 2 Axes>"
            ]
          },
          "metadata": {
            "needs_background": "light"
          },
          "output_type": "display_data"
        }
      ],
      "source": [
        "fig, axes = plt.subplots(1,2, figsize=(16,8))\n",
        "\n",
        "axes[0].scatter(chileFeatures2020_expl['loudness'], chileFeatures2020_expl['energy'])\n",
        "axes[0].set_xlabel('loudness')\n",
        "axes[0].set_ylabel('energy')\n",
        "axes[0].set_title(\"'energy' en función de 'loudness'\")\n",
        "\n",
        "axes[1].scatter(chileFeatures2020_expl['loudness'], chileFeatures2020_expl['acousticness'], c='g')\n",
        "axes[1].set_xlabel('loudness')\n",
        "axes[1].set_ylabel('acousticness')\n",
        "axes[1].set_title(\"'loudness' en función de 'acousticness'\")\n",
        "\n",
        "# chileFeatures2020_expl[['energy', 'loudness']].plot.scatter(y='energy', x='loudness', figsize=(8,8))\n",
        "plt.show()"
      ]
    },
    {
      "cell_type": "markdown",
      "metadata": {
        "id": "w1Vm8PAPttbl"
      },
      "source": [
        "###Preprocesamiento para poder realizar el Join y agregar las columna de superhit\n",
        "Para definir si una cancion puede ser o no un superhit se toma en cuenta todas las canciones que cuyo rank es menor a 50 para posteriormente poder entrenar un clasificador\n",
        "\n"
      ]
    },
    {
      "cell_type": "code",
      "execution_count": null,
      "metadata": {
        "colab": {
          "base_uri": "https://localhost:8080/"
        },
        "id": "YTIZVgAiWE4A",
        "outputId": "63281b63-f230-4681-d135-851cb0b77a28"
      },
      "outputs": [
        {
          "name": "stdout",
          "output_type": "stream",
          "text": [
            "Mounted at /content/drive\n"
          ]
        }
      ],
      "source": [
        "# from google.colab import drive\n",
        "# import pandas as pd\n",
        "\n",
        "# drive.mount('/content/drive')\n",
        "# chileFeatures2020 = pd.read_csv('/content/drive/MyDrive/spotify-charts-features.csv')\n",
        "# topChileDf = pd.read_csv('/content/drive/MyDrive/topChile.csv')"
      ]
    },
    {
      "cell_type": "code",
      "execution_count": null,
      "metadata": {
        "id": "kl_HaIIQtvJ1"
      },
      "outputs": [],
      "source": [
        "new = topChileDf[\"url\"].str.split(\"track/\", n = 1, expand = True)\n",
        "topChileDf[\"trackID\"] = new[1]\n",
        "\n",
        "# 2021 es hasta septiembre\n",
        "chile2021df = topChileDf[topChileDf[\"date\"]>=\"2021\"]\n",
        "\n",
        "dataframeChile2021Completo = pd.merge(chileFeatures2020, chile2021df, left_on=\"id\", right_on=\"trackID\")\n",
        "dataframeChile2021Completo = dataframeChile2021Completo.dropna(how='any')"
      ]
    },
    {
      "cell_type": "code",
      "execution_count": null,
      "metadata": {
        "id": "1GS6MzFZuB_G"
      },
      "outputs": [],
      "source": [
        "data = dataframeChile2021Completo.drop(columns=[\"type\",\"key\", \"id\", \"mode\", \"uri\", \"track_href\",\"date\", \"analysis_url\", \"time_signature\", \"url\", \"trackID\", \"title\", \"artist\", \"duration_ms\", \"streams\"])\n",
        "data[\"Class\"] = (data[\"rank\"] <= 50).astype(int)\n",
        "data = data.drop(columns=[\"rank\"])"
      ]
    },
    {
      "cell_type": "code",
      "execution_count": null,
      "metadata": {
        "colab": {
          "base_uri": "https://localhost:8080/"
        },
        "id": "NUYeuZlVuKe-",
        "outputId": "988bbe09-44b5-44d5-f766-85f04834f5c5"
      },
      "outputs": [
        {
          "name": "stdout",
          "output_type": "stream",
          "text": [
            "Distribucion de clases original\n"
          ]
        },
        {
          "data": {
            "text/plain": [
              "0    5217688\n",
              "1    2364068\n",
              "Name: Class, dtype: int64"
            ]
          },
          "execution_count": 6,
          "metadata": {},
          "output_type": "execute_result"
        }
      ],
      "source": [
        "print(\"Distribucion de clases original\")\n",
        "data['Class'].value_counts()"
      ]
    },
    {
      "cell_type": "markdown",
      "metadata": {
        "id": "soh9P7lutui2"
      },
      "source": [
        "###Creacion y Entrenamiento del Clasificador\n"
      ]
    },
    {
      "cell_type": "code",
      "execution_count": null,
      "metadata": {
        "colab": {
          "base_uri": "https://localhost:8080/"
        },
        "id": "K_PVwxbluQpl",
        "outputId": "9878d09a-cfbb-4bec-9d3c-b223a0bcaf0b"
      },
      "outputs": [
        {
          "data": {
            "text/plain": [
              "0    3652381\n",
              "1    1654848\n",
              "Name: Class, dtype: int64"
            ]
          },
          "execution_count": 10,
          "metadata": {},
          "output_type": "execute_result"
        }
      ],
      "source": [
        "from sklearn.model_selection import train_test_split\n",
        "data_train, data_test, ytrain, ytest = train_test_split(data, data['Class'], test_size=0.3, stratify=data['Class'])\n",
        "# proporción de clases en el train después de dividir en train-test\n",
        "ytrain.value_counts()"
      ]
    },
    {
      "cell_type": "code",
      "execution_count": null,
      "metadata": {
        "colab": {
          "base_uri": "https://localhost:8080/"
        },
        "id": "oglJyx2jW-aI",
        "outputId": "26d3bc16-54d3-440a-a09e-7132b431d82d"
      },
      "outputs": [
        {
          "name": "stdout",
          "output_type": "stream",
          "text": [
            "Distribución de clases usando (over/sub) sampling\n",
            "\n",
            "Data oversampled on class '1'\n",
            "1    3652381\n",
            "0    3652381\n",
            "Name: Class, dtype: int64\n",
            "\n",
            "Data subsampled on class '0'\n",
            "1    1654848\n",
            "0    1654848\n",
            "Name: Class, dtype: int64\n"
          ]
        }
      ],
      "source": [
        "import numpy as np\n",
        "\n",
        "print(\"Distribución de clases usando (over/sub) sampling\")\n",
        "print()\n",
        "\n",
        "data_train = data_train.reset_index(drop=True)\n",
        "\n",
        "# oversampling sobre la clase 1\n",
        "idx = np.random.choice(data_train[data_train['Class'] == 1].index, size=1997533)\n",
        "data_oversampled = pd.concat([data_train, data_train.iloc[idx]])\n",
        "print(\"Data oversampled on class '1'\")\n",
        "print(data_oversampled['Class'].value_counts())\n",
        "print()\n",
        "\n",
        "\n",
        "# subsampling sobre la clase 0\n",
        "idx = np.random.choice(data_train.loc[data_train.Class == 0].index, size=1997533, replace=False)\n",
        "data_subsampled = data_train.drop(data_train.iloc[idx].index)\n",
        "print(\"Data subsampled on class '0'\")\n",
        "print(data_subsampled['Class'].value_counts())"
      ]
    },
    {
      "cell_type": "code",
      "execution_count": null,
      "metadata": {
        "id": "0mTPaQlquX5O"
      },
      "outputs": [],
      "source": [
        "## ejecutar este código para preparar los datos\n",
        "from sklearn.metrics import classification_report\n",
        "\n",
        "# Preparando los data frames para ser compatibles con sklearn\n",
        "\n",
        "# datos test (mismo para todos los conjuntos de entrenamiento)\n",
        "X_test = data_test[data_train.columns[:-1]] # todo hasta la penultima columna\n",
        "y_test = data_test[data_train.columns[-1]]  # la última columna\n",
        "\n",
        "# datos entrenamiento \"originales\"\n",
        "X_orig = data_train[data_train.columns[:-1]] \n",
        "y_orig = data_train[data_train.columns[-1]] \n",
        "\n",
        "# # datos entrenamiento \"oversampleados\" \n",
        "X_over = data_oversampled[data_train.columns[:-1]]\n",
        "y_over = data_oversampled[data_train.columns[-1]]\n",
        "\n",
        "# # datos entrenamiento \"subsampleados\"\n",
        "X_subs = data_subsampled[data_train.columns[:-1]]\n",
        "y_subs = data_subsampled[data_train.columns[-1]]\n",
        "\n"
      ]
    },
    {
      "cell_type": "code",
      "execution_count": null,
      "metadata": {
        "colab": {
          "base_uri": "https://localhost:8080/"
        },
        "id": "fId_brZcucKV",
        "outputId": "26699242-18e7-4bb4-afc6-cd6c1c67ac18"
      },
      "outputs": [
        {
          "name": "stdout",
          "output_type": "stream",
          "text": [
            "ORIGINAL::::::::::\n",
            "              precision    recall  f1-score   support\n",
            "\n",
            "           0       0.90      0.90      0.90   1565307\n",
            "           1       0.77      0.77      0.77    709220\n",
            "\n",
            "    accuracy                           0.86   2274527\n",
            "   macro avg       0.83      0.83      0.83   2274527\n",
            "weighted avg       0.86      0.86      0.86   2274527\n",
            "\n",
            "OVERSAMPLING::::::::::\n",
            "              precision    recall  f1-score   support\n",
            "\n",
            "           0       0.96      0.80      0.87   1565307\n",
            "           1       0.68      0.93      0.78    709220\n",
            "\n",
            "    accuracy                           0.84   2274527\n",
            "   macro avg       0.82      0.87      0.83   2274527\n",
            "weighted avg       0.87      0.84      0.85   2274527\n",
            "\n",
            "SUBSAMPLING::::::::::\n",
            "              precision    recall  f1-score   support\n",
            "\n",
            "           0       0.96      0.80      0.87   1565307\n",
            "           1       0.68      0.93      0.78    709220\n",
            "\n",
            "    accuracy                           0.84   2274527\n",
            "   macro avg       0.82      0.87      0.83   2274527\n",
            "weighted avg       0.87      0.84      0.85   2274527\n",
            "\n"
          ]
        }
      ],
      "source": [
        "from sklearn.tree import DecisionTreeClassifier\n",
        "from sklearn.model_selection import train_test_split\n",
        "\n",
        "## Pasos:\n",
        "##  - instanciar el clasificador con DecisionTreeClassifier()\n",
        "##  - entrenar con fit()\n",
        "##  - hacer las predicciones\n",
        "##  - mostrar precision, recall y f1-score con classification report.\n",
        "\n",
        "print(\"ORIGINAL::::::::::\")\n",
        "clf_orig = DecisionTreeClassifier()\n",
        "clf_orig.fit(X_orig, y_orig)\n",
        "pred_orig = clf_orig.predict(X_test)\n",
        "print(classification_report(y_test, pred_orig))\n",
        "\n",
        "print(\"OVERSAMPLING::::::::::\")\n",
        "clf_over = DecisionTreeClassifier()\n",
        "clf_over.fit(X_over, y_over)\n",
        "pred_over = clf_over.predict(X_test)\n",
        "print(classification_report(y_test, pred_over))\n",
        "\n",
        "print(\"SUBSAMPLING::::::::::\")\n",
        "clf_subs = DecisionTreeClassifier()\n",
        "clf_subs.fit(X_subs, y_subs)\n",
        "pred_subs = clf_subs.predict(X_test)\n",
        "print(classification_report(y_test, pred_subs))"
      ]
    },
    {
      "cell_type": "code",
      "execution_count": null,
      "metadata": {
        "colab": {
          "base_uri": "https://localhost:8080/",
          "height": 316
        },
        "id": "kHb-sWvG8htp",
        "outputId": "24939083-58a7-47b9-d1bd-dfd15398c150"
      },
      "outputs": [
        {
          "data": {
            "image/png": "[encoded data removed]",
            "text/plain": [
              "<Figure size 432x288 with 2 Axes>"
            ]
          },
          "metadata": {},
          "output_type": "display_data"
        }
      ],
      "source": [
        "import matplotlib.pyplot as plt   # importa pyplot\n",
        "import seaborn as sns; sns.set(style=\"ticks\", color_codes=True)   # importa seaborn y configura el estilo\n",
        "from sklearn.metrics import confusion_matrix\n",
        "from sklearn.utils.multiclass import unique_labels\n",
        "\n",
        "# Compute confusion matrix. By default is not normalized (normalize=None)\n",
        "# If necessary change 'y_pred' according to your variable name\n",
        "cm = confusion_matrix(y_test, pred_orig) \n",
        "\n",
        "# Only use the labels that appear in the data\n",
        "classes = unique_labels([\"Hit\", \"SuperHit\"])\n",
        "\n",
        "df = pd.DataFrame(cm, index = classes, columns = classes)\n",
        "\n",
        "g = sns.heatmap(df, annot=True, cmap=\"Blues\" , fmt=\"d\")\n",
        "g.set_yticklabels(g.get_yticklabels(), rotation = 0)\n",
        "\n",
        "plt.title('Confusion matrix Original \\n')\n",
        "plt.xlabel('Predicted label')\n",
        "plt.ylabel('True label')\n",
        "\n",
        "plt.autoscale()"
      ]
    },
    {
      "cell_type": "code",
      "execution_count": null,
      "metadata": {
        "colab": {
          "base_uri": "https://localhost:8080/",
          "height": 316
        },
        "id": "nFWrFLpRbGf-",
        "outputId": "816e5e17-e58a-4505-d587-979f2f836c23"
      },
      "outputs": [
        {
          "data": {
            "image/png": "[encoded data removed]",
            "text/plain": [
              "<Figure size 432x288 with 2 Axes>"
            ]
          },
          "metadata": {},
          "output_type": "display_data"
        }
      ],
      "source": [
        "import matplotlib.pyplot as plt   # importa pyplot\n",
        "import seaborn as sns; sns.set(style=\"ticks\", color_codes=True)   # importa seaborn y configura el estilo\n",
        "from sklearn.metrics import confusion_matrix\n",
        "from sklearn.utils.multiclass import unique_labels\n",
        "\n",
        "# Compute confusion matrix. By default is not normalized (normalize=None)\n",
        "# If necessary change 'y_pred' according to your variable name\n",
        "cm = confusion_matrix(y_test, pred_over) \n",
        "\n",
        "# Only use the labels that appear in the data\n",
        "classes = unique_labels([\"Hit\", \"SuperHit\"])\n",
        "\n",
        "df = pd.DataFrame(cm, index = classes, columns = classes)\n",
        "\n",
        "g = sns.heatmap(df, annot=True, cmap=\"Blues\" , fmt=\"d\")\n",
        "g.set_yticklabels(g.get_yticklabels(), rotation = 0)\n",
        "\n",
        "plt.title('Confusion matrix Oversampled \\n')\n",
        "plt.xlabel('Predicted label')\n",
        "plt.ylabel('True label')\n",
        "\n",
        "plt.autoscale()"
      ]
    },
    {
      "cell_type": "code",
      "execution_count": null,
      "metadata": {
        "colab": {
          "base_uri": "https://localhost:8080/",
          "height": 316
        },
        "id": "W7iuXb2kcj-X",
        "outputId": "a33f635d-b298-4d2b-b65b-52cdaf0e6b5a"
      },
      "outputs": [
        {
          "data": {
            "image/png": "[encoded data removed]",
            "text/plain": [
              "<Figure size 432x288 with 2 Axes>"
            ]
          },
          "metadata": {},
          "output_type": "display_data"
        }
      ],
      "source": [
        "import matplotlib.pyplot as plt   # importa pyplot\n",
        "import seaborn as sns; sns.set(style=\"ticks\", color_codes=True)   # importa seaborn y configura el estilo\n",
        "from sklearn.metrics import confusion_matrix\n",
        "from sklearn.utils.multiclass import unique_labels\n",
        "\n",
        "# Compute confusion matrix. By default is not normalized (normalize=None)\n",
        "# If necessary change 'y_pred' according to your variable name\n",
        "cm = confusion_matrix(y_test, pred_subs) \n",
        "\n",
        "# Only use the labels that appear in the data\n",
        "classes = unique_labels([\"Hit\", \"SuperHit\"])\n",
        "\n",
        "df = pd.DataFrame(cm, index = classes, columns = classes)\n",
        "\n",
        "g = sns.heatmap(df, annot=True, cmap=\"Blues\" , fmt=\"d\")\n",
        "g.set_yticklabels(g.get_yticklabels(), rotation = 0)\n",
        "\n",
        "plt.title('Confusion matrix Subsampled \\n')\n",
        "plt.xlabel('Predicted label')\n",
        "plt.ylabel('True label')\n",
        "\n",
        "plt.autoscale()"
      ]
    },
    {
      "cell_type": "markdown",
      "metadata": {
        "id": "gwPaCTAydguf"
      },
      "source": [
        "Como se puede observar al realizar subsampling el clasificador predice mejor los superhits, pero a cambio se aumenta la probabilidad de que una cancion sea categorizada como superHit cuando esta no lo es(Error de tipo 1)."
      ]
    },
    {
      "cell_type": "markdown",
      "metadata": {
        "id": "vCzIJTyegneX"
      },
      "source": [
        "Como conclusión encontramos que este clasificador no es lo suficientemente robusto para poder determinar si una cancion será o no un superHit debido a sus metricas y por lo tanto no es posible determinar (con una gran certeza) si una cancion es un superHit a partir de sus atributos cuantitativos entregados por la Spotify API."
      ]
    },
    {
      "cell_type": "markdown",
      "metadata": {
        "id": "mpXQkVAUnues"
      },
      "source": [
        "## ¿Qué características tienen en común las canciones de éxito?"
      ]
    },
    {
      "cell_type": "markdown",
      "metadata": {
        "id": "eg5FdWMvoWmF"
      },
      "source": [
        "Para poder encontrar cuales son las caracteristicas se tienen común se ocuparán técnicas de clustering y se estudiara las distribuciones de los atributos en cada clúster."
      ]
    },
    {
      "cell_type": "markdown",
      "metadata": {
        "id": "rIqvwSCHnNHl"
      },
      "source": [
        "###Preprocesamiento para poder realizar el Join\n",
        "Para poder juntar ambas columnas se procesa el link de reproduccion de cada cancion para extraer su id, con esta mista se realiza un merge de las tablas para correlacionar cada cancion con su respectivas caracteristicas"
      ]
    },
    {
      "cell_type": "code",
      "execution_count": null,
      "metadata": {
        "colab": {
          "base_uri": "https://localhost:8080/",
          "height": 424
        },
        "id": "FftA8mgTnYLe",
        "outputId": "663a77e3-5418-465e-ed9a-9e994f97a37f"
      },
      "outputs": [
        {
          "data": {
            "text/html": [
              "<div>\n",
              "<style scoped>\n",
              "    .dataframe tbody tr th:only-of-type {\n",
              "        vertical-align: middle;\n",
              "    }\n",
              "\n",
              "    .dataframe tbody tr th {\n",
              "        vertical-align: top;\n",
              "    }\n",
              "\n",
              "    .dataframe thead th {\n",
              "        text-align: right;\n",
              "    }\n",
              "</style>\n",
              "<table border=\"1\" class=\"dataframe\">\n",
              "  <thead>\n",
              "    <tr style=\"text-align: right;\">\n",
              "      <th></th>\n",
              "      <th>danceability</th>\n",
              "      <th>energy</th>\n",
              "      <th>loudness</th>\n",
              "      <th>speechiness</th>\n",
              "      <th>acousticness</th>\n",
              "      <th>instrumentalness</th>\n",
              "      <th>liveness</th>\n",
              "      <th>valence</th>\n",
              "      <th>tempo</th>\n",
              "    </tr>\n",
              "  </thead>\n",
              "  <tbody>\n",
              "    <tr>\n",
              "      <th>0</th>\n",
              "      <td>0.731</td>\n",
              "      <td>0.573</td>\n",
              "      <td>-10.059</td>\n",
              "      <td>0.0544</td>\n",
              "      <td>0.40100</td>\n",
              "      <td>0.000052</td>\n",
              "      <td>0.113</td>\n",
              "      <td>0.145</td>\n",
              "      <td>109.928</td>\n",
              "    </tr>\n",
              "    <tr>\n",
              "      <th>1</th>\n",
              "      <td>0.731</td>\n",
              "      <td>0.573</td>\n",
              "      <td>-10.059</td>\n",
              "      <td>0.0544</td>\n",
              "      <td>0.40100</td>\n",
              "      <td>0.000052</td>\n",
              "      <td>0.113</td>\n",
              "      <td>0.145</td>\n",
              "      <td>109.928</td>\n",
              "    </tr>\n",
              "    <tr>\n",
              "      <th>2</th>\n",
              "      <td>0.731</td>\n",
              "      <td>0.573</td>\n",
              "      <td>-10.059</td>\n",
              "      <td>0.0544</td>\n",
              "      <td>0.40100</td>\n",
              "      <td>0.000052</td>\n",
              "      <td>0.113</td>\n",
              "      <td>0.145</td>\n",
              "      <td>109.928</td>\n",
              "    </tr>\n",
              "    <tr>\n",
              "      <th>3</th>\n",
              "      <td>0.731</td>\n",
              "      <td>0.573</td>\n",
              "      <td>-10.059</td>\n",
              "      <td>0.0544</td>\n",
              "      <td>0.40100</td>\n",
              "      <td>0.000052</td>\n",
              "      <td>0.113</td>\n",
              "      <td>0.145</td>\n",
              "      <td>109.928</td>\n",
              "    </tr>\n",
              "    <tr>\n",
              "      <th>4</th>\n",
              "      <td>0.731</td>\n",
              "      <td>0.573</td>\n",
              "      <td>-10.059</td>\n",
              "      <td>0.0544</td>\n",
              "      <td>0.40100</td>\n",
              "      <td>0.000052</td>\n",
              "      <td>0.113</td>\n",
              "      <td>0.145</td>\n",
              "      <td>109.928</td>\n",
              "    </tr>\n",
              "    <tr>\n",
              "      <th>...</th>\n",
              "      <td>...</td>\n",
              "      <td>...</td>\n",
              "      <td>...</td>\n",
              "      <td>...</td>\n",
              "      <td>...</td>\n",
              "      <td>...</td>\n",
              "      <td>...</td>\n",
              "      <td>...</td>\n",
              "      <td>...</td>\n",
              "    </tr>\n",
              "    <tr>\n",
              "      <th>2325788</th>\n",
              "      <td>0.702</td>\n",
              "      <td>0.741</td>\n",
              "      <td>-5.330</td>\n",
              "      <td>0.0427</td>\n",
              "      <td>0.00544</td>\n",
              "      <td>0.000000</td>\n",
              "      <td>0.337</td>\n",
              "      <td>0.646</td>\n",
              "      <td>124.925</td>\n",
              "    </tr>\n",
              "    <tr>\n",
              "      <th>2325789</th>\n",
              "      <td>0.702</td>\n",
              "      <td>0.741</td>\n",
              "      <td>-5.330</td>\n",
              "      <td>0.0427</td>\n",
              "      <td>0.00544</td>\n",
              "      <td>0.000000</td>\n",
              "      <td>0.337</td>\n",
              "      <td>0.646</td>\n",
              "      <td>124.925</td>\n",
              "    </tr>\n",
              "    <tr>\n",
              "      <th>2325790</th>\n",
              "      <td>0.702</td>\n",
              "      <td>0.741</td>\n",
              "      <td>-5.330</td>\n",
              "      <td>0.0427</td>\n",
              "      <td>0.00544</td>\n",
              "      <td>0.000000</td>\n",
              "      <td>0.337</td>\n",
              "      <td>0.646</td>\n",
              "      <td>124.925</td>\n",
              "    </tr>\n",
              "    <tr>\n",
              "      <th>2325791</th>\n",
              "      <td>0.702</td>\n",
              "      <td>0.741</td>\n",
              "      <td>-5.330</td>\n",
              "      <td>0.0427</td>\n",
              "      <td>0.00544</td>\n",
              "      <td>0.000000</td>\n",
              "      <td>0.337</td>\n",
              "      <td>0.646</td>\n",
              "      <td>124.925</td>\n",
              "    </tr>\n",
              "    <tr>\n",
              "      <th>2325792</th>\n",
              "      <td>0.702</td>\n",
              "      <td>0.741</td>\n",
              "      <td>-5.330</td>\n",
              "      <td>0.0427</td>\n",
              "      <td>0.00544</td>\n",
              "      <td>0.000000</td>\n",
              "      <td>0.337</td>\n",
              "      <td>0.646</td>\n",
              "      <td>124.925</td>\n",
              "    </tr>\n",
              "  </tbody>\n",
              "</table>\n",
              "<p>2325793 rows × 9 columns</p>\n",
              "</div>"
            ],
            "text/plain": [
              "         danceability  energy  loudness  ...  liveness  valence    tempo\n",
              "0               0.731   0.573   -10.059  ...     0.113    0.145  109.928\n",
              "1               0.731   0.573   -10.059  ...     0.113    0.145  109.928\n",
              "2               0.731   0.573   -10.059  ...     0.113    0.145  109.928\n",
              "3               0.731   0.573   -10.059  ...     0.113    0.145  109.928\n",
              "4               0.731   0.573   -10.059  ...     0.113    0.145  109.928\n",
              "...               ...     ...       ...  ...       ...      ...      ...\n",
              "2325788         0.702   0.741    -5.330  ...     0.337    0.646  124.925\n",
              "2325789         0.702   0.741    -5.330  ...     0.337    0.646  124.925\n",
              "2325790         0.702   0.741    -5.330  ...     0.337    0.646  124.925\n",
              "2325791         0.702   0.741    -5.330  ...     0.337    0.646  124.925\n",
              "2325792         0.702   0.741    -5.330  ...     0.337    0.646  124.925\n",
              "\n",
              "[2325793 rows x 9 columns]"
            ]
          },
          "execution_count": 2,
          "metadata": {},
          "output_type": "execute_result"
        }
      ],
      "source": [
        "topChileDf=topChileDf[topChileDf[\"rank\"]<50]\n",
        "new = topChileDf[\"url\"].str.split(\"track/\", n = 1, expand = True)\n",
        "topChileDf[\"trackID\"] = new[1]\n",
        "\n",
        "# 2021 es hasta septiembre\n",
        "chile2021df = topChileDf[topChileDf[\"date\"]>=\"2021\"]\n",
        "\n",
        "dataframeChile2021Completo = pd.merge(chileFeatures2020, chile2021df, left_on=\"id\", right_on=\"trackID\")\n",
        "dataframeChile2021Completo = dataframeChile2021Completo.dropna(how='any')\n",
        "X = dataframeChile2021Completo.drop(columns=[\"type\",\"key\", \"id\", \"mode\", \"uri\", \"track_href\",\"date\", \"analysis_url\", \"time_signature\", \"url\", \"trackID\", \"title\", \"rank\", \"artist\", \"duration_ms\", \"streams\"])\n",
        "X = X.reset_index(drop=True)\n",
        "X"
      ]
    },
    {
      "cell_type": "markdown",
      "metadata": {
        "id": "1RKq5IFYnhJd"
      },
      "source": [
        "###Clustering\n",
        "Para el proceso de clustering, se decidió usar k-means. Este algoritmo por lo que debemos determinar la cantidad de cluster a generar. La razón principal a utilizar k-means radica principalmente en el tiempo de ejecucion por el gran volumen de datos. Para encontrar el numero de clusters, se usó el método del codo como se muestra a continuación:"
      ]
    },
    {
      "cell_type": "code",
      "execution_count": null,
      "metadata": {
        "colab": {
          "base_uri": "https://localhost:8080/",
          "height": 281
        },
        "id": "jCktQ7X7nhx1",
        "outputId": "772145d2-dd46-401b-9722-2291d4fff84a"
      },
      "outputs": [
        {
          "data": {
            "image/png": "[encoded data removed]",
            "text/plain": [
              "<Figure size 432x288 with 1 Axes>"
            ]
          },
          "metadata": {
            "needs_background": "light"
          },
          "output_type": "display_data"
        }
      ],
      "source": [
        "# metodo del codo\n",
        "from sklearn.cluster import KMeans\n",
        "from sklearn import datasets\n",
        "import matplotlib.pyplot as plt\n",
        "\n",
        "sse = []\n",
        "\n",
        "clusters = list(range(1, 10))\n",
        "for k in clusters:\n",
        "    # print(k)\n",
        "    kmeans = KMeans(n_clusters=k).fit(X)\n",
        "    sse.append(kmeans.inertia_)\n",
        "\n",
        "plt.plot(clusters, sse, marker=\"o\")\n",
        "plt.title(\"Metodo del codo de 1 a 10 clusters\")\n",
        "plt.grid(True)\n",
        "plt.show()"
      ]
    },
    {
      "cell_type": "markdown",
      "metadata": {
        "id": "k1mgryTEnlkv"
      },
      "source": [
        "El número de clusters óptimo encontrado es k = 3. A continuación, se muestra el resultado del clustering, debido a la alta dimensionalidad  de los datos se utilizara PCA para reducir los datos a dos dimensiones."
      ]
    },
    {
      "cell_type": "code",
      "execution_count": null,
      "metadata": {
        "id": "ZvKKjASmnkZO"
      },
      "outputs": [],
      "source": [
        "from sklearn.decomposition import PCA\n",
        "from sklearn.manifold import TSNE\n",
        "\n",
        "new_X = PCA(n_components=2, random_state=12).fit_transform(X)\n",
        "# new_y = TSNE(n_components=2, random_state=12).fit_transform(X) //TSNE se descarto ya que consume mas de 25gb de RAM al ejecutar"
      ]
    },
    {
      "cell_type": "code",
      "execution_count": null,
      "metadata": {
        "colab": {
          "base_uri": "https://localhost:8080/",
          "height": 281
        },
        "id": "Dbbvk9ftnvK1",
        "outputId": "dbae9e48-d75b-4ed9-b111-373b13e92799"
      },
      "outputs": [
        {
          "data": {
            "image/png": "[encoded data removed]",
            "text/plain": [
              "<Figure size 432x288 with 1 Axes>"
            ]
          },
          "metadata": {
            "needs_background": "light"
          },
          "output_type": "display_data"
        }
      ],
      "source": [
        "from sklearn.cluster import KMeans\n",
        "from sklearn import datasets\n",
        "import matplotlib.pyplot as plt\n",
        "random_state = 20\n",
        "kmeans = KMeans(n_clusters=3, random_state=random_state).fit(new_X)\n",
        "plt.scatter(new_X[:, 0], new_X[:, 1], c=kmeans.labels_)\n",
        "plt.title(\"K-Means\")\n",
        "plt.show()"
      ]
    },
    {
      "cell_type": "code",
      "execution_count": null,
      "metadata": {
        "id": "fm-08rJQ0oS7"
      },
      "outputs": [],
      "source": [
        "from sklearn.cluster import KMeans\n",
        "from sklearn import datasets\n",
        "import matplotlib.pyplot as plt\n",
        "kmeans = KMeans(n_clusters=3, random_state=random_state).fit(X)"
      ]
    },
    {
      "cell_type": "code",
      "execution_count": null,
      "metadata": {
        "id": "ICmtnWxa1fYy"
      },
      "outputs": [],
      "source": [
        "X[\"cluster\"]=kmeans.labels_"
      ]
    },
    {
      "cell_type": "code",
      "execution_count": null,
      "metadata": {
        "colab": {
          "base_uri": "https://localhost:8080/",
          "height": 175
        },
        "id": "E5Z4570Q1py9",
        "outputId": "2ad7e85f-59d9-4444-99c2-98cd6373567a"
      },
      "outputs": [
        {
          "data": {
            "text/html": [
              "<div>\n",
              "<style scoped>\n",
              "    .dataframe tbody tr th:only-of-type {\n",
              "        vertical-align: middle;\n",
              "    }\n",
              "\n",
              "    .dataframe tbody tr th {\n",
              "        vertical-align: top;\n",
              "    }\n",
              "\n",
              "    .dataframe thead th {\n",
              "        text-align: right;\n",
              "    }\n",
              "</style>\n",
              "<table border=\"1\" class=\"dataframe\">\n",
              "  <thead>\n",
              "    <tr style=\"text-align: right;\">\n",
              "      <th></th>\n",
              "      <th>danceability</th>\n",
              "      <th>energy</th>\n",
              "      <th>loudness</th>\n",
              "      <th>speechiness</th>\n",
              "      <th>acousticness</th>\n",
              "      <th>instrumentalness</th>\n",
              "      <th>liveness</th>\n",
              "      <th>valence</th>\n",
              "      <th>tempo</th>\n",
              "    </tr>\n",
              "    <tr>\n",
              "      <th>cluster</th>\n",
              "      <th></th>\n",
              "      <th></th>\n",
              "      <th></th>\n",
              "      <th></th>\n",
              "      <th></th>\n",
              "      <th></th>\n",
              "      <th></th>\n",
              "      <th></th>\n",
              "      <th></th>\n",
              "    </tr>\n",
              "  </thead>\n",
              "  <tbody>\n",
              "    <tr>\n",
              "      <th>0</th>\n",
              "      <td>0.736171</td>\n",
              "      <td>0.665706</td>\n",
              "      <td>-5.032742</td>\n",
              "      <td>0.146060</td>\n",
              "      <td>0.219730</td>\n",
              "      <td>0.000202</td>\n",
              "      <td>0.147041</td>\n",
              "      <td>0.654191</td>\n",
              "      <td>170.636821</td>\n",
              "    </tr>\n",
              "    <tr>\n",
              "      <th>1</th>\n",
              "      <td>0.773173</td>\n",
              "      <td>0.702067</td>\n",
              "      <td>-4.850920</td>\n",
              "      <td>0.121631</td>\n",
              "      <td>0.241654</td>\n",
              "      <td>0.000157</td>\n",
              "      <td>0.174586</td>\n",
              "      <td>0.653720</td>\n",
              "      <td>92.477404</td>\n",
              "    </tr>\n",
              "    <tr>\n",
              "      <th>2</th>\n",
              "      <td>0.790436</td>\n",
              "      <td>0.665609</td>\n",
              "      <td>-6.450194</td>\n",
              "      <td>0.086759</td>\n",
              "      <td>0.306801</td>\n",
              "      <td>0.032774</td>\n",
              "      <td>0.152758</td>\n",
              "      <td>0.528785</td>\n",
              "      <td>118.520534</td>\n",
              "    </tr>\n",
              "  </tbody>\n",
              "</table>\n",
              "</div>"
            ],
            "text/plain": [
              "         danceability    energy  loudness  ...  liveness   valence       tempo\n",
              "cluster                                    ...                                \n",
              "0            0.736171  0.665706 -5.032742  ...  0.147041  0.654191  170.636821\n",
              "1            0.773173  0.702067 -4.850920  ...  0.174586  0.653720   92.477404\n",
              "2            0.790436  0.665609 -6.450194  ...  0.152758  0.528785  118.520534\n",
              "\n",
              "[3 rows x 9 columns]"
            ]
          },
          "execution_count": 9,
          "metadata": {},
          "output_type": "execute_result"
        }
      ],
      "source": [
        "X.groupby('cluster').mean()"
      ]
    },
    {
      "cell_type": "markdown",
      "metadata": {
        "id": "35xEXKZGq5Hj"
      },
      "source": [
        "Analizando el promedio de los atributos de cada cluster podemos concluir lo siguiente. Todas las canciones que alcanzaron el top 50 son canciones predominantemente bailables(danceability) e intensas(energy), cuyo temas principales suelen ser de tendencia positiva(ej: Felices, alegres, eufóricas) y como se puede observar en la tabla se tiene un alto rango de diferencia en su intrumentalismo. "
      ]
    },
    {
      "cell_type": "markdown",
      "metadata": {
        "id": "_lNIc8jMun4a"
      },
      "source": [
        "## Artistas que más han perdurado en el top 200."
      ]
    },
    {
      "cell_type": "markdown",
      "metadata": {
        "id": "FBN0aziju_8O"
      },
      "source": [
        "Se estudiará de dos maneras distintas los artistas que más han estado presente en el top. Primero, se tomará el top 10 de canciones y se verá qué artistas han estado presente por la mayor cantidad de tiempo con cualquiera de sus canciones. En un segundo ámbito, se verá qué artistas se han mantenido dentro del top 200 con tan solo una canción."
      ]
    },
    {
      "cell_type": "markdown",
      "metadata": {
        "id": "PYEaRW4Q3lEo"
      },
      "source": [
        "### Artistas presentes en top 10"
      ]
    },
    {
      "cell_type": "markdown",
      "metadata": {
        "id": "xRR_haFx4vHV"
      },
      "source": [
        "Para revisar los artistas se hará tanto a nivel global como en la región chilena. Importamos ambos en distintos dataframes."
      ]
    },
    {
      "cell_type": "code",
      "execution_count": null,
      "metadata": {
        "id": "G-shN4394-iQ"
      },
      "outputs": [],
      "source": [
        "import pandas as pd\n",
        "import matplotlib.pyplot as plt"
      ]
    },
    {
      "cell_type": "code",
      "execution_count": null,
      "metadata": {
        "colab": {
          "base_uri": "https://localhost:8080/",
          "height": 887
        },
        "id": "62FRwW8A5ZG6",
        "outputId": "876cfee0-4967-452a-9769-c0201710cdc0"
      },
      "outputs": [
        {
          "data": {
            "text/html": [
              "\n",
              "  <div id=\"df-140d0d87-ed8c-4bbe-b583-1bc55c578e5b\">\n",
              "    <div class=\"colab-df-container\">\n",
              "      <div>\n",
              "<style scoped>\n",
              "    .dataframe tbody tr th:only-of-type {\n",
              "        vertical-align: middle;\n",
              "    }\n",
              "\n",
              "    .dataframe tbody tr th {\n",
              "        vertical-align: top;\n",
              "    }\n",
              "\n",
              "    .dataframe thead th {\n",
              "        text-align: right;\n",
              "    }\n",
              "</style>\n",
              "<table border=\"1\" class=\"dataframe\">\n",
              "  <thead>\n",
              "    <tr style=\"text-align: right;\">\n",
              "      <th></th>\n",
              "      <th>title</th>\n",
              "      <th>rank</th>\n",
              "      <th>date</th>\n",
              "      <th>artist</th>\n",
              "      <th>url</th>\n",
              "      <th>region</th>\n",
              "      <th>chart</th>\n",
              "      <th>trend</th>\n",
              "      <th>streams</th>\n",
              "    </tr>\n",
              "  </thead>\n",
              "  <tbody>\n",
              "    <tr>\n",
              "      <th>0</th>\n",
              "      <td>Despacito (Featuring Daddy Yankee)</td>\n",
              "      <td>1</td>\n",
              "      <td>2017-04-01</td>\n",
              "      <td>Luis Fonsi</td>\n",
              "      <td>https://open.spotify.com/track/4aWmUDTfIPGksMN...</td>\n",
              "      <td>Argentina</td>\n",
              "      <td>top200</td>\n",
              "      <td>SAME_POSITION</td>\n",
              "      <td>306716.0</td>\n",
              "    </tr>\n",
              "    <tr>\n",
              "      <th>1</th>\n",
              "      <td>El Amante</td>\n",
              "      <td>2</td>\n",
              "      <td>2017-04-01</td>\n",
              "      <td>Nicky Jam</td>\n",
              "      <td>https://open.spotify.com/track/3umS4y3uQDkqekN...</td>\n",
              "      <td>Argentina</td>\n",
              "      <td>top200</td>\n",
              "      <td>MOVE_UP</td>\n",
              "      <td>189310.0</td>\n",
              "    </tr>\n",
              "    <tr>\n",
              "      <th>2</th>\n",
              "      <td>SUBEME LA RADIO (feat. Descemer Bueno &amp; Zion &amp;...</td>\n",
              "      <td>3</td>\n",
              "      <td>2017-04-01</td>\n",
              "      <td>Enrique Iglesias</td>\n",
              "      <td>https://open.spotify.com/track/7nKBxz47S9SD79N...</td>\n",
              "      <td>Argentina</td>\n",
              "      <td>top200</td>\n",
              "      <td>MOVE_UP</td>\n",
              "      <td>187749.0</td>\n",
              "    </tr>\n",
              "    <tr>\n",
              "      <th>3</th>\n",
              "      <td>Shape of You</td>\n",
              "      <td>4</td>\n",
              "      <td>2017-04-01</td>\n",
              "      <td>Ed Sheeran</td>\n",
              "      <td>https://open.spotify.com/track/7qiZfU4dY1lWllz...</td>\n",
              "      <td>Argentina</td>\n",
              "      <td>top200</td>\n",
              "      <td>MOVE_DOWN</td>\n",
              "      <td>185567.0</td>\n",
              "    </tr>\n",
              "    <tr>\n",
              "      <th>4</th>\n",
              "      <td>La Rompe Corazones</td>\n",
              "      <td>5</td>\n",
              "      <td>2017-04-01</td>\n",
              "      <td>Daddy Yankee, Ozuna</td>\n",
              "      <td>https://open.spotify.com/track/4okba5wu9mMLXx7...</td>\n",
              "      <td>Argentina</td>\n",
              "      <td>top200</td>\n",
              "      <td>MOVE_UP</td>\n",
              "      <td>150052.0</td>\n",
              "    </tr>\n",
              "    <tr>\n",
              "      <th>...</th>\n",
              "      <td>...</td>\n",
              "      <td>...</td>\n",
              "      <td>...</td>\n",
              "      <td>...</td>\n",
              "      <td>...</td>\n",
              "      <td>...</td>\n",
              "      <td>...</td>\n",
              "      <td>...</td>\n",
              "      <td>...</td>\n",
              "    </tr>\n",
              "    <tr>\n",
              "      <th>23708262</th>\n",
              "      <td>Ngày Tận Thế</td>\n",
              "      <td>196</td>\n",
              "      <td>2021-07-31</td>\n",
              "      <td>Tóc Tiên, Da LAB, Touliver</td>\n",
              "      <td>https://open.spotify.com/track/5Nd0com2T4rHRZO...</td>\n",
              "      <td>Vietnam</td>\n",
              "      <td>top200</td>\n",
              "      <td>NEW_ENTRY</td>\n",
              "      <td>3618.0</td>\n",
              "    </tr>\n",
              "    <tr>\n",
              "      <th>23708263</th>\n",
              "      <td>Halley's Comet</td>\n",
              "      <td>197</td>\n",
              "      <td>2021-07-31</td>\n",
              "      <td>Billie Eilish</td>\n",
              "      <td>https://open.spotify.com/track/5XsAal7ZcWg1I5T...</td>\n",
              "      <td>Vietnam</td>\n",
              "      <td>top200</td>\n",
              "      <td>MOVE_DOWN</td>\n",
              "      <td>3615.0</td>\n",
              "    </tr>\n",
              "    <tr>\n",
              "      <th>23708264</th>\n",
              "      <td>Stuck with U (with Justin Bieber)</td>\n",
              "      <td>198</td>\n",
              "      <td>2021-07-31</td>\n",
              "      <td>Ariana Grande</td>\n",
              "      <td>https://open.spotify.com/track/4HBZA5flZLE435Q...</td>\n",
              "      <td>Vietnam</td>\n",
              "      <td>top200</td>\n",
              "      <td>NEW_ENTRY</td>\n",
              "      <td>3605.0</td>\n",
              "    </tr>\n",
              "    <tr>\n",
              "      <th>23708265</th>\n",
              "      <td>Đìu Anh Luôn Giữ Kín Trong Tym</td>\n",
              "      <td>199</td>\n",
              "      <td>2021-07-31</td>\n",
              "      <td>RPT MCK, Tlinh, 2Pillz</td>\n",
              "      <td>https://open.spotify.com/track/569B75eNRVDABuN...</td>\n",
              "      <td>Vietnam</td>\n",
              "      <td>top200</td>\n",
              "      <td>MOVE_DOWN</td>\n",
              "      <td>3602.0</td>\n",
              "    </tr>\n",
              "    <tr>\n",
              "      <th>23708266</th>\n",
              "      <td>Gene</td>\n",
              "      <td>200</td>\n",
              "      <td>2021-07-31</td>\n",
              "      <td>Binz, Touliver</td>\n",
              "      <td>https://open.spotify.com/track/1UL2QMgWPeNCJhz...</td>\n",
              "      <td>Vietnam</td>\n",
              "      <td>top200</td>\n",
              "      <td>NEW_ENTRY</td>\n",
              "      <td>3601.0</td>\n",
              "    </tr>\n",
              "  </tbody>\n",
              "</table>\n",
              "<p>19070004 rows × 9 columns</p>\n",
              "</div>\n",
              "      <button class=\"colab-df-convert\" onclick=\"convertToInteractive('df-140d0d87-ed8c-4bbe-b583-1bc55c578e5b')\"\n",
              "              title=\"Convert this dataframe to an interactive table.\"\n",
              "              style=\"display:none;\">\n",
              "        \n",
              "  <svg xmlns=\"http://www.w3.org/2000/svg\" height=\"24px\"viewBox=\"0 0 24 24\"\n",
              "       width=\"24px\">\n",
              "    <path d=\"M0 0h24v24H0V0z\" fill=\"none\"/>\n",
              "    <path d=\"M18.56 5.44l.94 2.06.94-2.06 2.06-.94-2.06-.94-.94-2.06-.94 2.06-2.06.94zm-11 1L8.5 8.5l.94-2.06 2.06-.94-2.06-.94L8.5 2.5l-.94 2.06-2.06.94zm10 10l.94 2.06.94-2.06 2.06-.94-2.06-.94-.94-2.06-.94 2.06-2.06.94z\"/><path d=\"M17.41 7.96l-1.37-1.37c-.4-.4-.92-.59-1.43-.59-.52 0-1.04.2-1.43.59L10.3 9.45l-7.72 7.72c-.78.78-.78 2.05 0 2.83L4 21.41c.39.39.9.59 1.41.59.51 0 1.02-.2 1.41-.59l7.78-7.78 2.81-2.81c.8-.78.8-2.07 0-2.86zM5.41 20L4 18.59l7.72-7.72 1.47 1.35L5.41 20z\"/>\n",
              "  </svg>\n",
              "      </button>\n",
              "      \n",
              "  <style>\n",
              "    .colab-df-container {\n",
              "      display:flex;\n",
              "      flex-wrap:wrap;\n",
              "      gap: 12px;\n",
              "    }\n",
              "\n",
              "    .colab-df-convert {\n",
              "      background-color: #E8F0FE;\n",
              "      border: none;\n",
              "      border-radius: 50%;\n",
              "      cursor: pointer;\n",
              "      display: none;\n",
              "      fill: #1967D2;\n",
              "      height: 32px;\n",
              "      padding: 0 0 0 0;\n",
              "      width: 32px;\n",
              "    }\n",
              "\n",
              "    .colab-df-convert:hover {\n",
              "      background-color: #E2EBFA;\n",
              "      box-shadow: 0px 1px 2px rgba(60, 64, 67, 0.3), 0px 1px 3px 1px rgba(60, 64, 67, 0.15);\n",
              "      fill: #174EA6;\n",
              "    }\n",
              "\n",
              "    [theme=dark] .colab-df-convert {\n",
              "      background-color: #3B4455;\n",
              "      fill: #D2E3FC;\n",
              "    }\n",
              "\n",
              "    [theme=dark] .colab-df-convert:hover {\n",
              "      background-color: #434B5C;\n",
              "      box-shadow: 0px 1px 3px 1px rgba(0, 0, 0, 0.15);\n",
              "      filter: drop-shadow(0px 1px 2px rgba(0, 0, 0, 0.3));\n",
              "      fill: #FFFFFF;\n",
              "    }\n",
              "  </style>\n",
              "\n",
              "      <script>\n",
              "        const buttonEl =\n",
              "          document.querySelector('#df-140d0d87-ed8c-4bbe-b583-1bc55c578e5b button.colab-df-convert');\n",
              "        buttonEl.style.display =\n",
              "          google.colab.kernel.accessAllowed ? 'block' : 'none';\n",
              "\n",
              "        async function convertToInteractive(key) {\n",
              "          const element = document.querySelector('#df-140d0d87-ed8c-4bbe-b583-1bc55c578e5b');\n",
              "          const dataTable =\n",
              "            await google.colab.kernel.invokeFunction('convertToInteractive',\n",
              "                                                     [key], {});\n",
              "          if (!dataTable) return;\n",
              "\n",
              "          const docLinkHtml = 'Like what you see? Visit the ' +\n",
              "            '<a target=\"_blank\" href=https://colab.research.google.com/notebooks/data_table.ipynb>data table notebook</a>'\n",
              "            + ' to learn more about interactive tables.';\n",
              "          element.innerHTML = '';\n",
              "          dataTable['output_type'] = 'display_data';\n",
              "          await google.colab.output.renderOutput(dataTable, element);\n",
              "          const docLink = document.createElement('div');\n",
              "          docLink.innerHTML = docLinkHtml;\n",
              "          element.appendChild(docLink);\n",
              "        }\n",
              "      </script>\n",
              "    </div>\n",
              "  </div>\n",
              "  "
            ],
            "text/plain": [
              "                                                      title  ...   streams\n",
              "0                        Despacito (Featuring Daddy Yankee)  ...  306716.0\n",
              "1                                                 El Amante  ...  189310.0\n",
              "2         SUBEME LA RADIO (feat. Descemer Bueno & Zion &...  ...  187749.0\n",
              "3                                              Shape of You  ...  185567.0\n",
              "4                                        La Rompe Corazones  ...  150052.0\n",
              "...                                                     ...  ...       ...\n",
              "23708262                                       Ngày Tận Thế  ...    3618.0\n",
              "23708263                                     Halley's Comet  ...    3615.0\n",
              "23708264                  Stuck with U (with Justin Bieber)  ...    3605.0\n",
              "23708265                     Đìu Anh Luôn Giữ Kín Trong Tym  ...    3602.0\n",
              "23708266                                               Gene  ...    3601.0\n",
              "\n",
              "[19070004 rows x 9 columns]"
            ]
          },
          "execution_count": 6,
          "metadata": {},
          "output_type": "execute_result"
        }
      ],
      "source": [
        "topTotal = pd.read_csv(\"/content/drive/MyDrive/spotify-charts.csv\")\n",
        "topTotal.dropna()"
      ]
    },
    {
      "cell_type": "code",
      "execution_count": null,
      "metadata": {
        "id": "J2Wa2c_y6nx6"
      },
      "outputs": [],
      "source": [
        "topGlobal = topTotal[topTotal['region'] == 'Global']\n",
        "top10Global = topGlobal[topGlobal['rank'] <= 10]\n",
        "\n",
        "topChile = topTotal[topTotal['region'] == 'Chile']\n",
        "top10Chile = topChile[topChile['rank'] <= 10]"
      ]
    },
    {
      "cell_type": "code",
      "execution_count": null,
      "metadata": {
        "id": "-Kl8-G378Znl"
      },
      "outputs": [],
      "source": [
        "top10Chile['date']=pd.to_datetime(top10Chile['date'].astype(str), format='%Y/%m/%d')  #Pasar fecha a formato fecha\n",
        "top10Global['date']=pd.to_datetime(top10Global['date'].astype(str), format='%Y/%m/%d')"
      ]
    },
    {
      "cell_type": "code",
      "execution_count": null,
      "metadata": {
        "colab": {
          "base_uri": "https://localhost:8080/",
          "height": 783
        },
        "id": "Gedq1dRS_YQG",
        "outputId": "23c4d58d-bc96-426d-f2a3-bcf615f9921b"
      },
      "outputs": [
        {
          "data": {
            "text/html": [
              "\n",
              "  <div id=\"df-acdbc147-606a-4caa-a26d-b35068aabb77\">\n",
              "    <div class=\"colab-df-container\">\n",
              "      <div>\n",
              "<style scoped>\n",
              "    .dataframe tbody tr th:only-of-type {\n",
              "        vertical-align: middle;\n",
              "    }\n",
              "\n",
              "    .dataframe tbody tr th {\n",
              "        vertical-align: top;\n",
              "    }\n",
              "\n",
              "    .dataframe thead th {\n",
              "        text-align: right;\n",
              "    }\n",
              "</style>\n",
              "<table border=\"1\" class=\"dataframe\">\n",
              "  <thead>\n",
              "    <tr style=\"text-align: right;\">\n",
              "      <th></th>\n",
              "      <th>title</th>\n",
              "      <th>rank</th>\n",
              "      <th>date</th>\n",
              "      <th>artist</th>\n",
              "      <th>url</th>\n",
              "      <th>region</th>\n",
              "      <th>chart</th>\n",
              "      <th>trend</th>\n",
              "      <th>streams</th>\n",
              "    </tr>\n",
              "  </thead>\n",
              "  <tbody>\n",
              "    <tr>\n",
              "      <th>118618</th>\n",
              "      <td>Starboy</td>\n",
              "      <td>1</td>\n",
              "      <td>2017-01-01</td>\n",
              "      <td>The Weeknd, Daft Punk</td>\n",
              "      <td>https://open.spotify.com/track/5aAx2yezTd8zXrk...</td>\n",
              "      <td>Global</td>\n",
              "      <td>top200</td>\n",
              "      <td>SAME_POSITION</td>\n",
              "      <td>3135625.0</td>\n",
              "    </tr>\n",
              "    <tr>\n",
              "      <th>118627</th>\n",
              "      <td>I Feel It Coming</td>\n",
              "      <td>10</td>\n",
              "      <td>2017-01-01</td>\n",
              "      <td>The Weeknd, Daft Punk</td>\n",
              "      <td>https://open.spotify.com/track/5GXAXm5YOmYT0kL...</td>\n",
              "      <td>Global</td>\n",
              "      <td>top200</td>\n",
              "      <td>MOVE_DOWN</td>\n",
              "      <td>1949575.0</td>\n",
              "    </tr>\n",
              "    <tr>\n",
              "      <th>118626</th>\n",
              "      <td>Black Beatles</td>\n",
              "      <td>9</td>\n",
              "      <td>2017-01-01</td>\n",
              "      <td>Rae Sremmurd, Gucci Mane</td>\n",
              "      <td>https://open.spotify.com/track/6fujklziTHa8uoM...</td>\n",
              "      <td>Global</td>\n",
              "      <td>top200</td>\n",
              "      <td>MOVE_DOWN</td>\n",
              "      <td>2075732.0</td>\n",
              "    </tr>\n",
              "    <tr>\n",
              "      <th>118625</th>\n",
              "      <td>Don't Wanna Know</td>\n",
              "      <td>8</td>\n",
              "      <td>2017-01-01</td>\n",
              "      <td>Maroon 5, Kendrick Lamar</td>\n",
              "      <td>https://open.spotify.com/track/5MFzQMkrl1FOOng...</td>\n",
              "      <td>Global</td>\n",
              "      <td>top200</td>\n",
              "      <td>MOVE_DOWN</td>\n",
              "      <td>2107137.0</td>\n",
              "    </tr>\n",
              "    <tr>\n",
              "      <th>118624</th>\n",
              "      <td>24K Magic</td>\n",
              "      <td>7</td>\n",
              "      <td>2017-01-01</td>\n",
              "      <td>Bruno Mars</td>\n",
              "      <td>https://open.spotify.com/track/6b8Be6ljOzmkOmF...</td>\n",
              "      <td>Global</td>\n",
              "      <td>top200</td>\n",
              "      <td>SAME_POSITION</td>\n",
              "      <td>2111599.0</td>\n",
              "    </tr>\n",
              "    <tr>\n",
              "      <th>...</th>\n",
              "      <td>...</td>\n",
              "      <td>...</td>\n",
              "      <td>...</td>\n",
              "      <td>...</td>\n",
              "      <td>...</td>\n",
              "      <td>...</td>\n",
              "      <td>...</td>\n",
              "      <td>...</td>\n",
              "      <td>...</td>\n",
              "    </tr>\n",
              "    <tr>\n",
              "      <th>17989161</th>\n",
              "      <td>Bad Habits</td>\n",
              "      <td>4</td>\n",
              "      <td>2021-08-31</td>\n",
              "      <td>Ed Sheeran</td>\n",
              "      <td>https://open.spotify.com/track/6PQ88X9TkUIAUIZ...</td>\n",
              "      <td>Global</td>\n",
              "      <td>top200</td>\n",
              "      <td>MOVE_UP</td>\n",
              "      <td>4724727.0</td>\n",
              "    </tr>\n",
              "    <tr>\n",
              "      <th>17989160</th>\n",
              "      <td>Hurricane</td>\n",
              "      <td>3</td>\n",
              "      <td>2021-08-31</td>\n",
              "      <td>Kanye West</td>\n",
              "      <td>https://open.spotify.com/track/0RbW8kWozrVSIGb...</td>\n",
              "      <td>Global</td>\n",
              "      <td>top200</td>\n",
              "      <td>SAME_POSITION</td>\n",
              "      <td>6116919.0</td>\n",
              "    </tr>\n",
              "    <tr>\n",
              "      <th>17989159</th>\n",
              "      <td>INDUSTRY BABY (feat. Jack Harlow)</td>\n",
              "      <td>2</td>\n",
              "      <td>2021-08-31</td>\n",
              "      <td>Lil Nas X</td>\n",
              "      <td>https://open.spotify.com/track/27NovPIUIRrOZoC...</td>\n",
              "      <td>Global</td>\n",
              "      <td>top200</td>\n",
              "      <td>MOVE_UP</td>\n",
              "      <td>6149589.0</td>\n",
              "    </tr>\n",
              "    <tr>\n",
              "      <th>17989166</th>\n",
              "      <td>Pepas</td>\n",
              "      <td>9</td>\n",
              "      <td>2021-08-31</td>\n",
              "      <td>Farruko</td>\n",
              "      <td>https://open.spotify.com/track/5fwSHlTEWpluwOM...</td>\n",
              "      <td>Global</td>\n",
              "      <td>top200</td>\n",
              "      <td>MOVE_UP</td>\n",
              "      <td>4006349.0</td>\n",
              "    </tr>\n",
              "    <tr>\n",
              "      <th>17989167</th>\n",
              "      <td>Need To Know</td>\n",
              "      <td>10</td>\n",
              "      <td>2021-08-31</td>\n",
              "      <td>Doja Cat</td>\n",
              "      <td>https://open.spotify.com/track/3Vi5XqYrmQgOYBa...</td>\n",
              "      <td>Global</td>\n",
              "      <td>top200</td>\n",
              "      <td>MOVE_UP</td>\n",
              "      <td>3875636.0</td>\n",
              "    </tr>\n",
              "  </tbody>\n",
              "</table>\n",
              "<p>33747 rows × 9 columns</p>\n",
              "</div>\n",
              "      <button class=\"colab-df-convert\" onclick=\"convertToInteractive('df-acdbc147-606a-4caa-a26d-b35068aabb77')\"\n",
              "              title=\"Convert this dataframe to an interactive table.\"\n",
              "              style=\"display:none;\">\n",
              "        \n",
              "  <svg xmlns=\"http://www.w3.org/2000/svg\" height=\"24px\"viewBox=\"0 0 24 24\"\n",
              "       width=\"24px\">\n",
              "    <path d=\"M0 0h24v24H0V0z\" fill=\"none\"/>\n",
              "    <path d=\"M18.56 5.44l.94 2.06.94-2.06 2.06-.94-2.06-.94-.94-2.06-.94 2.06-2.06.94zm-11 1L8.5 8.5l.94-2.06 2.06-.94-2.06-.94L8.5 2.5l-.94 2.06-2.06.94zm10 10l.94 2.06.94-2.06 2.06-.94-2.06-.94-.94-2.06-.94 2.06-2.06.94z\"/><path d=\"M17.41 7.96l-1.37-1.37c-.4-.4-.92-.59-1.43-.59-.52 0-1.04.2-1.43.59L10.3 9.45l-7.72 7.72c-.78.78-.78 2.05 0 2.83L4 21.41c.39.39.9.59 1.41.59.51 0 1.02-.2 1.41-.59l7.78-7.78 2.81-2.81c.8-.78.8-2.07 0-2.86zM5.41 20L4 18.59l7.72-7.72 1.47 1.35L5.41 20z\"/>\n",
              "  </svg>\n",
              "      </button>\n",
              "      \n",
              "  <style>\n",
              "    .colab-df-container {\n",
              "      display:flex;\n",
              "      flex-wrap:wrap;\n",
              "      gap: 12px;\n",
              "    }\n",
              "\n",
              "    .colab-df-convert {\n",
              "      background-color: #E8F0FE;\n",
              "      border: none;\n",
              "      border-radius: 50%;\n",
              "      cursor: pointer;\n",
              "      display: none;\n",
              "      fill: #1967D2;\n",
              "      height: 32px;\n",
              "      padding: 0 0 0 0;\n",
              "      width: 32px;\n",
              "    }\n",
              "\n",
              "    .colab-df-convert:hover {\n",
              "      background-color: #E2EBFA;\n",
              "      box-shadow: 0px 1px 2px rgba(60, 64, 67, 0.3), 0px 1px 3px 1px rgba(60, 64, 67, 0.15);\n",
              "      fill: #174EA6;\n",
              "    }\n",
              "\n",
              "    [theme=dark] .colab-df-convert {\n",
              "      background-color: #3B4455;\n",
              "      fill: #D2E3FC;\n",
              "    }\n",
              "\n",
              "    [theme=dark] .colab-df-convert:hover {\n",
              "      background-color: #434B5C;\n",
              "      box-shadow: 0px 1px 3px 1px rgba(0, 0, 0, 0.15);\n",
              "      filter: drop-shadow(0px 1px 2px rgba(0, 0, 0, 0.3));\n",
              "      fill: #FFFFFF;\n",
              "    }\n",
              "  </style>\n",
              "\n",
              "      <script>\n",
              "        const buttonEl =\n",
              "          document.querySelector('#df-acdbc147-606a-4caa-a26d-b35068aabb77 button.colab-df-convert');\n",
              "        buttonEl.style.display =\n",
              "          google.colab.kernel.accessAllowed ? 'block' : 'none';\n",
              "\n",
              "        async function convertToInteractive(key) {\n",
              "          const element = document.querySelector('#df-acdbc147-606a-4caa-a26d-b35068aabb77');\n",
              "          const dataTable =\n",
              "            await google.colab.kernel.invokeFunction('convertToInteractive',\n",
              "                                                     [key], {});\n",
              "          if (!dataTable) return;\n",
              "\n",
              "          const docLinkHtml = 'Like what you see? Visit the ' +\n",
              "            '<a target=\"_blank\" href=https://colab.research.google.com/notebooks/data_table.ipynb>data table notebook</a>'\n",
              "            + ' to learn more about interactive tables.';\n",
              "          element.innerHTML = '';\n",
              "          dataTable['output_type'] = 'display_data';\n",
              "          await google.colab.output.renderOutput(dataTable, element);\n",
              "          const docLink = document.createElement('div');\n",
              "          docLink.innerHTML = docLinkHtml;\n",
              "          element.appendChild(docLink);\n",
              "        }\n",
              "      </script>\n",
              "    </div>\n",
              "  </div>\n",
              "  "
            ],
            "text/plain": [
              "                                      title  rank  ...          trend    streams\n",
              "118618                              Starboy     1  ...  SAME_POSITION  3135625.0\n",
              "118627                     I Feel It Coming    10  ...      MOVE_DOWN  1949575.0\n",
              "118626                        Black Beatles     9  ...      MOVE_DOWN  2075732.0\n",
              "118625                     Don't Wanna Know     8  ...      MOVE_DOWN  2107137.0\n",
              "118624                            24K Magic     7  ...  SAME_POSITION  2111599.0\n",
              "...                                     ...   ...  ...            ...        ...\n",
              "17989161                         Bad Habits     4  ...        MOVE_UP  4724727.0\n",
              "17989160                          Hurricane     3  ...  SAME_POSITION  6116919.0\n",
              "17989159  INDUSTRY BABY (feat. Jack Harlow)     2  ...        MOVE_UP  6149589.0\n",
              "17989166                              Pepas     9  ...        MOVE_UP  4006349.0\n",
              "17989167                       Need To Know    10  ...        MOVE_UP  3875636.0\n",
              "\n",
              "[33747 rows x 9 columns]"
            ]
          },
          "execution_count": 9,
          "metadata": {},
          "output_type": "execute_result"
        }
      ],
      "source": [
        "top10Chile.sort_values(by='date') #Ordenar dataframe por fecha\n",
        "top10Global.sort_values(by='date')"
      ]
    },
    {
      "cell_type": "code",
      "execution_count": null,
      "metadata": {
        "id": "-BXkQdDDjKsP"
      },
      "outputs": [],
      "source": [
        "topChileArtistas = top10Chile[['date', 'artist']]\n",
        "topGlobalArtistas = top10Global[['date', 'artist']]"
      ]
    },
    {
      "cell_type": "code",
      "execution_count": null,
      "metadata": {
        "colab": {
          "base_uri": "https://localhost:8080/",
          "height": 424
        },
        "id": "rkxtZl2GkvhQ",
        "outputId": "73f93671-ca9d-43a9-864d-23fd660f3b17"
      },
      "outputs": [
        {
          "data": {
            "text/html": [
              "\n",
              "  <div id=\"df-1e63a9f8-f3ba-4404-b9da-8a05212cd4b9\">\n",
              "    <div class=\"colab-df-container\">\n",
              "      <div>\n",
              "<style scoped>\n",
              "    .dataframe tbody tr th:only-of-type {\n",
              "        vertical-align: middle;\n",
              "    }\n",
              "\n",
              "    .dataframe tbody tr th {\n",
              "        vertical-align: top;\n",
              "    }\n",
              "\n",
              "    .dataframe thead th {\n",
              "        text-align: right;\n",
              "    }\n",
              "</style>\n",
              "<table border=\"1\" class=\"dataframe\">\n",
              "  <thead>\n",
              "    <tr style=\"text-align: right;\">\n",
              "      <th></th>\n",
              "      <th>date</th>\n",
              "      <th>artist</th>\n",
              "    </tr>\n",
              "  </thead>\n",
              "  <tbody>\n",
              "    <tr>\n",
              "      <th>118618</th>\n",
              "      <td>2017-01-01</td>\n",
              "      <td>The Weeknd, Daft Punk</td>\n",
              "    </tr>\n",
              "    <tr>\n",
              "      <th>118627</th>\n",
              "      <td>2017-01-01</td>\n",
              "      <td>The Weeknd, Daft Punk</td>\n",
              "    </tr>\n",
              "    <tr>\n",
              "      <th>118626</th>\n",
              "      <td>2017-01-01</td>\n",
              "      <td>Rae Sremmurd, Gucci Mane</td>\n",
              "    </tr>\n",
              "    <tr>\n",
              "      <th>118625</th>\n",
              "      <td>2017-01-01</td>\n",
              "      <td>Maroon 5, Kendrick Lamar</td>\n",
              "    </tr>\n",
              "    <tr>\n",
              "      <th>118624</th>\n",
              "      <td>2017-01-01</td>\n",
              "      <td>Bruno Mars</td>\n",
              "    </tr>\n",
              "    <tr>\n",
              "      <th>...</th>\n",
              "      <td>...</td>\n",
              "      <td>...</td>\n",
              "    </tr>\n",
              "    <tr>\n",
              "      <th>17989161</th>\n",
              "      <td>2021-08-31</td>\n",
              "      <td>Ed Sheeran</td>\n",
              "    </tr>\n",
              "    <tr>\n",
              "      <th>17989160</th>\n",
              "      <td>2021-08-31</td>\n",
              "      <td>Kanye West</td>\n",
              "    </tr>\n",
              "    <tr>\n",
              "      <th>17989159</th>\n",
              "      <td>2021-08-31</td>\n",
              "      <td>Lil Nas X</td>\n",
              "    </tr>\n",
              "    <tr>\n",
              "      <th>17989166</th>\n",
              "      <td>2021-08-31</td>\n",
              "      <td>Farruko</td>\n",
              "    </tr>\n",
              "    <tr>\n",
              "      <th>17989167</th>\n",
              "      <td>2021-08-31</td>\n",
              "      <td>Doja Cat</td>\n",
              "    </tr>\n",
              "  </tbody>\n",
              "</table>\n",
              "<p>33747 rows × 2 columns</p>\n",
              "</div>\n",
              "      <button class=\"colab-df-convert\" onclick=\"convertToInteractive('df-1e63a9f8-f3ba-4404-b9da-8a05212cd4b9')\"\n",
              "              title=\"Convert this dataframe to an interactive table.\"\n",
              "              style=\"display:none;\">\n",
              "        \n",
              "  <svg xmlns=\"http://www.w3.org/2000/svg\" height=\"24px\"viewBox=\"0 0 24 24\"\n",
              "       width=\"24px\">\n",
              "    <path d=\"M0 0h24v24H0V0z\" fill=\"none\"/>\n",
              "    <path d=\"M18.56 5.44l.94 2.06.94-2.06 2.06-.94-2.06-.94-.94-2.06-.94 2.06-2.06.94zm-11 1L8.5 8.5l.94-2.06 2.06-.94-2.06-.94L8.5 2.5l-.94 2.06-2.06.94zm10 10l.94 2.06.94-2.06 2.06-.94-2.06-.94-.94-2.06-.94 2.06-2.06.94z\"/><path d=\"M17.41 7.96l-1.37-1.37c-.4-.4-.92-.59-1.43-.59-.52 0-1.04.2-1.43.59L10.3 9.45l-7.72 7.72c-.78.78-.78 2.05 0 2.83L4 21.41c.39.39.9.59 1.41.59.51 0 1.02-.2 1.41-.59l7.78-7.78 2.81-2.81c.8-.78.8-2.07 0-2.86zM5.41 20L4 18.59l7.72-7.72 1.47 1.35L5.41 20z\"/>\n",
              "  </svg>\n",
              "      </button>\n",
              "      \n",
              "  <style>\n",
              "    .colab-df-container {\n",
              "      display:flex;\n",
              "      flex-wrap:wrap;\n",
              "      gap: 12px;\n",
              "    }\n",
              "\n",
              "    .colab-df-convert {\n",
              "      background-color: #E8F0FE;\n",
              "      border: none;\n",
              "      border-radius: 50%;\n",
              "      cursor: pointer;\n",
              "      display: none;\n",
              "      fill: #1967D2;\n",
              "      height: 32px;\n",
              "      padding: 0 0 0 0;\n",
              "      width: 32px;\n",
              "    }\n",
              "\n",
              "    .colab-df-convert:hover {\n",
              "      background-color: #E2EBFA;\n",
              "      box-shadow: 0px 1px 2px rgba(60, 64, 67, 0.3), 0px 1px 3px 1px rgba(60, 64, 67, 0.15);\n",
              "      fill: #174EA6;\n",
              "    }\n",
              "\n",
              "    [theme=dark] .colab-df-convert {\n",
              "      background-color: #3B4455;\n",
              "      fill: #D2E3FC;\n",
              "    }\n",
              "\n",
              "    [theme=dark] .colab-df-convert:hover {\n",
              "      background-color: #434B5C;\n",
              "      box-shadow: 0px 1px 3px 1px rgba(0, 0, 0, 0.15);\n",
              "      filter: drop-shadow(0px 1px 2px rgba(0, 0, 0, 0.3));\n",
              "      fill: #FFFFFF;\n",
              "    }\n",
              "  </style>\n",
              "\n",
              "      <script>\n",
              "        const buttonEl =\n",
              "          document.querySelector('#df-1e63a9f8-f3ba-4404-b9da-8a05212cd4b9 button.colab-df-convert');\n",
              "        buttonEl.style.display =\n",
              "          google.colab.kernel.accessAllowed ? 'block' : 'none';\n",
              "\n",
              "        async function convertToInteractive(key) {\n",
              "          const element = document.querySelector('#df-1e63a9f8-f3ba-4404-b9da-8a05212cd4b9');\n",
              "          const dataTable =\n",
              "            await google.colab.kernel.invokeFunction('convertToInteractive',\n",
              "                                                     [key], {});\n",
              "          if (!dataTable) return;\n",
              "\n",
              "          const docLinkHtml = 'Like what you see? Visit the ' +\n",
              "            '<a target=\"_blank\" href=https://colab.research.google.com/notebooks/data_table.ipynb>data table notebook</a>'\n",
              "            + ' to learn more about interactive tables.';\n",
              "          element.innerHTML = '';\n",
              "          dataTable['output_type'] = 'display_data';\n",
              "          await google.colab.output.renderOutput(dataTable, element);\n",
              "          const docLink = document.createElement('div');\n",
              "          docLink.innerHTML = docLinkHtml;\n",
              "          element.appendChild(docLink);\n",
              "        }\n",
              "      </script>\n",
              "    </div>\n",
              "  </div>\n",
              "  "
            ],
            "text/plain": [
              "               date                    artist\n",
              "118618   2017-01-01     The Weeknd, Daft Punk\n",
              "118627   2017-01-01     The Weeknd, Daft Punk\n",
              "118626   2017-01-01  Rae Sremmurd, Gucci Mane\n",
              "118625   2017-01-01  Maroon 5, Kendrick Lamar\n",
              "118624   2017-01-01                Bruno Mars\n",
              "...             ...                       ...\n",
              "17989161 2021-08-31                Ed Sheeran\n",
              "17989160 2021-08-31                Kanye West\n",
              "17989159 2021-08-31                 Lil Nas X\n",
              "17989166 2021-08-31                   Farruko\n",
              "17989167 2021-08-31                  Doja Cat\n",
              "\n",
              "[33747 rows x 2 columns]"
            ]
          },
          "execution_count": 11,
          "metadata": {},
          "output_type": "execute_result"
        }
      ],
      "source": [
        "topChileArtistas.sort_values(by='date')\n",
        "topGlobalArtistas.sort_values(by='date')"
      ]
    },
    {
      "cell_type": "code",
      "execution_count": null,
      "metadata": {
        "colab": {
          "base_uri": "https://localhost:8080/"
        },
        "id": "cCLi79-mk2QT",
        "outputId": "cf5315af-e2bc-4d21-c8dd-8ee327a7ead5"
      },
      "outputs": [
        {
          "name": "stdout",
          "output_type": "stream",
          "text": [
            "67914 67494\n",
            "56952 59440\n"
          ]
        }
      ],
      "source": [
        "print(topChileArtistas.size, topGlobalArtistas.size)\n",
        "topChileArtistas = topChileArtistas.drop_duplicates()\n",
        "topGlobalArtistas = topGlobalArtistas.drop_duplicates()\n",
        "print(topChileArtistas.size, topGlobalArtistas.size)"
      ]
    },
    {
      "cell_type": "code",
      "execution_count": null,
      "metadata": {
        "colab": {
          "base_uri": "https://localhost:8080/",
          "height": 349
        },
        "id": "U9IUu-DitK53",
        "outputId": "475503cd-1d52-495b-ceed-e2c7bebadc1b"
      },
      "outputs": [
        {
          "data": {
            "image/png": "[encoded data removed]",
            "text/plain": [
              "<Figure size 432x288 with 1 Axes>"
            ]
          },
          "metadata": {
            "needs_background": "light"
          },
          "output_type": "display_data"
        }
      ],
      "source": [
        "top10ChileArtistas = topChileArtistas['artist'].value_counts().head(10)\n",
        "top10ChileArtistas.plot.bar(title='Dias totales en el top 10 de un artista en Chile')\n",
        "plt.show()"
      ]
    },
    {
      "cell_type": "code",
      "execution_count": null,
      "metadata": {
        "colab": {
          "base_uri": "https://localhost:8080/",
          "height": 344
        },
        "id": "V8XADYG2tSUs",
        "outputId": "9b2fb7fe-f938-4ae7-e03f-14bc53cb2516"
      },
      "outputs": [
        {
          "data": {
            "image/png": "[encoded data removed]",
            "text/plain": [
              "<Figure size 432x288 with 1 Axes>"
            ]
          },
          "metadata": {
            "needs_background": "light"
          },
          "output_type": "display_data"
        }
      ],
      "source": [
        "top10GlobalArtistas = topGlobalArtistas['artist'].value_counts().head(10)\n",
        "top10GlobalArtistas.plot.bar(title='Dias totales en el top 10 de un artista, Global')\n",
        "plt.show()"
      ]
    },
    {
      "cell_type": "markdown",
      "metadata": {
        "id": "z2YU3F1ztWsx"
      },
      "source": [
        "Se hizo una limpieza del dataset original, generando dos DataFrames conteniendo el top 10 a nivel global y a nivel chile, teniendo como columnas artistas y fechas. Se realiza un drop_duplicates() para eliminar aquellos artistas que aparecieran más de una vez un mismo día (más de una canción).\n",
        "\n",
        "De las últimas dos celdas es posible ver cuáles son los artistas que más se repiten dentro de los top 10 en Chile son Bad Bunny, el cual ha estado dentro del top 10 700 días desde el primero de marzo de 2017 hasta el 30 de septiembre de 2021, lo cual corresponde a casi dos años de permanecer en el top. Con un número menor de días, pero siendo igualmente una cantidad considerable, lo sigue Ozuna estando 411 días en el top. Por último, con menos de 400 días en el top se encuentran Danny Ocean, Anuel AA y Maluma. Los artistas mencionados son conocidos por realizar canciones de música latina urbana, lo que nos llevaría a pensar que en chile se tiene una tendencia a escuchar este tipo de música.\n",
        "\n",
        "Realizando un análisis similar al anterior, es posible ver que a nivel global quien ocupa el primer puesto manteniéndose por mayor cantidad de tiempo dentro del top 10 se lo lleva el galardonado cantante británico Ed Sheeran con 615 días desde el primero de marzo de 2017 al 30 de septiembre de 2021. Debajo de los 600 días se encuentran Dua Lipa, The Weeknd y Drake, teniendo a Dua Lipa con un día más que The Weeknd. Por último en el quinto lugar se encuentra Ariana Grande con 440 días. Es posible notar una tendencia en músicos populares de habla inglesa dentro del top 5 con artistas más escuchados a nivel global."
      ]
    },
    {
      "cell_type": "markdown",
      "metadata": {
        "id": "ZE4hzSAk-ASE"
      },
      "source": [
        "### Artistas en top 200 con una canción\n"
      ]
    },
    {
      "cell_type": "markdown",
      "metadata": {
        "id": "uEZ2Mb3H-Lir"
      },
      "source": [
        "Se seguirá un procedimiento similar al anterior, pero esta vez considerando canción por canción."
      ]
    },
    {
      "cell_type": "code",
      "execution_count": null,
      "metadata": {
        "id": "3I_tU6wd-T29"
      },
      "outputs": [],
      "source": [
        "topChileArtCanciones = topChile[['date', 'artist', 'title']]\n",
        "topGlobalArtCanciones = topGlobal[['date', 'artist', 'title']]"
      ]
    },
    {
      "cell_type": "code",
      "execution_count": null,
      "metadata": {
        "id": "eCEmfBjuQ-0w"
      },
      "outputs": [],
      "source": [
        "topChileArtCanciones = topChileArtCanciones.sort_values(by='date')\n",
        "topGlobalArtCanciones = topGlobalArtCanciones.sort_values(by='date')"
      ]
    },
    {
      "cell_type": "code",
      "execution_count": null,
      "metadata": {
        "colab": {
          "base_uri": "https://localhost:8080/"
        },
        "id": "grg4wCUr-nEE",
        "outputId": "b056eea3-b024-445f-ce66-445d2d087c5d"
      },
      "outputs": [
        {
          "name": "stdout",
          "output_type": "stream",
          "text": [
            "1274442 1271121\n",
            "1150599 1184208\n"
          ]
        }
      ],
      "source": [
        "print(topChileArtCanciones.size, topGlobalArtCanciones.size)\n",
        "topChileArtCanciones = topChileArtCanciones.drop_duplicates()\n",
        "topGlobalArtCanciones = topGlobalArtCanciones.drop_duplicates()\n",
        "print(topChileArtCanciones.size, topGlobalArtCanciones.size)"
      ]
    },
    {
      "cell_type": "code",
      "execution_count": null,
      "metadata": {
        "colab": {
          "base_uri": "https://localhost:8080/",
          "height": 358
        },
        "id": "HfzkuQmnAT0e",
        "outputId": "67327e84-648e-4f82-f58f-0a869510fe52"
      },
      "outputs": [
        {
          "data": {
            "image/png": "[encoded data removed]",
            "text/plain": [
              "<Figure size 1080x576 with 1 Axes>"
            ]
          },
          "metadata": {
            "needs_background": "light"
          },
          "output_type": "display_data"
        }
      ],
      "source": [
        "top10ChileCanciones = topChileArtCanciones['title'].value_counts().head(10)\n",
        "top10ChileCanciones.plot.barh(title='Días en el top 200, para las mejores 10 canciones en Chile.', figsize=(15,8)).invert_yaxis()\n",
        "plt.show()"
      ]
    },
    {
      "cell_type": "code",
      "execution_count": null,
      "metadata": {
        "colab": {
          "base_uri": "https://localhost:8080/",
          "height": 429
        },
        "id": "ZgRSJMHjVEAK",
        "outputId": "dd0ea7ec-c9ba-457e-cc3a-2fdad40b2727"
      },
      "outputs": [
        {
          "data": {
            "image/png": "[encoded data removed]",
            "text/plain": [
              "<Figure size 1080x576 with 1 Axes>"
            ]
          },
          "metadata": {
            "needs_background": "light"
          },
          "output_type": "display_data"
        }
      ],
      "source": [
        "top10GlobalCanciones = topGlobalArtCanciones['title'].value_counts().head(10)\n",
        "top10GlobalCanciones.plot.barh(title='Días en el top 200, para las mejores 10 canciones en Global.', figsize=(15,8)).invert_yaxis()\n",
        "plt.show()"
      ]
    },
    {
      "cell_type": "code",
      "execution_count": null,
      "metadata": {
        "id": "4qqC5tj_kpSh"
      },
      "outputs": [],
      "source": [
        "songs_chile = ['Me Rehúso', 'El Gil de Tu Ex', 'La Forma en Que Me Miras', 'Serenata cruel','Algún Día Volveras']\n",
        "songs_global = ['Shape of You', \"Say You Won't Let Go\", 'Believer', 'Perfect', 'goosebumps']\n",
        "\n",
        "artist_per_song_chile = {}\n",
        "artist_per_song_global = {}\n",
        "\n",
        "for song in songs_chile:\n",
        "  if song not in artist_per_song_chile:\n",
        "    artist_per_song_chile[song] = topChileArtCanciones[topChileArtCanciones['title']==song][['artist', 'date']]\n",
        "  \n",
        "for song in songs_global:\n",
        "  if song not in artist_per_song_global:\n",
        "    artist_per_song_global[song] = topGlobalArtCanciones[topGlobalArtCanciones['title']==song][['artist', 'date']]"
      ]
    },
    {
      "cell_type": "code",
      "execution_count": null,
      "metadata": {
        "colab": {
          "base_uri": "https://localhost:8080/"
        },
        "id": "3Ne6r_TrrvFd",
        "outputId": "0906a250-aa90-463d-b2cc-da93df1a2358"
      },
      "outputs": [
        {
          "name": "stdout",
          "output_type": "stream",
          "text": [
            "Me Rehúso artist    Danny Ocean\n",
            "date       2017-01-26\n",
            "Name: 18170155, dtype: object\n",
            "El Gil de Tu Ex artist    Santaferia\n",
            "date      2017-07-31\n",
            "Name: 20191778, dtype: object\n",
            "La Forma en Que Me Miras artist    Super Yei, Sammy, Myke Towers, Lenny Tavárez, ...\n",
            "date                                             2018-08-12\n",
            "Name: 4851518, dtype: object\n",
            "Serenata cruel artist    Villa Cariño\n",
            "date        2017-01-01\n",
            "Name: 188806, dtype: object\n",
            "Algún Día Volveras artist    Santaferia\n",
            "date      2018-07-20\n",
            "Name: 5144997, dtype: object\n",
            "Shape of You artist    Ed Sheeran\n",
            "date      2017-01-06\n",
            "Name: 523272, dtype: object\n",
            "Say You Won't Let Go artist    James Arthur\n",
            "date        2017-01-01\n",
            "Name: 206691, dtype: object\n",
            "Believer artist    Imagine Dragons\n",
            "date           2017-02-02\n",
            "Name: 67268, dtype: object\n",
            "Perfect artist    Ed Sheeran\n",
            "date      2017-03-03\n",
            "Name: 21910, dtype: object\n",
            "goosebumps artist    Travis Scott\n",
            "date        2017-01-01\n",
            "Name: 206848, dtype: object\n"
          ]
        }
      ],
      "source": [
        "for key in artist_per_song_chile:\n",
        "  print(key, artist_per_song_chile[key].iloc[0])\n",
        "\n",
        "for key in artist_per_song_global:\n",
        "  print(key, artist_per_song_global[key].iloc[0])"
      ]
    },
    {
      "cell_type": "markdown",
      "metadata": {
        "id": "UIL7ldCDvc1N"
      },
      "source": [
        "De las últimas celdas se puede ver que las cinco canciones que más han perdurado en el top 200 -independiente de la posición- en la región chilena son:\n",
        "\n",
        "- Me Rehúso, artista: Danny Ocean.\n",
        "- El Gil de Tu Ex, artista: Santaferia.\n",
        "- La Forma en Que Me Miras, artista: Super Yei, Myke Towers, Lenny Tavárez, Rafa Pabön.\n",
        "- Serenata Cruel, artista: Villa Cariño.\n",
        "- Algún Día Volverás, artista: Santaferia.\n",
        "\n",
        "Es posible notar que la banda chilena de cumbia Santaferia se posiciona con dos canciones dentro de las 5 primeras que más se han mantenido dentro del top 200, acompañados de otra banda del mismo ámbito musical, Villa Cariño. Los otros dos artistas son extranjeros, principalmente de música latina urbana.\n",
        "\n",
        "De los resultados anteriormente mostrados se pueden concluir bastantes cosas, como por ejemplo los artistas que más perduraro dentro del top 10 varían con aquellos que se han mantenido con una canción, pero que se ve una tendencia al mismo estilo musical que se estudió anteriormente."
      ]
    },
    {
      "cell_type": "markdown",
      "metadata": {
        "id": "S4xZUDod5w-L"
      },
      "source": [
        "Realizando un análisis similar pero a nivel global es posible ver que las cinco canciones que predominan en el top 200 son: \n",
        "\n",
        "- Shape of You, artista: Ed Sheeran.\n",
        "- Say You Won't Let Go, artista: James Arthur.\n",
        "- Believer, artista: Imagine Dragons.\n",
        "- Perfect, artista: Ed Sheeran.\n",
        "- goosebumps, artista: Travis Scott.\n",
        "\n",
        "En este caso también se puede ver que se repite un artista, Ed Sheeran, que es aquel quien obtuvo por mayor cantidad de tiempo alguna canción dentro del top 10, hecho que se ve reflejado en las canciones que se mantuvieron dentro del top 200. A él lo acompañan distintos artistas masculinos de habla inglesa, James Arthur, Imagine Dragons y Travis Scott.\n",
        "\n",
        "En términos de artista, Ed Sheeran se mantuvo con el podio de presencia en el top 200 y artistas de habla inglesa se mantienen como preferidos a nivel global, con la gran diferencia que para el top 200 entra el rapero Travis Scott."
      ]
    },
    {
      "cell_type": "markdown",
      "metadata": {
        "id": "DFJ1MgO9A0C7"
      },
      "source": [
        "Con este mismo análisis se puede ver qué canciones son aquellas que se han mantenido por la mayor cantidad de tiempo dentro del top 200, pero se hará un análisis separado sobre qué canciones se considerarían como aquellas que perduran más que los éxitos en promedio."
      ]
    },
    {
      "cell_type": "markdown",
      "metadata": {
        "id": "ik1pCAwfBFnz"
      },
      "source": [
        "## ¿Qué canciones han perdurado por una mayor cantidad de tiempo?"
      ]
    },
    {
      "cell_type": "markdown",
      "metadata": {
        "id": "oSI8njj5BPYD"
      },
      "source": [
        "Tomaremos el top 10 de Chile y se calculará un promedio de cuánto tiempo se mantiene cada canción en el top. A partir de esto veremos qué canciones en particular se alejan de este promedio."
      ]
    },
    {
      "cell_type": "code",
      "execution_count": null,
      "metadata": {
        "id": "5vldvY02Ci15"
      },
      "outputs": [],
      "source": [
        "topChile = topTotal[topTotal['region'] == 'Chile']\n",
        "top10Chile = topChile[topChile['rank'] <= 10]"
      ]
    },
    {
      "cell_type": "code",
      "execution_count": null,
      "metadata": {
        "id": "yTpc5CbhDPdc"
      },
      "outputs": [],
      "source": [
        "top10Chile['date']=pd.to_datetime(top10Chile['date'].astype(str), format='%Y/%m/%d')"
      ]
    },
    {
      "cell_type": "code",
      "execution_count": null,
      "metadata": {
        "id": "BMGk7rV9DX_Z"
      },
      "outputs": [],
      "source": [
        "top10Chile.sort_values(by='date')"
      ]
    },
    {
      "cell_type": "code",
      "execution_count": null,
      "metadata": {
        "id": "BD5J2nkVDdf0"
      },
      "outputs": [],
      "source": [
        "top10Chile = top10Chile[['date', 'artist', 'title']]"
      ]
    },
    {
      "cell_type": "code",
      "execution_count": null,
      "metadata": {
        "id": "2tO8P45WDigJ"
      },
      "outputs": [],
      "source": [
        "days_per_song = top10Chile['title'].value_counts()"
      ]
    },
    {
      "cell_type": "code",
      "execution_count": null,
      "metadata": {
        "colab": {
          "base_uri": "https://localhost:8080/"
        },
        "id": "8adilCYGD0OC",
        "outputId": "5f677dbc-cc49-407a-a753-a54a111ee4dc"
      },
      "outputs": [
        {
          "data": {
            "text/plain": [
              "24.72030920590302"
            ]
          },
          "execution_count": 13,
          "metadata": {},
          "output_type": "execute_result"
        }
      ],
      "source": [
        "days_per_song.mean()"
      ]
    },
    {
      "cell_type": "markdown",
      "metadata": {
        "id": "q95xaROzEdQr"
      },
      "source": [
        "Aquí podemos ver que la cantidad de días promedio que se mantiene una canción dentro del top 10 es de 24.7 días"
      ]
    },
    {
      "cell_type": "code",
      "execution_count": null,
      "metadata": {
        "colab": {
          "base_uri": "https://localhost:8080/"
        },
        "id": "9sRiHnpIEqo1",
        "outputId": "cf38024d-c82a-4003-b0db-f7a2dc928dd7"
      },
      "outputs": [
        {
          "data": {
            "text/plain": [
              "45.03737066062439"
            ]
          },
          "execution_count": 17,
          "metadata": {},
          "output_type": "execute_result"
        }
      ],
      "source": [
        "days_per_song.std()"
      ]
    },
    {
      "cell_type": "markdown",
      "metadata": {
        "id": "MOwnQSj2E9Pl"
      },
      "source": [
        "En este resultado se puede notar que la variación es bastante alta, de 45 días, con lo que podemos concluir que hay canciones que se \"escapan\" fuertemente de este promedio. Veamos cuántas canciones están por al menos 30 días en el top."
      ]
    },
    {
      "cell_type": "code",
      "execution_count": null,
      "metadata": {
        "id": "5UfhEajgE0O-"
      },
      "outputs": [],
      "source": [
        "days = days_per_song.to_frame(\"days\")\n",
        "days"
      ]
    },
    {
      "cell_type": "code",
      "execution_count": null,
      "metadata": {
        "colab": {
          "base_uri": "https://localhost:8080/"
        },
        "id": "sQ14Xj80GJpg",
        "outputId": "1f3aca77-bf18-4ba4-dc60-7346201d55e6"
      },
      "outputs": [
        {
          "data": {
            "text/plain": [
              "273"
            ]
          },
          "execution_count": 27,
          "metadata": {},
          "output_type": "execute_result"
        }
      ],
      "source": [
        "days_30 = days[days[\"days\"]>=30]\n",
        "days_30.size"
      ]
    },
    {
      "cell_type": "markdown",
      "metadata": {
        "id": "CJQJTgHvGZjx"
      },
      "source": [
        "Acá podemos ver que existen 273 canciones que están por sobre 30 días dentro del top 10. Veamos un caso más extremo, cuántas canciones están por lo menos 6 meses dentro del top."
      ]
    },
    {
      "cell_type": "code",
      "execution_count": null,
      "metadata": {
        "colab": {
          "base_uri": "https://localhost:8080/"
        },
        "id": "b2_8egPpGoX4",
        "outputId": "2c25026d-340d-4725-aa94-caf2394b404d"
      },
      "outputs": [
        {
          "data": {
            "text/plain": [
              "32"
            ]
          },
          "execution_count": 28,
          "metadata": {},
          "output_type": "execute_result"
        }
      ],
      "source": [
        "days_6months = days[days[\"days\"]>=182]\n",
        "days_6months.size"
      ]
    },
    {
      "cell_type": "markdown",
      "metadata": {
        "id": "asrFyoG_Gw1r"
      },
      "source": [
        "Existen 32 canciones que han pasado al menos seis meses dentro del top 10. En este punto ya se puede concluir que estos temas han pasado un tiempo considerable dentro del top, pudiendo considerarlas como aquellas que se han escuchado a más no poder. Las primeras 5 canciones que ocupan este puesto son las siguientes:"
      ]
    },
    {
      "cell_type": "code",
      "execution_count": null,
      "metadata": {
        "colab": {
          "base_uri": "https://localhost:8080/",
          "height": 206
        },
        "id": "R3wlBY-YHAPg",
        "outputId": "cb0a8074-cb3d-4e00-a8f2-f9059a9c8c43"
      },
      "outputs": [
        {
          "data": {
            "text/html": [
              "\n",
              "  <div id=\"df-54c83f30-f8a4-4710-8373-4a6968bd2b90\">\n",
              "    <div class=\"colab-df-container\">\n",
              "      <div>\n",
              "<style scoped>\n",
              "    .dataframe tbody tr th:only-of-type {\n",
              "        vertical-align: middle;\n",
              "    }\n",
              "\n",
              "    .dataframe tbody tr th {\n",
              "        vertical-align: top;\n",
              "    }\n",
              "\n",
              "    .dataframe thead th {\n",
              "        text-align: right;\n",
              "    }\n",
              "</style>\n",
              "<table border=\"1\" class=\"dataframe\">\n",
              "  <thead>\n",
              "    <tr style=\"text-align: right;\">\n",
              "      <th></th>\n",
              "      <th>days</th>\n",
              "    </tr>\n",
              "  </thead>\n",
              "  <tbody>\n",
              "    <tr>\n",
              "      <th>Me Rehúso</th>\n",
              "      <td>353</td>\n",
              "    </tr>\n",
              "    <tr>\n",
              "      <th>Te Boté - Remix</th>\n",
              "      <td>274</td>\n",
              "    </tr>\n",
              "    <tr>\n",
              "      <th>No Me Conoce - Remix</th>\n",
              "      <td>258</td>\n",
              "    </tr>\n",
              "    <tr>\n",
              "      <th>La player (Bandolera)</th>\n",
              "      <td>253</td>\n",
              "    </tr>\n",
              "    <tr>\n",
              "      <th>Cuando Te Besé</th>\n",
              "      <td>248</td>\n",
              "    </tr>\n",
              "  </tbody>\n",
              "</table>\n",
              "</div>\n",
              "      <button class=\"colab-df-convert\" onclick=\"convertToInteractive('df-54c83f30-f8a4-4710-8373-4a6968bd2b90')\"\n",
              "              title=\"Convert this dataframe to an interactive table.\"\n",
              "              style=\"display:none;\">\n",
              "        \n",
              "  <svg xmlns=\"http://www.w3.org/2000/svg\" height=\"24px\"viewBox=\"0 0 24 24\"\n",
              "       width=\"24px\">\n",
              "    <path d=\"M0 0h24v24H0V0z\" fill=\"none\"/>\n",
              "    <path d=\"M18.56 5.44l.94 2.06.94-2.06 2.06-.94-2.06-.94-.94-2.06-.94 2.06-2.06.94zm-11 1L8.5 8.5l.94-2.06 2.06-.94-2.06-.94L8.5 2.5l-.94 2.06-2.06.94zm10 10l.94 2.06.94-2.06 2.06-.94-2.06-.94-.94-2.06-.94 2.06-2.06.94z\"/><path d=\"M17.41 7.96l-1.37-1.37c-.4-.4-.92-.59-1.43-.59-.52 0-1.04.2-1.43.59L10.3 9.45l-7.72 7.72c-.78.78-.78 2.05 0 2.83L4 21.41c.39.39.9.59 1.41.59.51 0 1.02-.2 1.41-.59l7.78-7.78 2.81-2.81c.8-.78.8-2.07 0-2.86zM5.41 20L4 18.59l7.72-7.72 1.47 1.35L5.41 20z\"/>\n",
              "  </svg>\n",
              "      </button>\n",
              "      \n",
              "  <style>\n",
              "    .colab-df-container {\n",
              "      display:flex;\n",
              "      flex-wrap:wrap;\n",
              "      gap: 12px;\n",
              "    }\n",
              "\n",
              "    .colab-df-convert {\n",
              "      background-color: #E8F0FE;\n",
              "      border: none;\n",
              "      border-radius: 50%;\n",
              "      cursor: pointer;\n",
              "      display: none;\n",
              "      fill: #1967D2;\n",
              "      height: 32px;\n",
              "      padding: 0 0 0 0;\n",
              "      width: 32px;\n",
              "    }\n",
              "\n",
              "    .colab-df-convert:hover {\n",
              "      background-color: #E2EBFA;\n",
              "      box-shadow: 0px 1px 2px rgba(60, 64, 67, 0.3), 0px 1px 3px 1px rgba(60, 64, 67, 0.15);\n",
              "      fill: #174EA6;\n",
              "    }\n",
              "\n",
              "    [theme=dark] .colab-df-convert {\n",
              "      background-color: #3B4455;\n",
              "      fill: #D2E3FC;\n",
              "    }\n",
              "\n",
              "    [theme=dark] .colab-df-convert:hover {\n",
              "      background-color: #434B5C;\n",
              "      box-shadow: 0px 1px 3px 1px rgba(0, 0, 0, 0.15);\n",
              "      filter: drop-shadow(0px 1px 2px rgba(0, 0, 0, 0.3));\n",
              "      fill: #FFFFFF;\n",
              "    }\n",
              "  </style>\n",
              "\n",
              "      <script>\n",
              "        const buttonEl =\n",
              "          document.querySelector('#df-54c83f30-f8a4-4710-8373-4a6968bd2b90 button.colab-df-convert');\n",
              "        buttonEl.style.display =\n",
              "          google.colab.kernel.accessAllowed ? 'block' : 'none';\n",
              "\n",
              "        async function convertToInteractive(key) {\n",
              "          const element = document.querySelector('#df-54c83f30-f8a4-4710-8373-4a6968bd2b90');\n",
              "          const dataTable =\n",
              "            await google.colab.kernel.invokeFunction('convertToInteractive',\n",
              "                                                     [key], {});\n",
              "          if (!dataTable) return;\n",
              "\n",
              "          const docLinkHtml = 'Like what you see? Visit the ' +\n",
              "            '<a target=\"_blank\" href=https://colab.research.google.com/notebooks/data_table.ipynb>data table notebook</a>'\n",
              "            + ' to learn more about interactive tables.';\n",
              "          element.innerHTML = '';\n",
              "          dataTable['output_type'] = 'display_data';\n",
              "          await google.colab.output.renderOutput(dataTable, element);\n",
              "          const docLink = document.createElement('div');\n",
              "          docLink.innerHTML = docLinkHtml;\n",
              "          element.appendChild(docLink);\n",
              "        }\n",
              "      </script>\n",
              "    </div>\n",
              "  </div>\n",
              "  "
            ],
            "text/plain": [
              "                       days\n",
              "Me Rehúso               353\n",
              "Te Boté - Remix         274\n",
              "No Me Conoce - Remix    258\n",
              "La player (Bandolera)   253\n",
              "Cuando Te Besé          248"
            ]
          },
          "execution_count": 29,
          "metadata": {},
          "output_type": "execute_result"
        }
      ],
      "source": [
        "days_6months.head()"
      ]
    },
    {
      "cell_type": "markdown",
      "metadata": {
        "id": "P10td7B9HDZG"
      },
      "source": [
        "- Me Rehúso\n",
        "- Te Boté -Remix\n",
        "- No Me Conoce - Remix\n",
        "- La player (Bandolera)\n",
        "- Cuando Te Besé"
      ]
    },
    {
      "cell_type": "markdown",
      "metadata": {
        "id": "ko27anu1ogBY"
      },
      "source": [
        "## Preguntas y problemas relacionadas al Genero\n",
        "\n"
      ]
    },
    {
      "cell_type": "markdown",
      "metadata": {
        "id": "DIlBiyuqoqCz"
      },
      "source": [
        "### Trabajo con DataSet nuevo y implementacion de un Clasificador\n",
        "\n",
        "Primero se trabajo con el mismo dataframe creado para una pregunta anterior, donde tenemos cada cancion de Chile 2021, con sus respectivas features. Como se menciono en el Hito2, las preguntas relacionadas al Genero son de caracter predictivo, por lo tanto, se penso en un clasificador. En este caso logramos obtener el genero musical asociado a un artista a traves de la API de spotify. Esto parece no ser la mejor opcion, ya que un artista asociado a un genero no significa que todas sus canciones sean de dicho genero. \n",
        "\n",
        "Se realizo un join segun la columna artista y artist para tener las canciones relacionadas a un genero, notamos que tenia muchos valores NaN asi que los eliminamos, generamos una clase distinta para cada genero, y notamos que estaban muy desbalanceadas lo que genero problemas con las metricas ya que no parecian muy razonables. Para solucionar esto hicimos subsampling en la clase mayoritaria, pero aun asi las metricas no parecian razonables. \n",
        "\n",
        "Pensamos que estos problemas pueden ser generados porque son muchas clases(una para cada genero) , estan desbalanceadas o porque no se escogió el mejor clasificador. Si tuvieramos mas tiempo, se probarían con otros clasificadores, subsampling o oversampling, se podria modificar el dataset para eliminar algunas clases sobrantes.\n",
        "\n",
        "No obstante este clasificador se podria aplicar para predecir genero por año y asi ver cuales se repiten mas o menos por año y responder la pregunta si ¿Es posible predecir si un género será más/menos popular cada año? , pero los resultados pueden no ser muy confiables. \n",
        "\n",
        "\n"
      ]
    },
    {
      "cell_type": "code",
      "execution_count": null,
      "metadata": {
        "id": "TqI04cgHGsrq"
      },
      "outputs": [],
      "source": [
        "\n",
        "import pandas as pd\n",
        "from google.colab import drive\n",
        "drive.mount('/content/drive')\n",
        "chileFeatures2020 = pd.read_csv('/content/drive/MyDrive/spotify-charts-features.csv')\n",
        "topChileDf = pd.read_csv('/content/drive/MyDrive/topChile.csv')\n",
        "new = topChileDf[\"url\"].str.split(\"track/\", n = 1, expand = True)\n",
        "topChileDf[\"trackID\"] = new[1]\n",
        "# 2021 es hasta septiembre\n",
        "chile2021df = topChileDf[topChileDf[\"date\"]>=\"2021\"]\n",
        "dataframeChile2021Completo = pd.merge(chileFeatures2020, chile2021df, left_on=\"id\", right_on=\"trackID\")\n",
        "dataframeChile2021Completo = dataframeChile2021Completo.dropna(how='any')"
      ]
    },
    {
      "cell_type": "code",
      "execution_count": null,
      "metadata": {
        "colab": {
          "base_uri": "https://localhost:8080/",
          "height": 356
        },
        "id": "8E7tBCT6G5Yp",
        "outputId": "57822766-1859-4d10-89f5-da4d06465ff8"
      },
      "outputs": [
        {
          "data": {
            "text/html": [
              "\n",
              "  <div id=\"df-5b2bb7b8-d688-4ea9-99e1-17d20701be2e\">\n",
              "    <div class=\"colab-df-container\">\n",
              "      <div>\n",
              "<style scoped>\n",
              "    .dataframe tbody tr th:only-of-type {\n",
              "        vertical-align: middle;\n",
              "    }\n",
              "\n",
              "    .dataframe tbody tr th {\n",
              "        vertical-align: top;\n",
              "    }\n",
              "\n",
              "    .dataframe thead th {\n",
              "        text-align: right;\n",
              "    }\n",
              "</style>\n",
              "<table border=\"1\" class=\"dataframe\">\n",
              "  <thead>\n",
              "    <tr style=\"text-align: right;\">\n",
              "      <th></th>\n",
              "      <th>danceability</th>\n",
              "      <th>energy</th>\n",
              "      <th>key</th>\n",
              "      <th>loudness</th>\n",
              "      <th>mode</th>\n",
              "      <th>speechiness</th>\n",
              "      <th>acousticness</th>\n",
              "      <th>instrumentalness</th>\n",
              "      <th>liveness</th>\n",
              "      <th>valence</th>\n",
              "      <th>tempo</th>\n",
              "      <th>type</th>\n",
              "      <th>id</th>\n",
              "      <th>uri</th>\n",
              "      <th>track_href</th>\n",
              "      <th>analysis_url</th>\n",
              "      <th>duration_ms</th>\n",
              "      <th>time_signature</th>\n",
              "      <th>title</th>\n",
              "      <th>rank</th>\n",
              "      <th>date</th>\n",
              "      <th>artist</th>\n",
              "      <th>streams</th>\n",
              "      <th>url</th>\n",
              "      <th>trackID</th>\n",
              "    </tr>\n",
              "  </thead>\n",
              "  <tbody>\n",
              "    <tr>\n",
              "      <th>0</th>\n",
              "      <td>0.801</td>\n",
              "      <td>0.745</td>\n",
              "      <td>6</td>\n",
              "      <td>-3.733</td>\n",
              "      <td>0</td>\n",
              "      <td>0.063</td>\n",
              "      <td>0.398</td>\n",
              "      <td>0.00603</td>\n",
              "      <td>0.153</td>\n",
              "      <td>0.245</td>\n",
              "      <td>104.965</td>\n",
              "      <td>audio_features</td>\n",
              "      <td>3JHpk0DOTOzyh0777JFAky</td>\n",
              "      <td>spotify:track:3JHpk0DOTOzyh0777JFAky</td>\n",
              "      <td>https://api.spotify.com/v1/tracks/3JHpk0DOTOzy...</td>\n",
              "      <td>https://api.spotify.com/v1/audio-analysis/3JHp...</td>\n",
              "      <td>214013</td>\n",
              "      <td>4</td>\n",
              "      <td>Diosa</td>\n",
              "      <td>191</td>\n",
              "      <td>2021-01-01</td>\n",
              "      <td>Myke Towers</td>\n",
              "      <td>35986.0</td>\n",
              "      <td>https://open.spotify.com/track/3JHpk0DOTOzyh07...</td>\n",
              "      <td>3JHpk0DOTOzyh0777JFAky</td>\n",
              "    </tr>\n",
              "    <tr>\n",
              "      <th>1</th>\n",
              "      <td>0.801</td>\n",
              "      <td>0.745</td>\n",
              "      <td>6</td>\n",
              "      <td>-3.733</td>\n",
              "      <td>0</td>\n",
              "      <td>0.063</td>\n",
              "      <td>0.398</td>\n",
              "      <td>0.00603</td>\n",
              "      <td>0.153</td>\n",
              "      <td>0.245</td>\n",
              "      <td>104.965</td>\n",
              "      <td>audio_features</td>\n",
              "      <td>3JHpk0DOTOzyh0777JFAky</td>\n",
              "      <td>spotify:track:3JHpk0DOTOzyh0777JFAky</td>\n",
              "      <td>https://api.spotify.com/v1/tracks/3JHpk0DOTOzy...</td>\n",
              "      <td>https://api.spotify.com/v1/audio-analysis/3JHp...</td>\n",
              "      <td>214013</td>\n",
              "      <td>4</td>\n",
              "      <td>Diosa</td>\n",
              "      <td>95</td>\n",
              "      <td>2021-01-02</td>\n",
              "      <td>Myke Towers</td>\n",
              "      <td>35872.0</td>\n",
              "      <td>https://open.spotify.com/track/3JHpk0DOTOzyh07...</td>\n",
              "      <td>3JHpk0DOTOzyh0777JFAky</td>\n",
              "    </tr>\n",
              "    <tr>\n",
              "      <th>2</th>\n",
              "      <td>0.801</td>\n",
              "      <td>0.745</td>\n",
              "      <td>6</td>\n",
              "      <td>-3.733</td>\n",
              "      <td>0</td>\n",
              "      <td>0.063</td>\n",
              "      <td>0.398</td>\n",
              "      <td>0.00603</td>\n",
              "      <td>0.153</td>\n",
              "      <td>0.245</td>\n",
              "      <td>104.965</td>\n",
              "      <td>audio_features</td>\n",
              "      <td>3JHpk0DOTOzyh0777JFAky</td>\n",
              "      <td>spotify:track:3JHpk0DOTOzyh0777JFAky</td>\n",
              "      <td>https://api.spotify.com/v1/tracks/3JHpk0DOTOzy...</td>\n",
              "      <td>https://api.spotify.com/v1/audio-analysis/3JHp...</td>\n",
              "      <td>214013</td>\n",
              "      <td>4</td>\n",
              "      <td>Diosa</td>\n",
              "      <td>94</td>\n",
              "      <td>2021-01-03</td>\n",
              "      <td>Myke Towers</td>\n",
              "      <td>36415.0</td>\n",
              "      <td>https://open.spotify.com/track/3JHpk0DOTOzyh07...</td>\n",
              "      <td>3JHpk0DOTOzyh0777JFAky</td>\n",
              "    </tr>\n",
              "    <tr>\n",
              "      <th>3</th>\n",
              "      <td>0.801</td>\n",
              "      <td>0.745</td>\n",
              "      <td>6</td>\n",
              "      <td>-3.733</td>\n",
              "      <td>0</td>\n",
              "      <td>0.063</td>\n",
              "      <td>0.398</td>\n",
              "      <td>0.00603</td>\n",
              "      <td>0.153</td>\n",
              "      <td>0.245</td>\n",
              "      <td>104.965</td>\n",
              "      <td>audio_features</td>\n",
              "      <td>3JHpk0DOTOzyh0777JFAky</td>\n",
              "      <td>spotify:track:3JHpk0DOTOzyh0777JFAky</td>\n",
              "      <td>https://api.spotify.com/v1/tracks/3JHpk0DOTOzy...</td>\n",
              "      <td>https://api.spotify.com/v1/audio-analysis/3JHp...</td>\n",
              "      <td>214013</td>\n",
              "      <td>4</td>\n",
              "      <td>Diosa</td>\n",
              "      <td>103</td>\n",
              "      <td>2021-02-01</td>\n",
              "      <td>Myke Towers</td>\n",
              "      <td>37062.0</td>\n",
              "      <td>https://open.spotify.com/track/3JHpk0DOTOzyh07...</td>\n",
              "      <td>3JHpk0DOTOzyh0777JFAky</td>\n",
              "    </tr>\n",
              "    <tr>\n",
              "      <th>4</th>\n",
              "      <td>0.801</td>\n",
              "      <td>0.745</td>\n",
              "      <td>6</td>\n",
              "      <td>-3.733</td>\n",
              "      <td>0</td>\n",
              "      <td>0.063</td>\n",
              "      <td>0.398</td>\n",
              "      <td>0.00603</td>\n",
              "      <td>0.153</td>\n",
              "      <td>0.245</td>\n",
              "      <td>104.965</td>\n",
              "      <td>audio_features</td>\n",
              "      <td>3JHpk0DOTOzyh0777JFAky</td>\n",
              "      <td>spotify:track:3JHpk0DOTOzyh0777JFAky</td>\n",
              "      <td>https://api.spotify.com/v1/tracks/3JHpk0DOTOzy...</td>\n",
              "      <td>https://api.spotify.com/v1/audio-analysis/3JHp...</td>\n",
              "      <td>214013</td>\n",
              "      <td>4</td>\n",
              "      <td>Diosa</td>\n",
              "      <td>102</td>\n",
              "      <td>2021-02-02</td>\n",
              "      <td>Myke Towers</td>\n",
              "      <td>37874.0</td>\n",
              "      <td>https://open.spotify.com/track/3JHpk0DOTOzyh07...</td>\n",
              "      <td>3JHpk0DOTOzyh0777JFAky</td>\n",
              "    </tr>\n",
              "  </tbody>\n",
              "</table>\n",
              "</div>\n",
              "      <button class=\"colab-df-convert\" onclick=\"convertToInteractive('df-5b2bb7b8-d688-4ea9-99e1-17d20701be2e')\"\n",
              "              title=\"Convert this dataframe to an interactive table.\"\n",
              "              style=\"display:none;\">\n",
              "        \n",
              "  <svg xmlns=\"http://www.w3.org/2000/svg\" height=\"24px\"viewBox=\"0 0 24 24\"\n",
              "       width=\"24px\">\n",
              "    <path d=\"M0 0h24v24H0V0z\" fill=\"none\"/>\n",
              "    <path d=\"M18.56 5.44l.94 2.06.94-2.06 2.06-.94-2.06-.94-.94-2.06-.94 2.06-2.06.94zm-11 1L8.5 8.5l.94-2.06 2.06-.94-2.06-.94L8.5 2.5l-.94 2.06-2.06.94zm10 10l.94 2.06.94-2.06 2.06-.94-2.06-.94-.94-2.06-.94 2.06-2.06.94z\"/><path d=\"M17.41 7.96l-1.37-1.37c-.4-.4-.92-.59-1.43-.59-.52 0-1.04.2-1.43.59L10.3 9.45l-7.72 7.72c-.78.78-.78 2.05 0 2.83L4 21.41c.39.39.9.59 1.41.59.51 0 1.02-.2 1.41-.59l7.78-7.78 2.81-2.81c.8-.78.8-2.07 0-2.86zM5.41 20L4 18.59l7.72-7.72 1.47 1.35L5.41 20z\"/>\n",
              "  </svg>\n",
              "      </button>\n",
              "      \n",
              "  <style>\n",
              "    .colab-df-container {\n",
              "      display:flex;\n",
              "      flex-wrap:wrap;\n",
              "      gap: 12px;\n",
              "    }\n",
              "\n",
              "    .colab-df-convert {\n",
              "      background-color: #E8F0FE;\n",
              "      border: none;\n",
              "      border-radius: 50%;\n",
              "      cursor: pointer;\n",
              "      display: none;\n",
              "      fill: #1967D2;\n",
              "      height: 32px;\n",
              "      padding: 0 0 0 0;\n",
              "      width: 32px;\n",
              "    }\n",
              "\n",
              "    .colab-df-convert:hover {\n",
              "      background-color: #E2EBFA;\n",
              "      box-shadow: 0px 1px 2px rgba(60, 64, 67, 0.3), 0px 1px 3px 1px rgba(60, 64, 67, 0.15);\n",
              "      fill: #174EA6;\n",
              "    }\n",
              "\n",
              "    [theme=dark] .colab-df-convert {\n",
              "      background-color: #3B4455;\n",
              "      fill: #D2E3FC;\n",
              "    }\n",
              "\n",
              "    [theme=dark] .colab-df-convert:hover {\n",
              "      background-color: #434B5C;\n",
              "      box-shadow: 0px 1px 3px 1px rgba(0, 0, 0, 0.15);\n",
              "      filter: drop-shadow(0px 1px 2px rgba(0, 0, 0, 0.3));\n",
              "      fill: #FFFFFF;\n",
              "    }\n",
              "  </style>\n",
              "\n",
              "      <script>\n",
              "        const buttonEl =\n",
              "          document.querySelector('#df-5b2bb7b8-d688-4ea9-99e1-17d20701be2e button.colab-df-convert');\n",
              "        buttonEl.style.display =\n",
              "          google.colab.kernel.accessAllowed ? 'block' : 'none';\n",
              "\n",
              "        async function convertToInteractive(key) {\n",
              "          const element = document.querySelector('#df-5b2bb7b8-d688-4ea9-99e1-17d20701be2e');\n",
              "          const dataTable =\n",
              "            await google.colab.kernel.invokeFunction('convertToInteractive',\n",
              "                                                     [key], {});\n",
              "          if (!dataTable) return;\n",
              "\n",
              "          const docLinkHtml = 'Like what you see? Visit the ' +\n",
              "            '<a target=\"_blank\" href=https://colab.research.google.com/notebooks/data_table.ipynb>data table notebook</a>'\n",
              "            + ' to learn more about interactive tables.';\n",
              "          element.innerHTML = '';\n",
              "          dataTable['output_type'] = 'display_data';\n",
              "          await google.colab.output.renderOutput(dataTable, element);\n",
              "          const docLink = document.createElement('div');\n",
              "          docLink.innerHTML = docLinkHtml;\n",
              "          element.appendChild(docLink);\n",
              "        }\n",
              "      </script>\n",
              "    </div>\n",
              "  </div>\n",
              "  "
            ],
            "text/plain": [
              "   danceability  ...                 trackID\n",
              "0         0.801  ...  3JHpk0DOTOzyh0777JFAky\n",
              "1         0.801  ...  3JHpk0DOTOzyh0777JFAky\n",
              "2         0.801  ...  3JHpk0DOTOzyh0777JFAky\n",
              "3         0.801  ...  3JHpk0DOTOzyh0777JFAky\n",
              "4         0.801  ...  3JHpk0DOTOzyh0777JFAky\n",
              "\n",
              "[5 rows x 25 columns]"
            ]
          },
          "execution_count": 2,
          "metadata": {},
          "output_type": "execute_result"
        }
      ],
      "source": [
        "dataframeChile2021Completo.head()"
      ]
    },
    {
      "cell_type": "code",
      "execution_count": null,
      "metadata": {
        "id": "H-nB4XIJHXpW"
      },
      "outputs": [],
      "source": [
        "#Borramos las columnas que no sirven\n",
        "ta = dataframeChile2021Completo.drop(columns=[\"type\",\"key\", \"id\", \"mode\", \"uri\", \"track_href\",\"date\", \"analysis_url\", \"time_signature\", \"url\", \"trackID\", \"duration_ms\", \"streams\"])"
      ]
    },
    {
      "cell_type": "code",
      "execution_count": null,
      "metadata": {
        "colab": {
          "base_uri": "https://localhost:8080/",
          "height": 206
        },
        "id": "uxsURwxpHbXb",
        "outputId": "0ef6ed4c-cd45-4965-b96f-09ad1f8350b7"
      },
      "outputs": [
        {
          "data": {
            "text/html": [
              "\n",
              "  <div id=\"df-d0a31f98-faec-41d8-a4a7-8ce0b5300325\">\n",
              "    <div class=\"colab-df-container\">\n",
              "      <div>\n",
              "<style scoped>\n",
              "    .dataframe tbody tr th:only-of-type {\n",
              "        vertical-align: middle;\n",
              "    }\n",
              "\n",
              "    .dataframe tbody tr th {\n",
              "        vertical-align: top;\n",
              "    }\n",
              "\n",
              "    .dataframe thead th {\n",
              "        text-align: right;\n",
              "    }\n",
              "</style>\n",
              "<table border=\"1\" class=\"dataframe\">\n",
              "  <thead>\n",
              "    <tr style=\"text-align: right;\">\n",
              "      <th></th>\n",
              "      <th>danceability</th>\n",
              "      <th>energy</th>\n",
              "      <th>loudness</th>\n",
              "      <th>speechiness</th>\n",
              "      <th>acousticness</th>\n",
              "      <th>instrumentalness</th>\n",
              "      <th>liveness</th>\n",
              "      <th>valence</th>\n",
              "      <th>tempo</th>\n",
              "      <th>title</th>\n",
              "      <th>rank</th>\n",
              "      <th>artist</th>\n",
              "    </tr>\n",
              "  </thead>\n",
              "  <tbody>\n",
              "    <tr>\n",
              "      <th>0</th>\n",
              "      <td>0.801</td>\n",
              "      <td>0.745</td>\n",
              "      <td>-3.733</td>\n",
              "      <td>0.063</td>\n",
              "      <td>0.398</td>\n",
              "      <td>0.00603</td>\n",
              "      <td>0.153</td>\n",
              "      <td>0.245</td>\n",
              "      <td>104.965</td>\n",
              "      <td>Diosa</td>\n",
              "      <td>191</td>\n",
              "      <td>Myke Towers</td>\n",
              "    </tr>\n",
              "    <tr>\n",
              "      <th>1</th>\n",
              "      <td>0.801</td>\n",
              "      <td>0.745</td>\n",
              "      <td>-3.733</td>\n",
              "      <td>0.063</td>\n",
              "      <td>0.398</td>\n",
              "      <td>0.00603</td>\n",
              "      <td>0.153</td>\n",
              "      <td>0.245</td>\n",
              "      <td>104.965</td>\n",
              "      <td>Diosa</td>\n",
              "      <td>95</td>\n",
              "      <td>Myke Towers</td>\n",
              "    </tr>\n",
              "    <tr>\n",
              "      <th>2</th>\n",
              "      <td>0.801</td>\n",
              "      <td>0.745</td>\n",
              "      <td>-3.733</td>\n",
              "      <td>0.063</td>\n",
              "      <td>0.398</td>\n",
              "      <td>0.00603</td>\n",
              "      <td>0.153</td>\n",
              "      <td>0.245</td>\n",
              "      <td>104.965</td>\n",
              "      <td>Diosa</td>\n",
              "      <td>94</td>\n",
              "      <td>Myke Towers</td>\n",
              "    </tr>\n",
              "    <tr>\n",
              "      <th>3</th>\n",
              "      <td>0.801</td>\n",
              "      <td>0.745</td>\n",
              "      <td>-3.733</td>\n",
              "      <td>0.063</td>\n",
              "      <td>0.398</td>\n",
              "      <td>0.00603</td>\n",
              "      <td>0.153</td>\n",
              "      <td>0.245</td>\n",
              "      <td>104.965</td>\n",
              "      <td>Diosa</td>\n",
              "      <td>103</td>\n",
              "      <td>Myke Towers</td>\n",
              "    </tr>\n",
              "    <tr>\n",
              "      <th>4</th>\n",
              "      <td>0.801</td>\n",
              "      <td>0.745</td>\n",
              "      <td>-3.733</td>\n",
              "      <td>0.063</td>\n",
              "      <td>0.398</td>\n",
              "      <td>0.00603</td>\n",
              "      <td>0.153</td>\n",
              "      <td>0.245</td>\n",
              "      <td>104.965</td>\n",
              "      <td>Diosa</td>\n",
              "      <td>102</td>\n",
              "      <td>Myke Towers</td>\n",
              "    </tr>\n",
              "  </tbody>\n",
              "</table>\n",
              "</div>\n",
              "      <button class=\"colab-df-convert\" onclick=\"convertToInteractive('df-d0a31f98-faec-41d8-a4a7-8ce0b5300325')\"\n",
              "              title=\"Convert this dataframe to an interactive table.\"\n",
              "              style=\"display:none;\">\n",
              "        \n",
              "  <svg xmlns=\"http://www.w3.org/2000/svg\" height=\"24px\"viewBox=\"0 0 24 24\"\n",
              "       width=\"24px\">\n",
              "    <path d=\"M0 0h24v24H0V0z\" fill=\"none\"/>\n",
              "    <path d=\"M18.56 5.44l.94 2.06.94-2.06 2.06-.94-2.06-.94-.94-2.06-.94 2.06-2.06.94zm-11 1L8.5 8.5l.94-2.06 2.06-.94-2.06-.94L8.5 2.5l-.94 2.06-2.06.94zm10 10l.94 2.06.94-2.06 2.06-.94-2.06-.94-.94-2.06-.94 2.06-2.06.94z\"/><path d=\"M17.41 7.96l-1.37-1.37c-.4-.4-.92-.59-1.43-.59-.52 0-1.04.2-1.43.59L10.3 9.45l-7.72 7.72c-.78.78-.78 2.05 0 2.83L4 21.41c.39.39.9.59 1.41.59.51 0 1.02-.2 1.41-.59l7.78-7.78 2.81-2.81c.8-.78.8-2.07 0-2.86zM5.41 20L4 18.59l7.72-7.72 1.47 1.35L5.41 20z\"/>\n",
              "  </svg>\n",
              "      </button>\n",
              "      \n",
              "  <style>\n",
              "    .colab-df-container {\n",
              "      display:flex;\n",
              "      flex-wrap:wrap;\n",
              "      gap: 12px;\n",
              "    }\n",
              "\n",
              "    .colab-df-convert {\n",
              "      background-color: #E8F0FE;\n",
              "      border: none;\n",
              "      border-radius: 50%;\n",
              "      cursor: pointer;\n",
              "      display: none;\n",
              "      fill: #1967D2;\n",
              "      height: 32px;\n",
              "      padding: 0 0 0 0;\n",
              "      width: 32px;\n",
              "    }\n",
              "\n",
              "    .colab-df-convert:hover {\n",
              "      background-color: #E2EBFA;\n",
              "      box-shadow: 0px 1px 2px rgba(60, 64, 67, 0.3), 0px 1px 3px 1px rgba(60, 64, 67, 0.15);\n",
              "      fill: #174EA6;\n",
              "    }\n",
              "\n",
              "    [theme=dark] .colab-df-convert {\n",
              "      background-color: #3B4455;\n",
              "      fill: #D2E3FC;\n",
              "    }\n",
              "\n",
              "    [theme=dark] .colab-df-convert:hover {\n",
              "      background-color: #434B5C;\n",
              "      box-shadow: 0px 1px 3px 1px rgba(0, 0, 0, 0.15);\n",
              "      filter: drop-shadow(0px 1px 2px rgba(0, 0, 0, 0.3));\n",
              "      fill: #FFFFFF;\n",
              "    }\n",
              "  </style>\n",
              "\n",
              "      <script>\n",
              "        const buttonEl =\n",
              "          document.querySelector('#df-d0a31f98-faec-41d8-a4a7-8ce0b5300325 button.colab-df-convert');\n",
              "        buttonEl.style.display =\n",
              "          google.colab.kernel.accessAllowed ? 'block' : 'none';\n",
              "\n",
              "        async function convertToInteractive(key) {\n",
              "          const element = document.querySelector('#df-d0a31f98-faec-41d8-a4a7-8ce0b5300325');\n",
              "          const dataTable =\n",
              "            await google.colab.kernel.invokeFunction('convertToInteractive',\n",
              "                                                     [key], {});\n",
              "          if (!dataTable) return;\n",
              "\n",
              "          const docLinkHtml = 'Like what you see? Visit the ' +\n",
              "            '<a target=\"_blank\" href=https://colab.research.google.com/notebooks/data_table.ipynb>data table notebook</a>'\n",
              "            + ' to learn more about interactive tables.';\n",
              "          element.innerHTML = '';\n",
              "          dataTable['output_type'] = 'display_data';\n",
              "          await google.colab.output.renderOutput(dataTable, element);\n",
              "          const docLink = document.createElement('div');\n",
              "          docLink.innerHTML = docLinkHtml;\n",
              "          element.appendChild(docLink);\n",
              "        }\n",
              "      </script>\n",
              "    </div>\n",
              "  </div>\n",
              "  "
            ],
            "text/plain": [
              "   danceability  energy  loudness  ...  title  rank       artist\n",
              "0         0.801   0.745    -3.733  ...  Diosa   191  Myke Towers\n",
              "1         0.801   0.745    -3.733  ...  Diosa    95  Myke Towers\n",
              "2         0.801   0.745    -3.733  ...  Diosa    94  Myke Towers\n",
              "3         0.801   0.745    -3.733  ...  Diosa   103  Myke Towers\n",
              "4         0.801   0.745    -3.733  ...  Diosa   102  Myke Towers\n",
              "\n",
              "[5 rows x 12 columns]"
            ]
          },
          "execution_count": 4,
          "metadata": {},
          "output_type": "execute_result"
        }
      ],
      "source": [
        "ta.head()"
      ]
    },
    {
      "cell_type": "code",
      "execution_count": null,
      "metadata": {
        "id": "a1KF2JVuHguA"
      },
      "outputs": [],
      "source": [
        "#Hacemos un join con el csv de los generos\n",
        "generos = pd.read_csv('/content/drive/MyDrive/generosArtistas.csv')\n",
        "join = pd.merge(generos, ta, left_on=\"artista\", right_on=\"artist\")"
      ]
    },
    {
      "cell_type": "code",
      "execution_count": null,
      "metadata": {
        "id": "zZMJHlEoHoZ9"
      },
      "outputs": [],
      "source": [
        "#Borramos la columna de artista que esta repetida\n",
        "join = join.drop(columns=[\"artist\"])"
      ]
    },
    {
      "cell_type": "code",
      "execution_count": null,
      "metadata": {
        "colab": {
          "base_uri": "https://localhost:8080/",
          "height": 206
        },
        "id": "iRXFjZnkH4gb",
        "outputId": "b5dd9879-7112-46e8-c405-b927c70d66fc"
      },
      "outputs": [
        {
          "data": {
            "text/html": [
              "\n",
              "  <div id=\"df-9502aa19-d45c-45d4-b29c-c431abf40f25\">\n",
              "    <div class=\"colab-df-container\">\n",
              "      <div>\n",
              "<style scoped>\n",
              "    .dataframe tbody tr th:only-of-type {\n",
              "        vertical-align: middle;\n",
              "    }\n",
              "\n",
              "    .dataframe tbody tr th {\n",
              "        vertical-align: top;\n",
              "    }\n",
              "\n",
              "    .dataframe thead th {\n",
              "        text-align: right;\n",
              "    }\n",
              "</style>\n",
              "<table border=\"1\" class=\"dataframe\">\n",
              "  <thead>\n",
              "    <tr style=\"text-align: right;\">\n",
              "      <th></th>\n",
              "      <th>artista</th>\n",
              "      <th>genero</th>\n",
              "      <th>danceability</th>\n",
              "      <th>energy</th>\n",
              "      <th>loudness</th>\n",
              "      <th>speechiness</th>\n",
              "      <th>acousticness</th>\n",
              "      <th>instrumentalness</th>\n",
              "      <th>liveness</th>\n",
              "      <th>valence</th>\n",
              "      <th>tempo</th>\n",
              "      <th>title</th>\n",
              "      <th>rank</th>\n",
              "    </tr>\n",
              "  </thead>\n",
              "  <tbody>\n",
              "    <tr>\n",
              "      <th>0</th>\n",
              "      <td>Danny Ocean</td>\n",
              "      <td>latin</td>\n",
              "      <td>0.744</td>\n",
              "      <td>0.804</td>\n",
              "      <td>-6.327</td>\n",
              "      <td>0.0677</td>\n",
              "      <td>0.0231</td>\n",
              "      <td>0.0</td>\n",
              "      <td>0.0494</td>\n",
              "      <td>0.426</td>\n",
              "      <td>104.823</td>\n",
              "      <td>Me Rehúso</td>\n",
              "      <td>168</td>\n",
              "    </tr>\n",
              "    <tr>\n",
              "      <th>1</th>\n",
              "      <td>Danny Ocean</td>\n",
              "      <td>latin</td>\n",
              "      <td>0.744</td>\n",
              "      <td>0.804</td>\n",
              "      <td>-6.327</td>\n",
              "      <td>0.0677</td>\n",
              "      <td>0.0231</td>\n",
              "      <td>0.0</td>\n",
              "      <td>0.0494</td>\n",
              "      <td>0.426</td>\n",
              "      <td>104.823</td>\n",
              "      <td>Me Rehúso</td>\n",
              "      <td>162</td>\n",
              "    </tr>\n",
              "    <tr>\n",
              "      <th>2</th>\n",
              "      <td>Danny Ocean</td>\n",
              "      <td>latin</td>\n",
              "      <td>0.744</td>\n",
              "      <td>0.804</td>\n",
              "      <td>-6.327</td>\n",
              "      <td>0.0677</td>\n",
              "      <td>0.0231</td>\n",
              "      <td>0.0</td>\n",
              "      <td>0.0494</td>\n",
              "      <td>0.426</td>\n",
              "      <td>104.823</td>\n",
              "      <td>Me Rehúso</td>\n",
              "      <td>180</td>\n",
              "    </tr>\n",
              "    <tr>\n",
              "      <th>3</th>\n",
              "      <td>Danny Ocean</td>\n",
              "      <td>latin</td>\n",
              "      <td>0.744</td>\n",
              "      <td>0.804</td>\n",
              "      <td>-6.327</td>\n",
              "      <td>0.0677</td>\n",
              "      <td>0.0231</td>\n",
              "      <td>0.0</td>\n",
              "      <td>0.0494</td>\n",
              "      <td>0.426</td>\n",
              "      <td>104.823</td>\n",
              "      <td>Me Rehúso</td>\n",
              "      <td>179</td>\n",
              "    </tr>\n",
              "    <tr>\n",
              "      <th>4</th>\n",
              "      <td>Danny Ocean</td>\n",
              "      <td>latin</td>\n",
              "      <td>0.744</td>\n",
              "      <td>0.804</td>\n",
              "      <td>-6.327</td>\n",
              "      <td>0.0677</td>\n",
              "      <td>0.0231</td>\n",
              "      <td>0.0</td>\n",
              "      <td>0.0494</td>\n",
              "      <td>0.426</td>\n",
              "      <td>104.823</td>\n",
              "      <td>Me Rehúso</td>\n",
              "      <td>179</td>\n",
              "    </tr>\n",
              "  </tbody>\n",
              "</table>\n",
              "</div>\n",
              "      <button class=\"colab-df-convert\" onclick=\"convertToInteractive('df-9502aa19-d45c-45d4-b29c-c431abf40f25')\"\n",
              "              title=\"Convert this dataframe to an interactive table.\"\n",
              "              style=\"display:none;\">\n",
              "        \n",
              "  <svg xmlns=\"http://www.w3.org/2000/svg\" height=\"24px\"viewBox=\"0 0 24 24\"\n",
              "       width=\"24px\">\n",
              "    <path d=\"M0 0h24v24H0V0z\" fill=\"none\"/>\n",
              "    <path d=\"M18.56 5.44l.94 2.06.94-2.06 2.06-.94-2.06-.94-.94-2.06-.94 2.06-2.06.94zm-11 1L8.5 8.5l.94-2.06 2.06-.94-2.06-.94L8.5 2.5l-.94 2.06-2.06.94zm10 10l.94 2.06.94-2.06 2.06-.94-2.06-.94-.94-2.06-.94 2.06-2.06.94z\"/><path d=\"M17.41 7.96l-1.37-1.37c-.4-.4-.92-.59-1.43-.59-.52 0-1.04.2-1.43.59L10.3 9.45l-7.72 7.72c-.78.78-.78 2.05 0 2.83L4 21.41c.39.39.9.59 1.41.59.51 0 1.02-.2 1.41-.59l7.78-7.78 2.81-2.81c.8-.78.8-2.07 0-2.86zM5.41 20L4 18.59l7.72-7.72 1.47 1.35L5.41 20z\"/>\n",
              "  </svg>\n",
              "      </button>\n",
              "      \n",
              "  <style>\n",
              "    .colab-df-container {\n",
              "      display:flex;\n",
              "      flex-wrap:wrap;\n",
              "      gap: 12px;\n",
              "    }\n",
              "\n",
              "    .colab-df-convert {\n",
              "      background-color: #E8F0FE;\n",
              "      border: none;\n",
              "      border-radius: 50%;\n",
              "      cursor: pointer;\n",
              "      display: none;\n",
              "      fill: #1967D2;\n",
              "      height: 32px;\n",
              "      padding: 0 0 0 0;\n",
              "      width: 32px;\n",
              "    }\n",
              "\n",
              "    .colab-df-convert:hover {\n",
              "      background-color: #E2EBFA;\n",
              "      box-shadow: 0px 1px 2px rgba(60, 64, 67, 0.3), 0px 1px 3px 1px rgba(60, 64, 67, 0.15);\n",
              "      fill: #174EA6;\n",
              "    }\n",
              "\n",
              "    [theme=dark] .colab-df-convert {\n",
              "      background-color: #3B4455;\n",
              "      fill: #D2E3FC;\n",
              "    }\n",
              "\n",
              "    [theme=dark] .colab-df-convert:hover {\n",
              "      background-color: #434B5C;\n",
              "      box-shadow: 0px 1px 3px 1px rgba(0, 0, 0, 0.15);\n",
              "      filter: drop-shadow(0px 1px 2px rgba(0, 0, 0, 0.3));\n",
              "      fill: #FFFFFF;\n",
              "    }\n",
              "  </style>\n",
              "\n",
              "      <script>\n",
              "        const buttonEl =\n",
              "          document.querySelector('#df-9502aa19-d45c-45d4-b29c-c431abf40f25 button.colab-df-convert');\n",
              "        buttonEl.style.display =\n",
              "          google.colab.kernel.accessAllowed ? 'block' : 'none';\n",
              "\n",
              "        async function convertToInteractive(key) {\n",
              "          const element = document.querySelector('#df-9502aa19-d45c-45d4-b29c-c431abf40f25');\n",
              "          const dataTable =\n",
              "            await google.colab.kernel.invokeFunction('convertToInteractive',\n",
              "                                                     [key], {});\n",
              "          if (!dataTable) return;\n",
              "\n",
              "          const docLinkHtml = 'Like what you see? Visit the ' +\n",
              "            '<a target=\"_blank\" href=https://colab.research.google.com/notebooks/data_table.ipynb>data table notebook</a>'\n",
              "            + ' to learn more about interactive tables.';\n",
              "          element.innerHTML = '';\n",
              "          dataTable['output_type'] = 'display_data';\n",
              "          await google.colab.output.renderOutput(dataTable, element);\n",
              "          const docLink = document.createElement('div');\n",
              "          docLink.innerHTML = docLinkHtml;\n",
              "          element.appendChild(docLink);\n",
              "        }\n",
              "      </script>\n",
              "    </div>\n",
              "  </div>\n",
              "  "
            ],
            "text/plain": [
              "       artista genero  danceability  energy  ...  valence    tempo      title  rank\n",
              "0  Danny Ocean  latin         0.744   0.804  ...    0.426  104.823  Me Rehúso   168\n",
              "1  Danny Ocean  latin         0.744   0.804  ...    0.426  104.823  Me Rehúso   162\n",
              "2  Danny Ocean  latin         0.744   0.804  ...    0.426  104.823  Me Rehúso   180\n",
              "3  Danny Ocean  latin         0.744   0.804  ...    0.426  104.823  Me Rehúso   179\n",
              "4  Danny Ocean  latin         0.744   0.804  ...    0.426  104.823  Me Rehúso   179\n",
              "\n",
              "[5 rows x 13 columns]"
            ]
          },
          "execution_count": 7,
          "metadata": {},
          "output_type": "execute_result"
        }
      ],
      "source": [
        "join.head()"
      ]
    },
    {
      "cell_type": "code",
      "execution_count": null,
      "metadata": {
        "colab": {
          "base_uri": "https://localhost:8080/"
        },
        "id": "Z-Yqz2MDH9Fc",
        "outputId": "89b21c04-2289-43d9-e62f-e9949b913b5f"
      },
      "outputs": [
        {
          "data": {
            "text/plain": [
              "artista                   0\n",
              "genero              4162258\n",
              "danceability              0\n",
              "energy                    0\n",
              "loudness                  0\n",
              "speechiness               0\n",
              "acousticness              0\n",
              "instrumentalness          0\n",
              "liveness                  0\n",
              "valence                   0\n",
              "tempo                     0\n",
              "title                     0\n",
              "rank                      0\n",
              "dtype: int64"
            ]
          },
          "execution_count": 8,
          "metadata": {},
          "output_type": "execute_result"
        }
      ],
      "source": [
        "#Revisamos los NaN\n",
        "join.isna().sum()"
      ]
    },
    {
      "cell_type": "code",
      "execution_count": null,
      "metadata": {
        "id": "_gfUwjhhINGT"
      },
      "outputs": [],
      "source": [
        "#Eliminamos los Nan\n",
        "join.dropna(subset = [\"genero\"], inplace=True)"
      ]
    },
    {
      "cell_type": "code",
      "execution_count": null,
      "metadata": {
        "colab": {
          "base_uri": "https://localhost:8080/"
        },
        "id": "8K4L03jwIQtI",
        "outputId": "fb60fc70-4582-4e7f-8b9b-480c4fc493b8"
      },
      "outputs": [
        {
          "data": {
            "text/plain": [
              "artista             0\n",
              "genero              0\n",
              "danceability        0\n",
              "energy              0\n",
              "loudness            0\n",
              "speechiness         0\n",
              "acousticness        0\n",
              "instrumentalness    0\n",
              "liveness            0\n",
              "valence             0\n",
              "tempo               0\n",
              "title               0\n",
              "rank                0\n",
              "dtype: int64"
            ]
          },
          "execution_count": 10,
          "metadata": {},
          "output_type": "execute_result"
        }
      ],
      "source": [
        "#Comprobamos que se borraron\n",
        "join.isna().sum()"
      ]
    },
    {
      "cell_type": "code",
      "execution_count": null,
      "metadata": {
        "colab": {
          "base_uri": "https://localhost:8080/",
          "height": 206
        },
        "id": "7oPO_K4OITbl",
        "outputId": "d3ae301b-5703-4786-a8ce-622fb9ee579a"
      },
      "outputs": [
        {
          "data": {
            "text/html": [
              "\n",
              "  <div id=\"df-ffe74bae-9220-4881-85d9-eabece493051\">\n",
              "    <div class=\"colab-df-container\">\n",
              "      <div>\n",
              "<style scoped>\n",
              "    .dataframe tbody tr th:only-of-type {\n",
              "        vertical-align: middle;\n",
              "    }\n",
              "\n",
              "    .dataframe tbody tr th {\n",
              "        vertical-align: top;\n",
              "    }\n",
              "\n",
              "    .dataframe thead th {\n",
              "        text-align: right;\n",
              "    }\n",
              "</style>\n",
              "<table border=\"1\" class=\"dataframe\">\n",
              "  <thead>\n",
              "    <tr style=\"text-align: right;\">\n",
              "      <th></th>\n",
              "      <th>artista</th>\n",
              "      <th>genero</th>\n",
              "      <th>danceability</th>\n",
              "      <th>energy</th>\n",
              "      <th>loudness</th>\n",
              "      <th>speechiness</th>\n",
              "      <th>acousticness</th>\n",
              "      <th>instrumentalness</th>\n",
              "      <th>liveness</th>\n",
              "      <th>valence</th>\n",
              "      <th>tempo</th>\n",
              "      <th>title</th>\n",
              "      <th>rank</th>\n",
              "    </tr>\n",
              "  </thead>\n",
              "  <tbody>\n",
              "    <tr>\n",
              "      <th>0</th>\n",
              "      <td>Danny Ocean</td>\n",
              "      <td>latin</td>\n",
              "      <td>0.744</td>\n",
              "      <td>0.804</td>\n",
              "      <td>-6.327</td>\n",
              "      <td>0.0677</td>\n",
              "      <td>0.0231</td>\n",
              "      <td>0.0</td>\n",
              "      <td>0.0494</td>\n",
              "      <td>0.426</td>\n",
              "      <td>104.823</td>\n",
              "      <td>Me Rehúso</td>\n",
              "      <td>168</td>\n",
              "    </tr>\n",
              "    <tr>\n",
              "      <th>1</th>\n",
              "      <td>Danny Ocean</td>\n",
              "      <td>latin</td>\n",
              "      <td>0.744</td>\n",
              "      <td>0.804</td>\n",
              "      <td>-6.327</td>\n",
              "      <td>0.0677</td>\n",
              "      <td>0.0231</td>\n",
              "      <td>0.0</td>\n",
              "      <td>0.0494</td>\n",
              "      <td>0.426</td>\n",
              "      <td>104.823</td>\n",
              "      <td>Me Rehúso</td>\n",
              "      <td>162</td>\n",
              "    </tr>\n",
              "    <tr>\n",
              "      <th>2</th>\n",
              "      <td>Danny Ocean</td>\n",
              "      <td>latin</td>\n",
              "      <td>0.744</td>\n",
              "      <td>0.804</td>\n",
              "      <td>-6.327</td>\n",
              "      <td>0.0677</td>\n",
              "      <td>0.0231</td>\n",
              "      <td>0.0</td>\n",
              "      <td>0.0494</td>\n",
              "      <td>0.426</td>\n",
              "      <td>104.823</td>\n",
              "      <td>Me Rehúso</td>\n",
              "      <td>180</td>\n",
              "    </tr>\n",
              "    <tr>\n",
              "      <th>3</th>\n",
              "      <td>Danny Ocean</td>\n",
              "      <td>latin</td>\n",
              "      <td>0.744</td>\n",
              "      <td>0.804</td>\n",
              "      <td>-6.327</td>\n",
              "      <td>0.0677</td>\n",
              "      <td>0.0231</td>\n",
              "      <td>0.0</td>\n",
              "      <td>0.0494</td>\n",
              "      <td>0.426</td>\n",
              "      <td>104.823</td>\n",
              "      <td>Me Rehúso</td>\n",
              "      <td>179</td>\n",
              "    </tr>\n",
              "    <tr>\n",
              "      <th>4</th>\n",
              "      <td>Danny Ocean</td>\n",
              "      <td>latin</td>\n",
              "      <td>0.744</td>\n",
              "      <td>0.804</td>\n",
              "      <td>-6.327</td>\n",
              "      <td>0.0677</td>\n",
              "      <td>0.0231</td>\n",
              "      <td>0.0</td>\n",
              "      <td>0.0494</td>\n",
              "      <td>0.426</td>\n",
              "      <td>104.823</td>\n",
              "      <td>Me Rehúso</td>\n",
              "      <td>179</td>\n",
              "    </tr>\n",
              "  </tbody>\n",
              "</table>\n",
              "</div>\n",
              "      <button class=\"colab-df-convert\" onclick=\"convertToInteractive('df-ffe74bae-9220-4881-85d9-eabece493051')\"\n",
              "              title=\"Convert this dataframe to an interactive table.\"\n",
              "              style=\"display:none;\">\n",
              "        \n",
              "  <svg xmlns=\"http://www.w3.org/2000/svg\" height=\"24px\"viewBox=\"0 0 24 24\"\n",
              "       width=\"24px\">\n",
              "    <path d=\"M0 0h24v24H0V0z\" fill=\"none\"/>\n",
              "    <path d=\"M18.56 5.44l.94 2.06.94-2.06 2.06-.94-2.06-.94-.94-2.06-.94 2.06-2.06.94zm-11 1L8.5 8.5l.94-2.06 2.06-.94-2.06-.94L8.5 2.5l-.94 2.06-2.06.94zm10 10l.94 2.06.94-2.06 2.06-.94-2.06-.94-.94-2.06-.94 2.06-2.06.94z\"/><path d=\"M17.41 7.96l-1.37-1.37c-.4-.4-.92-.59-1.43-.59-.52 0-1.04.2-1.43.59L10.3 9.45l-7.72 7.72c-.78.78-.78 2.05 0 2.83L4 21.41c.39.39.9.59 1.41.59.51 0 1.02-.2 1.41-.59l7.78-7.78 2.81-2.81c.8-.78.8-2.07 0-2.86zM5.41 20L4 18.59l7.72-7.72 1.47 1.35L5.41 20z\"/>\n",
              "  </svg>\n",
              "      </button>\n",
              "      \n",
              "  <style>\n",
              "    .colab-df-container {\n",
              "      display:flex;\n",
              "      flex-wrap:wrap;\n",
              "      gap: 12px;\n",
              "    }\n",
              "\n",
              "    .colab-df-convert {\n",
              "      background-color: #E8F0FE;\n",
              "      border: none;\n",
              "      border-radius: 50%;\n",
              "      cursor: pointer;\n",
              "      display: none;\n",
              "      fill: #1967D2;\n",
              "      height: 32px;\n",
              "      padding: 0 0 0 0;\n",
              "      width: 32px;\n",
              "    }\n",
              "\n",
              "    .colab-df-convert:hover {\n",
              "      background-color: #E2EBFA;\n",
              "      box-shadow: 0px 1px 2px rgba(60, 64, 67, 0.3), 0px 1px 3px 1px rgba(60, 64, 67, 0.15);\n",
              "      fill: #174EA6;\n",
              "    }\n",
              "\n",
              "    [theme=dark] .colab-df-convert {\n",
              "      background-color: #3B4455;\n",
              "      fill: #D2E3FC;\n",
              "    }\n",
              "\n",
              "    [theme=dark] .colab-df-convert:hover {\n",
              "      background-color: #434B5C;\n",
              "      box-shadow: 0px 1px 3px 1px rgba(0, 0, 0, 0.15);\n",
              "      filter: drop-shadow(0px 1px 2px rgba(0, 0, 0, 0.3));\n",
              "      fill: #FFFFFF;\n",
              "    }\n",
              "  </style>\n",
              "\n",
              "      <script>\n",
              "        const buttonEl =\n",
              "          document.querySelector('#df-ffe74bae-9220-4881-85d9-eabece493051 button.colab-df-convert');\n",
              "        buttonEl.style.display =\n",
              "          google.colab.kernel.accessAllowed ? 'block' : 'none';\n",
              "\n",
              "        async function convertToInteractive(key) {\n",
              "          const element = document.querySelector('#df-ffe74bae-9220-4881-85d9-eabece493051');\n",
              "          const dataTable =\n",
              "            await google.colab.kernel.invokeFunction('convertToInteractive',\n",
              "                                                     [key], {});\n",
              "          if (!dataTable) return;\n",
              "\n",
              "          const docLinkHtml = 'Like what you see? Visit the ' +\n",
              "            '<a target=\"_blank\" href=https://colab.research.google.com/notebooks/data_table.ipynb>data table notebook</a>'\n",
              "            + ' to learn more about interactive tables.';\n",
              "          element.innerHTML = '';\n",
              "          dataTable['output_type'] = 'display_data';\n",
              "          await google.colab.output.renderOutput(dataTable, element);\n",
              "          const docLink = document.createElement('div');\n",
              "          docLink.innerHTML = docLinkHtml;\n",
              "          element.appendChild(docLink);\n",
              "        }\n",
              "      </script>\n",
              "    </div>\n",
              "  </div>\n",
              "  "
            ],
            "text/plain": [
              "       artista genero  danceability  energy  ...  valence    tempo      title  rank\n",
              "0  Danny Ocean  latin         0.744   0.804  ...    0.426  104.823  Me Rehúso   168\n",
              "1  Danny Ocean  latin         0.744   0.804  ...    0.426  104.823  Me Rehúso   162\n",
              "2  Danny Ocean  latin         0.744   0.804  ...    0.426  104.823  Me Rehúso   180\n",
              "3  Danny Ocean  latin         0.744   0.804  ...    0.426  104.823  Me Rehúso   179\n",
              "4  Danny Ocean  latin         0.744   0.804  ...    0.426  104.823  Me Rehúso   179\n",
              "\n",
              "[5 rows x 13 columns]"
            ]
          },
          "execution_count": 11,
          "metadata": {},
          "output_type": "execute_result"
        }
      ],
      "source": [
        "join.head()"
      ]
    },
    {
      "cell_type": "code",
      "execution_count": null,
      "metadata": {
        "id": "SglwzxpnIZzh"
      },
      "outputs": [],
      "source": [
        "#Borramos las columnas con palabras, porque no dejan usar el clasificador\n",
        "join = join.drop(columns=[\"title\",\"rank\"])"
      ]
    },
    {
      "cell_type": "code",
      "execution_count": null,
      "metadata": {
        "colab": {
          "base_uri": "https://localhost:8080/",
          "height": 206
        },
        "id": "mpmsqAPWIeuv",
        "outputId": "fe8d71ce-1696-4c8f-e436-8ec461834c2b"
      },
      "outputs": [
        {
          "data": {
            "text/html": [
              "\n",
              "  <div id=\"df-d539bdb3-2abd-4cf3-9592-294cb117069f\">\n",
              "    <div class=\"colab-df-container\">\n",
              "      <div>\n",
              "<style scoped>\n",
              "    .dataframe tbody tr th:only-of-type {\n",
              "        vertical-align: middle;\n",
              "    }\n",
              "\n",
              "    .dataframe tbody tr th {\n",
              "        vertical-align: top;\n",
              "    }\n",
              "\n",
              "    .dataframe thead th {\n",
              "        text-align: right;\n",
              "    }\n",
              "</style>\n",
              "<table border=\"1\" class=\"dataframe\">\n",
              "  <thead>\n",
              "    <tr style=\"text-align: right;\">\n",
              "      <th></th>\n",
              "      <th>artista</th>\n",
              "      <th>genero</th>\n",
              "      <th>danceability</th>\n",
              "      <th>energy</th>\n",
              "      <th>loudness</th>\n",
              "      <th>speechiness</th>\n",
              "      <th>acousticness</th>\n",
              "      <th>instrumentalness</th>\n",
              "      <th>liveness</th>\n",
              "      <th>valence</th>\n",
              "      <th>tempo</th>\n",
              "    </tr>\n",
              "  </thead>\n",
              "  <tbody>\n",
              "    <tr>\n",
              "      <th>0</th>\n",
              "      <td>Danny Ocean</td>\n",
              "      <td>latin</td>\n",
              "      <td>0.744</td>\n",
              "      <td>0.804</td>\n",
              "      <td>-6.327</td>\n",
              "      <td>0.0677</td>\n",
              "      <td>0.0231</td>\n",
              "      <td>0.0</td>\n",
              "      <td>0.0494</td>\n",
              "      <td>0.426</td>\n",
              "      <td>104.823</td>\n",
              "    </tr>\n",
              "    <tr>\n",
              "      <th>1</th>\n",
              "      <td>Danny Ocean</td>\n",
              "      <td>latin</td>\n",
              "      <td>0.744</td>\n",
              "      <td>0.804</td>\n",
              "      <td>-6.327</td>\n",
              "      <td>0.0677</td>\n",
              "      <td>0.0231</td>\n",
              "      <td>0.0</td>\n",
              "      <td>0.0494</td>\n",
              "      <td>0.426</td>\n",
              "      <td>104.823</td>\n",
              "    </tr>\n",
              "    <tr>\n",
              "      <th>2</th>\n",
              "      <td>Danny Ocean</td>\n",
              "      <td>latin</td>\n",
              "      <td>0.744</td>\n",
              "      <td>0.804</td>\n",
              "      <td>-6.327</td>\n",
              "      <td>0.0677</td>\n",
              "      <td>0.0231</td>\n",
              "      <td>0.0</td>\n",
              "      <td>0.0494</td>\n",
              "      <td>0.426</td>\n",
              "      <td>104.823</td>\n",
              "    </tr>\n",
              "    <tr>\n",
              "      <th>3</th>\n",
              "      <td>Danny Ocean</td>\n",
              "      <td>latin</td>\n",
              "      <td>0.744</td>\n",
              "      <td>0.804</td>\n",
              "      <td>-6.327</td>\n",
              "      <td>0.0677</td>\n",
              "      <td>0.0231</td>\n",
              "      <td>0.0</td>\n",
              "      <td>0.0494</td>\n",
              "      <td>0.426</td>\n",
              "      <td>104.823</td>\n",
              "    </tr>\n",
              "    <tr>\n",
              "      <th>4</th>\n",
              "      <td>Danny Ocean</td>\n",
              "      <td>latin</td>\n",
              "      <td>0.744</td>\n",
              "      <td>0.804</td>\n",
              "      <td>-6.327</td>\n",
              "      <td>0.0677</td>\n",
              "      <td>0.0231</td>\n",
              "      <td>0.0</td>\n",
              "      <td>0.0494</td>\n",
              "      <td>0.426</td>\n",
              "      <td>104.823</td>\n",
              "    </tr>\n",
              "  </tbody>\n",
              "</table>\n",
              "</div>\n",
              "      <button class=\"colab-df-convert\" onclick=\"convertToInteractive('df-d539bdb3-2abd-4cf3-9592-294cb117069f')\"\n",
              "              title=\"Convert this dataframe to an interactive table.\"\n",
              "              style=\"display:none;\">\n",
              "        \n",
              "  <svg xmlns=\"http://www.w3.org/2000/svg\" height=\"24px\"viewBox=\"0 0 24 24\"\n",
              "       width=\"24px\">\n",
              "    <path d=\"M0 0h24v24H0V0z\" fill=\"none\"/>\n",
              "    <path d=\"M18.56 5.44l.94 2.06.94-2.06 2.06-.94-2.06-.94-.94-2.06-.94 2.06-2.06.94zm-11 1L8.5 8.5l.94-2.06 2.06-.94-2.06-.94L8.5 2.5l-.94 2.06-2.06.94zm10 10l.94 2.06.94-2.06 2.06-.94-2.06-.94-.94-2.06-.94 2.06-2.06.94z\"/><path d=\"M17.41 7.96l-1.37-1.37c-.4-.4-.92-.59-1.43-.59-.52 0-1.04.2-1.43.59L10.3 9.45l-7.72 7.72c-.78.78-.78 2.05 0 2.83L4 21.41c.39.39.9.59 1.41.59.51 0 1.02-.2 1.41-.59l7.78-7.78 2.81-2.81c.8-.78.8-2.07 0-2.86zM5.41 20L4 18.59l7.72-7.72 1.47 1.35L5.41 20z\"/>\n",
              "  </svg>\n",
              "      </button>\n",
              "      \n",
              "  <style>\n",
              "    .colab-df-container {\n",
              "      display:flex;\n",
              "      flex-wrap:wrap;\n",
              "      gap: 12px;\n",
              "    }\n",
              "\n",
              "    .colab-df-convert {\n",
              "      background-color: #E8F0FE;\n",
              "      border: none;\n",
              "      border-radius: 50%;\n",
              "      cursor: pointer;\n",
              "      display: none;\n",
              "      fill: #1967D2;\n",
              "      height: 32px;\n",
              "      padding: 0 0 0 0;\n",
              "      width: 32px;\n",
              "    }\n",
              "\n",
              "    .colab-df-convert:hover {\n",
              "      background-color: #E2EBFA;\n",
              "      box-shadow: 0px 1px 2px rgba(60, 64, 67, 0.3), 0px 1px 3px 1px rgba(60, 64, 67, 0.15);\n",
              "      fill: #174EA6;\n",
              "    }\n",
              "\n",
              "    [theme=dark] .colab-df-convert {\n",
              "      background-color: #3B4455;\n",
              "      fill: #D2E3FC;\n",
              "    }\n",
              "\n",
              "    [theme=dark] .colab-df-convert:hover {\n",
              "      background-color: #434B5C;\n",
              "      box-shadow: 0px 1px 3px 1px rgba(0, 0, 0, 0.15);\n",
              "      filter: drop-shadow(0px 1px 2px rgba(0, 0, 0, 0.3));\n",
              "      fill: #FFFFFF;\n",
              "    }\n",
              "  </style>\n",
              "\n",
              "      <script>\n",
              "        const buttonEl =\n",
              "          document.querySelector('#df-d539bdb3-2abd-4cf3-9592-294cb117069f button.colab-df-convert');\n",
              "        buttonEl.style.display =\n",
              "          google.colab.kernel.accessAllowed ? 'block' : 'none';\n",
              "\n",
              "        async function convertToInteractive(key) {\n",
              "          const element = document.querySelector('#df-d539bdb3-2abd-4cf3-9592-294cb117069f');\n",
              "          const dataTable =\n",
              "            await google.colab.kernel.invokeFunction('convertToInteractive',\n",
              "                                                     [key], {});\n",
              "          if (!dataTable) return;\n",
              "\n",
              "          const docLinkHtml = 'Like what you see? Visit the ' +\n",
              "            '<a target=\"_blank\" href=https://colab.research.google.com/notebooks/data_table.ipynb>data table notebook</a>'\n",
              "            + ' to learn more about interactive tables.';\n",
              "          element.innerHTML = '';\n",
              "          dataTable['output_type'] = 'display_data';\n",
              "          await google.colab.output.renderOutput(dataTable, element);\n",
              "          const docLink = document.createElement('div');\n",
              "          docLink.innerHTML = docLinkHtml;\n",
              "          element.appendChild(docLink);\n",
              "        }\n",
              "      </script>\n",
              "    </div>\n",
              "  </div>\n",
              "  "
            ],
            "text/plain": [
              "       artista genero  danceability  ...  liveness  valence    tempo\n",
              "0  Danny Ocean  latin         0.744  ...    0.0494    0.426  104.823\n",
              "1  Danny Ocean  latin         0.744  ...    0.0494    0.426  104.823\n",
              "2  Danny Ocean  latin         0.744  ...    0.0494    0.426  104.823\n",
              "3  Danny Ocean  latin         0.744  ...    0.0494    0.426  104.823\n",
              "4  Danny Ocean  latin         0.744  ...    0.0494    0.426  104.823\n",
              "\n",
              "[5 rows x 11 columns]"
            ]
          },
          "execution_count": 13,
          "metadata": {},
          "output_type": "execute_result"
        }
      ],
      "source": [
        "join.head()"
      ]
    },
    {
      "cell_type": "code",
      "execution_count": null,
      "metadata": {
        "colab": {
          "base_uri": "https://localhost:8080/"
        },
        "id": "mRSYo-ObIuph",
        "outputId": "e273ffbf-37c2-405e-f6cb-ae3b49f9c247"
      },
      "outputs": [
        {
          "name": "stdout",
          "output_type": "stream",
          "text": [
            "<class 'pandas.core.frame.DataFrame'>\n",
            "Int64Index: 3419498 entries, 0 to 7581458\n",
            "Data columns (total 11 columns):\n",
            " #   Column            Dtype  \n",
            "---  ------            -----  \n",
            " 0   artista           object \n",
            " 1   genero            object \n",
            " 2   danceability      float64\n",
            " 3   energy            float64\n",
            " 4   loudness          float64\n",
            " 5   speechiness       float64\n",
            " 6   acousticness      float64\n",
            " 7   instrumentalness  float64\n",
            " 8   liveness          float64\n",
            " 9   valence           float64\n",
            " 10  tempo             float64\n",
            "dtypes: float64(9), object(2)\n",
            "memory usage: 313.1+ MB\n"
          ]
        }
      ],
      "source": [
        "join.info()"
      ]
    },
    {
      "cell_type": "code",
      "execution_count": null,
      "metadata": {
        "colab": {
          "base_uri": "https://localhost:8080/"
        },
        "id": "AFp1WdB-J3eR",
        "outputId": "833bfb3c-ae59-4c6c-f342-a94d448d14c3"
      },
      "outputs": [
        {
          "data": {
            "text/plain": [
              "latin                  1353923\n",
              "dance pop               325754\n",
              "trap latino             312297\n",
              "pop                     249940\n",
              "puerto rican pop        182706\n",
              "                        ...   \n",
              "nyc rap                      1\n",
              "beatlesque                   1\n",
              "cumbia sonidera              1\n",
              "gruperas inmortales          1\n",
              "hip hop                      1\n",
              "Name: genero, Length: 65, dtype: int64"
            ]
          },
          "execution_count": 15,
          "metadata": {},
          "output_type": "execute_result"
        }
      ],
      "source": [
        "#Vemos que las clases estan desbalanceadas y tienen generos con muy pocas canciones\n",
        "join[\"genero\"].value_counts()"
      ]
    },
    {
      "cell_type": "code",
      "execution_count": null,
      "metadata": {
        "colab": {
          "base_uri": "https://localhost:8080/",
          "height": 331
        },
        "id": "53-V73a9KCia",
        "outputId": "c0e1146f-1b47-427d-f709-24e2a5381a48"
      },
      "outputs": [
        {
          "data": {
            "text/html": [
              "\n",
              "  <div id=\"df-8e7c3353-4f0b-4b2d-a4d5-d9e99d6c9d2a\">\n",
              "    <div class=\"colab-df-container\">\n",
              "      <div>\n",
              "<style scoped>\n",
              "    .dataframe tbody tr th:only-of-type {\n",
              "        vertical-align: middle;\n",
              "    }\n",
              "\n",
              "    .dataframe tbody tr th {\n",
              "        vertical-align: top;\n",
              "    }\n",
              "\n",
              "    .dataframe thead th {\n",
              "        text-align: right;\n",
              "    }\n",
              "</style>\n",
              "<table border=\"1\" class=\"dataframe\">\n",
              "  <thead>\n",
              "    <tr style=\"text-align: right;\">\n",
              "      <th></th>\n",
              "      <th>danceability</th>\n",
              "      <th>energy</th>\n",
              "      <th>loudness</th>\n",
              "      <th>speechiness</th>\n",
              "      <th>acousticness</th>\n",
              "      <th>instrumentalness</th>\n",
              "      <th>liveness</th>\n",
              "      <th>valence</th>\n",
              "      <th>tempo</th>\n",
              "    </tr>\n",
              "  </thead>\n",
              "  <tbody>\n",
              "    <tr>\n",
              "      <th>danceability</th>\n",
              "      <td>1.000000</td>\n",
              "      <td>0.198011</td>\n",
              "      <td>0.312868</td>\n",
              "      <td>0.199528</td>\n",
              "      <td>-0.244819</td>\n",
              "      <td>0.037277</td>\n",
              "      <td>-0.124371</td>\n",
              "      <td>0.468436</td>\n",
              "      <td>-0.225479</td>\n",
              "    </tr>\n",
              "    <tr>\n",
              "      <th>energy</th>\n",
              "      <td>0.198011</td>\n",
              "      <td>1.000000</td>\n",
              "      <td>0.627784</td>\n",
              "      <td>-0.072313</td>\n",
              "      <td>-0.519159</td>\n",
              "      <td>-0.040783</td>\n",
              "      <td>0.054207</td>\n",
              "      <td>0.329553</td>\n",
              "      <td>-0.037152</td>\n",
              "    </tr>\n",
              "    <tr>\n",
              "      <th>loudness</th>\n",
              "      <td>0.312868</td>\n",
              "      <td>0.627784</td>\n",
              "      <td>1.000000</td>\n",
              "      <td>-0.058174</td>\n",
              "      <td>-0.357210</td>\n",
              "      <td>-0.143787</td>\n",
              "      <td>-0.030581</td>\n",
              "      <td>0.292779</td>\n",
              "      <td>-0.009646</td>\n",
              "    </tr>\n",
              "    <tr>\n",
              "      <th>speechiness</th>\n",
              "      <td>0.199528</td>\n",
              "      <td>-0.072313</td>\n",
              "      <td>-0.058174</td>\n",
              "      <td>1.000000</td>\n",
              "      <td>-0.002957</td>\n",
              "      <td>0.003308</td>\n",
              "      <td>0.078970</td>\n",
              "      <td>0.136545</td>\n",
              "      <td>0.261826</td>\n",
              "    </tr>\n",
              "    <tr>\n",
              "      <th>acousticness</th>\n",
              "      <td>-0.244819</td>\n",
              "      <td>-0.519159</td>\n",
              "      <td>-0.357210</td>\n",
              "      <td>-0.002957</td>\n",
              "      <td>1.000000</td>\n",
              "      <td>-0.070605</td>\n",
              "      <td>0.005533</td>\n",
              "      <td>-0.250444</td>\n",
              "      <td>0.070064</td>\n",
              "    </tr>\n",
              "    <tr>\n",
              "      <th>instrumentalness</th>\n",
              "      <td>0.037277</td>\n",
              "      <td>-0.040783</td>\n",
              "      <td>-0.143787</td>\n",
              "      <td>0.003308</td>\n",
              "      <td>-0.070605</td>\n",
              "      <td>1.000000</td>\n",
              "      <td>-0.023085</td>\n",
              "      <td>0.028317</td>\n",
              "      <td>0.001530</td>\n",
              "    </tr>\n",
              "    <tr>\n",
              "      <th>liveness</th>\n",
              "      <td>-0.124371</td>\n",
              "      <td>0.054207</td>\n",
              "      <td>-0.030581</td>\n",
              "      <td>0.078970</td>\n",
              "      <td>0.005533</td>\n",
              "      <td>-0.023085</td>\n",
              "      <td>1.000000</td>\n",
              "      <td>-0.031781</td>\n",
              "      <td>-0.061666</td>\n",
              "    </tr>\n",
              "    <tr>\n",
              "      <th>valence</th>\n",
              "      <td>0.468436</td>\n",
              "      <td>0.329553</td>\n",
              "      <td>0.292779</td>\n",
              "      <td>0.136545</td>\n",
              "      <td>-0.250444</td>\n",
              "      <td>0.028317</td>\n",
              "      <td>-0.031781</td>\n",
              "      <td>1.000000</td>\n",
              "      <td>-0.047814</td>\n",
              "    </tr>\n",
              "    <tr>\n",
              "      <th>tempo</th>\n",
              "      <td>-0.225479</td>\n",
              "      <td>-0.037152</td>\n",
              "      <td>-0.009646</td>\n",
              "      <td>0.261826</td>\n",
              "      <td>0.070064</td>\n",
              "      <td>0.001530</td>\n",
              "      <td>-0.061666</td>\n",
              "      <td>-0.047814</td>\n",
              "      <td>1.000000</td>\n",
              "    </tr>\n",
              "  </tbody>\n",
              "</table>\n",
              "</div>\n",
              "      <button class=\"colab-df-convert\" onclick=\"convertToInteractive('df-8e7c3353-4f0b-4b2d-a4d5-d9e99d6c9d2a')\"\n",
              "              title=\"Convert this dataframe to an interactive table.\"\n",
              "              style=\"display:none;\">\n",
              "        \n",
              "  <svg xmlns=\"http://www.w3.org/2000/svg\" height=\"24px\"viewBox=\"0 0 24 24\"\n",
              "       width=\"24px\">\n",
              "    <path d=\"M0 0h24v24H0V0z\" fill=\"none\"/>\n",
              "    <path d=\"M18.56 5.44l.94 2.06.94-2.06 2.06-.94-2.06-.94-.94-2.06-.94 2.06-2.06.94zm-11 1L8.5 8.5l.94-2.06 2.06-.94-2.06-.94L8.5 2.5l-.94 2.06-2.06.94zm10 10l.94 2.06.94-2.06 2.06-.94-2.06-.94-.94-2.06-.94 2.06-2.06.94z\"/><path d=\"M17.41 7.96l-1.37-1.37c-.4-.4-.92-.59-1.43-.59-.52 0-1.04.2-1.43.59L10.3 9.45l-7.72 7.72c-.78.78-.78 2.05 0 2.83L4 21.41c.39.39.9.59 1.41.59.51 0 1.02-.2 1.41-.59l7.78-7.78 2.81-2.81c.8-.78.8-2.07 0-2.86zM5.41 20L4 18.59l7.72-7.72 1.47 1.35L5.41 20z\"/>\n",
              "  </svg>\n",
              "      </button>\n",
              "      \n",
              "  <style>\n",
              "    .colab-df-container {\n",
              "      display:flex;\n",
              "      flex-wrap:wrap;\n",
              "      gap: 12px;\n",
              "    }\n",
              "\n",
              "    .colab-df-convert {\n",
              "      background-color: #E8F0FE;\n",
              "      border: none;\n",
              "      border-radius: 50%;\n",
              "      cursor: pointer;\n",
              "      display: none;\n",
              "      fill: #1967D2;\n",
              "      height: 32px;\n",
              "      padding: 0 0 0 0;\n",
              "      width: 32px;\n",
              "    }\n",
              "\n",
              "    .colab-df-convert:hover {\n",
              "      background-color: #E2EBFA;\n",
              "      box-shadow: 0px 1px 2px rgba(60, 64, 67, 0.3), 0px 1px 3px 1px rgba(60, 64, 67, 0.15);\n",
              "      fill: #174EA6;\n",
              "    }\n",
              "\n",
              "    [theme=dark] .colab-df-convert {\n",
              "      background-color: #3B4455;\n",
              "      fill: #D2E3FC;\n",
              "    }\n",
              "\n",
              "    [theme=dark] .colab-df-convert:hover {\n",
              "      background-color: #434B5C;\n",
              "      box-shadow: 0px 1px 3px 1px rgba(0, 0, 0, 0.15);\n",
              "      filter: drop-shadow(0px 1px 2px rgba(0, 0, 0, 0.3));\n",
              "      fill: #FFFFFF;\n",
              "    }\n",
              "  </style>\n",
              "\n",
              "      <script>\n",
              "        const buttonEl =\n",
              "          document.querySelector('#df-8e7c3353-4f0b-4b2d-a4d5-d9e99d6c9d2a button.colab-df-convert');\n",
              "        buttonEl.style.display =\n",
              "          google.colab.kernel.accessAllowed ? 'block' : 'none';\n",
              "\n",
              "        async function convertToInteractive(key) {\n",
              "          const element = document.querySelector('#df-8e7c3353-4f0b-4b2d-a4d5-d9e99d6c9d2a');\n",
              "          const dataTable =\n",
              "            await google.colab.kernel.invokeFunction('convertToInteractive',\n",
              "                                                     [key], {});\n",
              "          if (!dataTable) return;\n",
              "\n",
              "          const docLinkHtml = 'Like what you see? Visit the ' +\n",
              "            '<a target=\"_blank\" href=https://colab.research.google.com/notebooks/data_table.ipynb>data table notebook</a>'\n",
              "            + ' to learn more about interactive tables.';\n",
              "          element.innerHTML = '';\n",
              "          dataTable['output_type'] = 'display_data';\n",
              "          await google.colab.output.renderOutput(dataTable, element);\n",
              "          const docLink = document.createElement('div');\n",
              "          docLink.innerHTML = docLinkHtml;\n",
              "          element.appendChild(docLink);\n",
              "        }\n",
              "      </script>\n",
              "    </div>\n",
              "  </div>\n",
              "  "
            ],
            "text/plain": [
              "                  danceability    energy  ...   valence     tempo\n",
              "danceability          1.000000  0.198011  ...  0.468436 -0.225479\n",
              "energy                0.198011  1.000000  ...  0.329553 -0.037152\n",
              "loudness              0.312868  0.627784  ...  0.292779 -0.009646\n",
              "speechiness           0.199528 -0.072313  ...  0.136545  0.261826\n",
              "acousticness         -0.244819 -0.519159  ... -0.250444  0.070064\n",
              "instrumentalness      0.037277 -0.040783  ...  0.028317  0.001530\n",
              "liveness             -0.124371  0.054207  ... -0.031781 -0.061666\n",
              "valence               0.468436  0.329553  ...  1.000000 -0.047814\n",
              "tempo                -0.225479 -0.037152  ... -0.047814  1.000000\n",
              "\n",
              "[9 rows x 9 columns]"
            ]
          },
          "execution_count": 16,
          "metadata": {},
          "output_type": "execute_result"
        }
      ],
      "source": [
        "join.corr()"
      ]
    },
    {
      "cell_type": "code",
      "execution_count": null,
      "metadata": {
        "id": "mL1WZYhQKOYy"
      },
      "outputs": [],
      "source": [
        "#import matplotlib.pyplot as plt\n",
        "#from sklearn import preprocessing\n",
        "\n",
        "#%matplotlib inline"
      ]
    },
    {
      "cell_type": "code",
      "execution_count": null,
      "metadata": {
        "id": "b8YR8hEMKzwY"
      },
      "outputs": [],
      "source": [
        "#plt.style.use('ggplot')\n",
        "#join[\"genero\"].hist()"
      ]
    },
    {
      "cell_type": "code",
      "execution_count": null,
      "metadata": {
        "colab": {
          "base_uri": "https://localhost:8080/"
        },
        "id": "ft4XDJd8LrXd",
        "outputId": "47def835-f77c-4ab8-9b85-a0039a79f3c7"
      },
      "outputs": [
        {
          "data": {
            "text/plain": [
              "latin                  1353923\n",
              "dance pop               325754\n",
              "trap latino             312297\n",
              "pop                     249940\n",
              "puerto rican pop        182706\n",
              "                        ...   \n",
              "nyc rap                      1\n",
              "beatlesque                   1\n",
              "cumbia sonidera              1\n",
              "gruperas inmortales          1\n",
              "hip hop                      1\n",
              "Name: genero, Length: 65, dtype: int64"
            ]
          },
          "execution_count": 17,
          "metadata": {},
          "output_type": "execute_result"
        }
      ],
      "source": [
        "#Clases desbalanceadas\n",
        "from sklearn.model_selection import train_test_split\n",
        "\n",
        "join[\"genero\"].value_counts()"
      ]
    },
    {
      "cell_type": "code",
      "execution_count": null,
      "metadata": {
        "id": "BQKP8DxDNaAq"
      },
      "outputs": [],
      "source": [
        "arrayGeneros = join['genero'].unique()"
      ]
    },
    {
      "cell_type": "code",
      "execution_count": null,
      "metadata": {
        "colab": {
          "base_uri": "https://localhost:8080/"
        },
        "id": "aGoj_LfnPKlZ",
        "outputId": "d6768a34-9f2c-46d0-d59c-f82a45540df8"
      },
      "outputs": [
        {
          "name": "stdout",
          "output_type": "stream",
          "text": [
            "['latin' 'pop' 'boy band' 'dance pop' 'colombian pop' 'modern rock'\n",
            " 'chilean rock' 'australian dance' 'canadian pop'\n",
            " 'canadian contemporary r&b' 'art pop' 'cumbia chilena' 'beatlesque'\n",
            " 'argentine rock' 'chicha' 'banda' 'contemporary country' 'classic rock'\n",
            " 'k-pop' 'album rock' 'argentine hip hop' 'bachata' 'dominican pop'\n",
            " 'cumbia sonidera' 'bolero' 'latin pop' 'chicago rap' 'trap latino'\n",
            " 'lgbtq+ hip hop' 'puerto rican pop' 'australian pop' 'basshall'\n",
            " 'gruperas inmortales' 'salsa' 'trap chileno' 'melodic rap' 'cubaton'\n",
            " 'bedroom pop' 'rap chileno' 'cali rap' 'trap venezolano' 'panamanian pop'\n",
            " 'tropical' 'cha-cha-cha' 'corrido' 'modern alternative rock'\n",
            " 'mexican indie' 'reggaeton' 'italian hip hop' 'big room' 'dutch pop'\n",
            " 'australian hip hop' 'indie triste' 'perreo' 'ambient' 'glam metal'\n",
            " 'reggaeton chileno' 'electro' 'dreamo' 'nyc rap' 'indie rock italiano'\n",
            " 'concurso de talentos argentino' 'pop argentino' 'alternative hip hop'\n",
            " 'hip hop']\n"
          ]
        }
      ],
      "source": [
        "print(arrayGeneros)\n",
        "df = pd.DataFrame(arrayGeneros)"
      ]
    },
    {
      "cell_type": "code",
      "execution_count": null,
      "metadata": {
        "colab": {
          "base_uri": "https://localhost:8080/",
          "height": 424
        },
        "id": "j6bq0i2aPed9",
        "outputId": "0acc6871-e881-4b1b-9c7b-f6ee31a4d9f3"
      },
      "outputs": [
        {
          "data": {
            "text/html": [
              "\n",
              "  <div id=\"df-1863aba4-a900-40bd-adb8-ad6918ab3e21\">\n",
              "    <div class=\"colab-df-container\">\n",
              "      <div>\n",
              "<style scoped>\n",
              "    .dataframe tbody tr th:only-of-type {\n",
              "        vertical-align: middle;\n",
              "    }\n",
              "\n",
              "    .dataframe tbody tr th {\n",
              "        vertical-align: top;\n",
              "    }\n",
              "\n",
              "    .dataframe thead th {\n",
              "        text-align: right;\n",
              "    }\n",
              "</style>\n",
              "<table border=\"1\" class=\"dataframe\">\n",
              "  <thead>\n",
              "    <tr style=\"text-align: right;\">\n",
              "      <th></th>\n",
              "      <th>0</th>\n",
              "    </tr>\n",
              "  </thead>\n",
              "  <tbody>\n",
              "    <tr>\n",
              "      <th>0</th>\n",
              "      <td>latin</td>\n",
              "    </tr>\n",
              "    <tr>\n",
              "      <th>1</th>\n",
              "      <td>pop</td>\n",
              "    </tr>\n",
              "    <tr>\n",
              "      <th>2</th>\n",
              "      <td>boy band</td>\n",
              "    </tr>\n",
              "    <tr>\n",
              "      <th>3</th>\n",
              "      <td>dance pop</td>\n",
              "    </tr>\n",
              "    <tr>\n",
              "      <th>4</th>\n",
              "      <td>colombian pop</td>\n",
              "    </tr>\n",
              "    <tr>\n",
              "      <th>...</th>\n",
              "      <td>...</td>\n",
              "    </tr>\n",
              "    <tr>\n",
              "      <th>60</th>\n",
              "      <td>indie rock italiano</td>\n",
              "    </tr>\n",
              "    <tr>\n",
              "      <th>61</th>\n",
              "      <td>concurso de talentos argentino</td>\n",
              "    </tr>\n",
              "    <tr>\n",
              "      <th>62</th>\n",
              "      <td>pop argentino</td>\n",
              "    </tr>\n",
              "    <tr>\n",
              "      <th>63</th>\n",
              "      <td>alternative hip hop</td>\n",
              "    </tr>\n",
              "    <tr>\n",
              "      <th>64</th>\n",
              "      <td>hip hop</td>\n",
              "    </tr>\n",
              "  </tbody>\n",
              "</table>\n",
              "<p>65 rows × 1 columns</p>\n",
              "</div>\n",
              "      <button class=\"colab-df-convert\" onclick=\"convertToInteractive('df-1863aba4-a900-40bd-adb8-ad6918ab3e21')\"\n",
              "              title=\"Convert this dataframe to an interactive table.\"\n",
              "              style=\"display:none;\">\n",
              "        \n",
              "  <svg xmlns=\"http://www.w3.org/2000/svg\" height=\"24px\"viewBox=\"0 0 24 24\"\n",
              "       width=\"24px\">\n",
              "    <path d=\"M0 0h24v24H0V0z\" fill=\"none\"/>\n",
              "    <path d=\"M18.56 5.44l.94 2.06.94-2.06 2.06-.94-2.06-.94-.94-2.06-.94 2.06-2.06.94zm-11 1L8.5 8.5l.94-2.06 2.06-.94-2.06-.94L8.5 2.5l-.94 2.06-2.06.94zm10 10l.94 2.06.94-2.06 2.06-.94-2.06-.94-.94-2.06-.94 2.06-2.06.94z\"/><path d=\"M17.41 7.96l-1.37-1.37c-.4-.4-.92-.59-1.43-.59-.52 0-1.04.2-1.43.59L10.3 9.45l-7.72 7.72c-.78.78-.78 2.05 0 2.83L4 21.41c.39.39.9.59 1.41.59.51 0 1.02-.2 1.41-.59l7.78-7.78 2.81-2.81c.8-.78.8-2.07 0-2.86zM5.41 20L4 18.59l7.72-7.72 1.47 1.35L5.41 20z\"/>\n",
              "  </svg>\n",
              "      </button>\n",
              "      \n",
              "  <style>\n",
              "    .colab-df-container {\n",
              "      display:flex;\n",
              "      flex-wrap:wrap;\n",
              "      gap: 12px;\n",
              "    }\n",
              "\n",
              "    .colab-df-convert {\n",
              "      background-color: #E8F0FE;\n",
              "      border: none;\n",
              "      border-radius: 50%;\n",
              "      cursor: pointer;\n",
              "      display: none;\n",
              "      fill: #1967D2;\n",
              "      height: 32px;\n",
              "      padding: 0 0 0 0;\n",
              "      width: 32px;\n",
              "    }\n",
              "\n",
              "    .colab-df-convert:hover {\n",
              "      background-color: #E2EBFA;\n",
              "      box-shadow: 0px 1px 2px rgba(60, 64, 67, 0.3), 0px 1px 3px 1px rgba(60, 64, 67, 0.15);\n",
              "      fill: #174EA6;\n",
              "    }\n",
              "\n",
              "    [theme=dark] .colab-df-convert {\n",
              "      background-color: #3B4455;\n",
              "      fill: #D2E3FC;\n",
              "    }\n",
              "\n",
              "    [theme=dark] .colab-df-convert:hover {\n",
              "      background-color: #434B5C;\n",
              "      box-shadow: 0px 1px 3px 1px rgba(0, 0, 0, 0.15);\n",
              "      filter: drop-shadow(0px 1px 2px rgba(0, 0, 0, 0.3));\n",
              "      fill: #FFFFFF;\n",
              "    }\n",
              "  </style>\n",
              "\n",
              "      <script>\n",
              "        const buttonEl =\n",
              "          document.querySelector('#df-1863aba4-a900-40bd-adb8-ad6918ab3e21 button.colab-df-convert');\n",
              "        buttonEl.style.display =\n",
              "          google.colab.kernel.accessAllowed ? 'block' : 'none';\n",
              "\n",
              "        async function convertToInteractive(key) {\n",
              "          const element = document.querySelector('#df-1863aba4-a900-40bd-adb8-ad6918ab3e21');\n",
              "          const dataTable =\n",
              "            await google.colab.kernel.invokeFunction('convertToInteractive',\n",
              "                                                     [key], {});\n",
              "          if (!dataTable) return;\n",
              "\n",
              "          const docLinkHtml = 'Like what you see? Visit the ' +\n",
              "            '<a target=\"_blank\" href=https://colab.research.google.com/notebooks/data_table.ipynb>data table notebook</a>'\n",
              "            + ' to learn more about interactive tables.';\n",
              "          element.innerHTML = '';\n",
              "          dataTable['output_type'] = 'display_data';\n",
              "          await google.colab.output.renderOutput(dataTable, element);\n",
              "          const docLink = document.createElement('div');\n",
              "          docLink.innerHTML = docLinkHtml;\n",
              "          element.appendChild(docLink);\n",
              "        }\n",
              "      </script>\n",
              "    </div>\n",
              "  </div>\n",
              "  "
            ],
            "text/plain": [
              "                                 0\n",
              "0                            latin\n",
              "1                              pop\n",
              "2                         boy band\n",
              "3                        dance pop\n",
              "4                    colombian pop\n",
              "..                             ...\n",
              "60             indie rock italiano\n",
              "61  concurso de talentos argentino\n",
              "62                   pop argentino\n",
              "63             alternative hip hop\n",
              "64                         hip hop\n",
              "\n",
              "[65 rows x 1 columns]"
            ]
          },
          "execution_count": 20,
          "metadata": {},
          "output_type": "execute_result"
        }
      ],
      "source": [
        "df"
      ]
    },
    {
      "cell_type": "code",
      "execution_count": null,
      "metadata": {
        "id": "h48_WoAPP-vp"
      },
      "outputs": [],
      "source": [
        "df.columns = ['generoZ']"
      ]
    },
    {
      "cell_type": "code",
      "execution_count": null,
      "metadata": {
        "colab": {
          "base_uri": "https://localhost:8080/",
          "height": 424
        },
        "id": "Pyf8R7soQUU1",
        "outputId": "7fead8d0-166f-457f-b5d8-8e63a7e52af6"
      },
      "outputs": [
        {
          "data": {
            "text/html": [
              "\n",
              "  <div id=\"df-0881324f-17c4-4205-8c0b-d45127f18007\">\n",
              "    <div class=\"colab-df-container\">\n",
              "      <div>\n",
              "<style scoped>\n",
              "    .dataframe tbody tr th:only-of-type {\n",
              "        vertical-align: middle;\n",
              "    }\n",
              "\n",
              "    .dataframe tbody tr th {\n",
              "        vertical-align: top;\n",
              "    }\n",
              "\n",
              "    .dataframe thead th {\n",
              "        text-align: right;\n",
              "    }\n",
              "</style>\n",
              "<table border=\"1\" class=\"dataframe\">\n",
              "  <thead>\n",
              "    <tr style=\"text-align: right;\">\n",
              "      <th></th>\n",
              "      <th>generoZ</th>\n",
              "    </tr>\n",
              "  </thead>\n",
              "  <tbody>\n",
              "    <tr>\n",
              "      <th>0</th>\n",
              "      <td>latin</td>\n",
              "    </tr>\n",
              "    <tr>\n",
              "      <th>1</th>\n",
              "      <td>pop</td>\n",
              "    </tr>\n",
              "    <tr>\n",
              "      <th>2</th>\n",
              "      <td>boy band</td>\n",
              "    </tr>\n",
              "    <tr>\n",
              "      <th>3</th>\n",
              "      <td>dance pop</td>\n",
              "    </tr>\n",
              "    <tr>\n",
              "      <th>4</th>\n",
              "      <td>colombian pop</td>\n",
              "    </tr>\n",
              "    <tr>\n",
              "      <th>...</th>\n",
              "      <td>...</td>\n",
              "    </tr>\n",
              "    <tr>\n",
              "      <th>60</th>\n",
              "      <td>indie rock italiano</td>\n",
              "    </tr>\n",
              "    <tr>\n",
              "      <th>61</th>\n",
              "      <td>concurso de talentos argentino</td>\n",
              "    </tr>\n",
              "    <tr>\n",
              "      <th>62</th>\n",
              "      <td>pop argentino</td>\n",
              "    </tr>\n",
              "    <tr>\n",
              "      <th>63</th>\n",
              "      <td>alternative hip hop</td>\n",
              "    </tr>\n",
              "    <tr>\n",
              "      <th>64</th>\n",
              "      <td>hip hop</td>\n",
              "    </tr>\n",
              "  </tbody>\n",
              "</table>\n",
              "<p>65 rows × 1 columns</p>\n",
              "</div>\n",
              "      <button class=\"colab-df-convert\" onclick=\"convertToInteractive('df-0881324f-17c4-4205-8c0b-d45127f18007')\"\n",
              "              title=\"Convert this dataframe to an interactive table.\"\n",
              "              style=\"display:none;\">\n",
              "        \n",
              "  <svg xmlns=\"http://www.w3.org/2000/svg\" height=\"24px\"viewBox=\"0 0 24 24\"\n",
              "       width=\"24px\">\n",
              "    <path d=\"M0 0h24v24H0V0z\" fill=\"none\"/>\n",
              "    <path d=\"M18.56 5.44l.94 2.06.94-2.06 2.06-.94-2.06-.94-.94-2.06-.94 2.06-2.06.94zm-11 1L8.5 8.5l.94-2.06 2.06-.94-2.06-.94L8.5 2.5l-.94 2.06-2.06.94zm10 10l.94 2.06.94-2.06 2.06-.94-2.06-.94-.94-2.06-.94 2.06-2.06.94z\"/><path d=\"M17.41 7.96l-1.37-1.37c-.4-.4-.92-.59-1.43-.59-.52 0-1.04.2-1.43.59L10.3 9.45l-7.72 7.72c-.78.78-.78 2.05 0 2.83L4 21.41c.39.39.9.59 1.41.59.51 0 1.02-.2 1.41-.59l7.78-7.78 2.81-2.81c.8-.78.8-2.07 0-2.86zM5.41 20L4 18.59l7.72-7.72 1.47 1.35L5.41 20z\"/>\n",
              "  </svg>\n",
              "      </button>\n",
              "      \n",
              "  <style>\n",
              "    .colab-df-container {\n",
              "      display:flex;\n",
              "      flex-wrap:wrap;\n",
              "      gap: 12px;\n",
              "    }\n",
              "\n",
              "    .colab-df-convert {\n",
              "      background-color: #E8F0FE;\n",
              "      border: none;\n",
              "      border-radius: 50%;\n",
              "      cursor: pointer;\n",
              "      display: none;\n",
              "      fill: #1967D2;\n",
              "      height: 32px;\n",
              "      padding: 0 0 0 0;\n",
              "      width: 32px;\n",
              "    }\n",
              "\n",
              "    .colab-df-convert:hover {\n",
              "      background-color: #E2EBFA;\n",
              "      box-shadow: 0px 1px 2px rgba(60, 64, 67, 0.3), 0px 1px 3px 1px rgba(60, 64, 67, 0.15);\n",
              "      fill: #174EA6;\n",
              "    }\n",
              "\n",
              "    [theme=dark] .colab-df-convert {\n",
              "      background-color: #3B4455;\n",
              "      fill: #D2E3FC;\n",
              "    }\n",
              "\n",
              "    [theme=dark] .colab-df-convert:hover {\n",
              "      background-color: #434B5C;\n",
              "      box-shadow: 0px 1px 3px 1px rgba(0, 0, 0, 0.15);\n",
              "      filter: drop-shadow(0px 1px 2px rgba(0, 0, 0, 0.3));\n",
              "      fill: #FFFFFF;\n",
              "    }\n",
              "  </style>\n",
              "\n",
              "      <script>\n",
              "        const buttonEl =\n",
              "          document.querySelector('#df-0881324f-17c4-4205-8c0b-d45127f18007 button.colab-df-convert');\n",
              "        buttonEl.style.display =\n",
              "          google.colab.kernel.accessAllowed ? 'block' : 'none';\n",
              "\n",
              "        async function convertToInteractive(key) {\n",
              "          const element = document.querySelector('#df-0881324f-17c4-4205-8c0b-d45127f18007');\n",
              "          const dataTable =\n",
              "            await google.colab.kernel.invokeFunction('convertToInteractive',\n",
              "                                                     [key], {});\n",
              "          if (!dataTable) return;\n",
              "\n",
              "          const docLinkHtml = 'Like what you see? Visit the ' +\n",
              "            '<a target=\"_blank\" href=https://colab.research.google.com/notebooks/data_table.ipynb>data table notebook</a>'\n",
              "            + ' to learn more about interactive tables.';\n",
              "          element.innerHTML = '';\n",
              "          dataTable['output_type'] = 'display_data';\n",
              "          await google.colab.output.renderOutput(dataTable, element);\n",
              "          const docLink = document.createElement('div');\n",
              "          docLink.innerHTML = docLinkHtml;\n",
              "          element.appendChild(docLink);\n",
              "        }\n",
              "      </script>\n",
              "    </div>\n",
              "  </div>\n",
              "  "
            ],
            "text/plain": [
              "                           generoZ\n",
              "0                            latin\n",
              "1                              pop\n",
              "2                         boy band\n",
              "3                        dance pop\n",
              "4                    colombian pop\n",
              "..                             ...\n",
              "60             indie rock italiano\n",
              "61  concurso de talentos argentino\n",
              "62                   pop argentino\n",
              "63             alternative hip hop\n",
              "64                         hip hop\n",
              "\n",
              "[65 rows x 1 columns]"
            ]
          },
          "execution_count": 22,
          "metadata": {},
          "output_type": "execute_result"
        }
      ],
      "source": [
        "df"
      ]
    },
    {
      "cell_type": "code",
      "execution_count": null,
      "metadata": {
        "id": "dT_MBfHXW-xK"
      },
      "outputs": [],
      "source": [
        "#len(df)\n",
        "\n",
        "\n",
        "X, y = df , range(len(df))"
      ]
    },
    {
      "cell_type": "code",
      "execution_count": null,
      "metadata": {
        "id": "8oubD_bFXG0M"
      },
      "outputs": [],
      "source": [
        "#X"
      ]
    },
    {
      "cell_type": "code",
      "execution_count": null,
      "metadata": {
        "id": "04ZlwDQnXIlX"
      },
      "outputs": [],
      "source": [
        "#list(y)\n",
        "df[\"Class\"] = list(y)"
      ]
    },
    {
      "cell_type": "code",
      "execution_count": null,
      "metadata": {
        "colab": {
          "base_uri": "https://localhost:8080/",
          "height": 424
        },
        "id": "NScsof4TX27G",
        "outputId": "1fabca5d-f8ee-4d6d-8429-3eee7566e707"
      },
      "outputs": [
        {
          "data": {
            "text/html": [
              "\n",
              "  <div id=\"df-87911adb-1770-41c8-a779-611f06d5bb8f\">\n",
              "    <div class=\"colab-df-container\">\n",
              "      <div>\n",
              "<style scoped>\n",
              "    .dataframe tbody tr th:only-of-type {\n",
              "        vertical-align: middle;\n",
              "    }\n",
              "\n",
              "    .dataframe tbody tr th {\n",
              "        vertical-align: top;\n",
              "    }\n",
              "\n",
              "    .dataframe thead th {\n",
              "        text-align: right;\n",
              "    }\n",
              "</style>\n",
              "<table border=\"1\" class=\"dataframe\">\n",
              "  <thead>\n",
              "    <tr style=\"text-align: right;\">\n",
              "      <th></th>\n",
              "      <th>generoZ</th>\n",
              "      <th>Class</th>\n",
              "    </tr>\n",
              "  </thead>\n",
              "  <tbody>\n",
              "    <tr>\n",
              "      <th>0</th>\n",
              "      <td>latin</td>\n",
              "      <td>0</td>\n",
              "    </tr>\n",
              "    <tr>\n",
              "      <th>1</th>\n",
              "      <td>pop</td>\n",
              "      <td>1</td>\n",
              "    </tr>\n",
              "    <tr>\n",
              "      <th>2</th>\n",
              "      <td>boy band</td>\n",
              "      <td>2</td>\n",
              "    </tr>\n",
              "    <tr>\n",
              "      <th>3</th>\n",
              "      <td>dance pop</td>\n",
              "      <td>3</td>\n",
              "    </tr>\n",
              "    <tr>\n",
              "      <th>4</th>\n",
              "      <td>colombian pop</td>\n",
              "      <td>4</td>\n",
              "    </tr>\n",
              "    <tr>\n",
              "      <th>...</th>\n",
              "      <td>...</td>\n",
              "      <td>...</td>\n",
              "    </tr>\n",
              "    <tr>\n",
              "      <th>60</th>\n",
              "      <td>indie rock italiano</td>\n",
              "      <td>60</td>\n",
              "    </tr>\n",
              "    <tr>\n",
              "      <th>61</th>\n",
              "      <td>concurso de talentos argentino</td>\n",
              "      <td>61</td>\n",
              "    </tr>\n",
              "    <tr>\n",
              "      <th>62</th>\n",
              "      <td>pop argentino</td>\n",
              "      <td>62</td>\n",
              "    </tr>\n",
              "    <tr>\n",
              "      <th>63</th>\n",
              "      <td>alternative hip hop</td>\n",
              "      <td>63</td>\n",
              "    </tr>\n",
              "    <tr>\n",
              "      <th>64</th>\n",
              "      <td>hip hop</td>\n",
              "      <td>64</td>\n",
              "    </tr>\n",
              "  </tbody>\n",
              "</table>\n",
              "<p>65 rows × 2 columns</p>\n",
              "</div>\n",
              "      <button class=\"colab-df-convert\" onclick=\"convertToInteractive('df-87911adb-1770-41c8-a779-611f06d5bb8f')\"\n",
              "              title=\"Convert this dataframe to an interactive table.\"\n",
              "              style=\"display:none;\">\n",
              "        \n",
              "  <svg xmlns=\"http://www.w3.org/2000/svg\" height=\"24px\"viewBox=\"0 0 24 24\"\n",
              "       width=\"24px\">\n",
              "    <path d=\"M0 0h24v24H0V0z\" fill=\"none\"/>\n",
              "    <path d=\"M18.56 5.44l.94 2.06.94-2.06 2.06-.94-2.06-.94-.94-2.06-.94 2.06-2.06.94zm-11 1L8.5 8.5l.94-2.06 2.06-.94-2.06-.94L8.5 2.5l-.94 2.06-2.06.94zm10 10l.94 2.06.94-2.06 2.06-.94-2.06-.94-.94-2.06-.94 2.06-2.06.94z\"/><path d=\"M17.41 7.96l-1.37-1.37c-.4-.4-.92-.59-1.43-.59-.52 0-1.04.2-1.43.59L10.3 9.45l-7.72 7.72c-.78.78-.78 2.05 0 2.83L4 21.41c.39.39.9.59 1.41.59.51 0 1.02-.2 1.41-.59l7.78-7.78 2.81-2.81c.8-.78.8-2.07 0-2.86zM5.41 20L4 18.59l7.72-7.72 1.47 1.35L5.41 20z\"/>\n",
              "  </svg>\n",
              "      </button>\n",
              "      \n",
              "  <style>\n",
              "    .colab-df-container {\n",
              "      display:flex;\n",
              "      flex-wrap:wrap;\n",
              "      gap: 12px;\n",
              "    }\n",
              "\n",
              "    .colab-df-convert {\n",
              "      background-color: #E8F0FE;\n",
              "      border: none;\n",
              "      border-radius: 50%;\n",
              "      cursor: pointer;\n",
              "      display: none;\n",
              "      fill: #1967D2;\n",
              "      height: 32px;\n",
              "      padding: 0 0 0 0;\n",
              "      width: 32px;\n",
              "    }\n",
              "\n",
              "    .colab-df-convert:hover {\n",
              "      background-color: #E2EBFA;\n",
              "      box-shadow: 0px 1px 2px rgba(60, 64, 67, 0.3), 0px 1px 3px 1px rgba(60, 64, 67, 0.15);\n",
              "      fill: #174EA6;\n",
              "    }\n",
              "\n",
              "    [theme=dark] .colab-df-convert {\n",
              "      background-color: #3B4455;\n",
              "      fill: #D2E3FC;\n",
              "    }\n",
              "\n",
              "    [theme=dark] .colab-df-convert:hover {\n",
              "      background-color: #434B5C;\n",
              "      box-shadow: 0px 1px 3px 1px rgba(0, 0, 0, 0.15);\n",
              "      filter: drop-shadow(0px 1px 2px rgba(0, 0, 0, 0.3));\n",
              "      fill: #FFFFFF;\n",
              "    }\n",
              "  </style>\n",
              "\n",
              "      <script>\n",
              "        const buttonEl =\n",
              "          document.querySelector('#df-87911adb-1770-41c8-a779-611f06d5bb8f button.colab-df-convert');\n",
              "        buttonEl.style.display =\n",
              "          google.colab.kernel.accessAllowed ? 'block' : 'none';\n",
              "\n",
              "        async function convertToInteractive(key) {\n",
              "          const element = document.querySelector('#df-87911adb-1770-41c8-a779-611f06d5bb8f');\n",
              "          const dataTable =\n",
              "            await google.colab.kernel.invokeFunction('convertToInteractive',\n",
              "                                                     [key], {});\n",
              "          if (!dataTable) return;\n",
              "\n",
              "          const docLinkHtml = 'Like what you see? Visit the ' +\n",
              "            '<a target=\"_blank\" href=https://colab.research.google.com/notebooks/data_table.ipynb>data table notebook</a>'\n",
              "            + ' to learn more about interactive tables.';\n",
              "          element.innerHTML = '';\n",
              "          dataTable['output_type'] = 'display_data';\n",
              "          await google.colab.output.renderOutput(dataTable, element);\n",
              "          const docLink = document.createElement('div');\n",
              "          docLink.innerHTML = docLinkHtml;\n",
              "          element.appendChild(docLink);\n",
              "        }\n",
              "      </script>\n",
              "    </div>\n",
              "  </div>\n",
              "  "
            ],
            "text/plain": [
              "                           generoZ  Class\n",
              "0                            latin      0\n",
              "1                              pop      1\n",
              "2                         boy band      2\n",
              "3                        dance pop      3\n",
              "4                    colombian pop      4\n",
              "..                             ...    ...\n",
              "60             indie rock italiano     60\n",
              "61  concurso de talentos argentino     61\n",
              "62                   pop argentino     62\n",
              "63             alternative hip hop     63\n",
              "64                         hip hop     64\n",
              "\n",
              "[65 rows x 2 columns]"
            ]
          },
          "execution_count": 25,
          "metadata": {},
          "output_type": "execute_result"
        }
      ],
      "source": [
        "df"
      ]
    },
    {
      "cell_type": "code",
      "execution_count": null,
      "metadata": {
        "id": "3pKyoy7rX5FM"
      },
      "outputs": [],
      "source": [
        "#Hacemos un join para tener las clases como numeros para poder usar los metodos y funciones de las librerias\n",
        "Testing = pd.merge(df,join,left_on=\"generoZ\",right_on=\"genero\")"
      ]
    },
    {
      "cell_type": "code",
      "execution_count": null,
      "metadata": {
        "colab": {
          "base_uri": "https://localhost:8080/",
          "height": 206
        },
        "id": "DIJjMhTobvMO",
        "outputId": "d953cf1e-16fe-4ac7-df12-fd5ea5afc24d"
      },
      "outputs": [
        {
          "data": {
            "text/html": [
              "\n",
              "  <div id=\"df-bcd11be5-7620-4acf-801d-a135da2f9ad0\">\n",
              "    <div class=\"colab-df-container\">\n",
              "      <div>\n",
              "<style scoped>\n",
              "    .dataframe tbody tr th:only-of-type {\n",
              "        vertical-align: middle;\n",
              "    }\n",
              "\n",
              "    .dataframe tbody tr th {\n",
              "        vertical-align: top;\n",
              "    }\n",
              "\n",
              "    .dataframe thead th {\n",
              "        text-align: right;\n",
              "    }\n",
              "</style>\n",
              "<table border=\"1\" class=\"dataframe\">\n",
              "  <thead>\n",
              "    <tr style=\"text-align: right;\">\n",
              "      <th></th>\n",
              "      <th>generoZ</th>\n",
              "      <th>Class</th>\n",
              "      <th>artista</th>\n",
              "      <th>genero</th>\n",
              "      <th>danceability</th>\n",
              "      <th>energy</th>\n",
              "      <th>loudness</th>\n",
              "      <th>speechiness</th>\n",
              "      <th>acousticness</th>\n",
              "      <th>instrumentalness</th>\n",
              "      <th>liveness</th>\n",
              "      <th>valence</th>\n",
              "      <th>tempo</th>\n",
              "    </tr>\n",
              "  </thead>\n",
              "  <tbody>\n",
              "    <tr>\n",
              "      <th>0</th>\n",
              "      <td>latin</td>\n",
              "      <td>0</td>\n",
              "      <td>Danny Ocean</td>\n",
              "      <td>latin</td>\n",
              "      <td>0.744</td>\n",
              "      <td>0.804</td>\n",
              "      <td>-6.327</td>\n",
              "      <td>0.0677</td>\n",
              "      <td>0.0231</td>\n",
              "      <td>0.0</td>\n",
              "      <td>0.0494</td>\n",
              "      <td>0.426</td>\n",
              "      <td>104.823</td>\n",
              "    </tr>\n",
              "    <tr>\n",
              "      <th>1</th>\n",
              "      <td>latin</td>\n",
              "      <td>0</td>\n",
              "      <td>Danny Ocean</td>\n",
              "      <td>latin</td>\n",
              "      <td>0.744</td>\n",
              "      <td>0.804</td>\n",
              "      <td>-6.327</td>\n",
              "      <td>0.0677</td>\n",
              "      <td>0.0231</td>\n",
              "      <td>0.0</td>\n",
              "      <td>0.0494</td>\n",
              "      <td>0.426</td>\n",
              "      <td>104.823</td>\n",
              "    </tr>\n",
              "    <tr>\n",
              "      <th>2</th>\n",
              "      <td>latin</td>\n",
              "      <td>0</td>\n",
              "      <td>Danny Ocean</td>\n",
              "      <td>latin</td>\n",
              "      <td>0.744</td>\n",
              "      <td>0.804</td>\n",
              "      <td>-6.327</td>\n",
              "      <td>0.0677</td>\n",
              "      <td>0.0231</td>\n",
              "      <td>0.0</td>\n",
              "      <td>0.0494</td>\n",
              "      <td>0.426</td>\n",
              "      <td>104.823</td>\n",
              "    </tr>\n",
              "    <tr>\n",
              "      <th>3</th>\n",
              "      <td>latin</td>\n",
              "      <td>0</td>\n",
              "      <td>Danny Ocean</td>\n",
              "      <td>latin</td>\n",
              "      <td>0.744</td>\n",
              "      <td>0.804</td>\n",
              "      <td>-6.327</td>\n",
              "      <td>0.0677</td>\n",
              "      <td>0.0231</td>\n",
              "      <td>0.0</td>\n",
              "      <td>0.0494</td>\n",
              "      <td>0.426</td>\n",
              "      <td>104.823</td>\n",
              "    </tr>\n",
              "    <tr>\n",
              "      <th>4</th>\n",
              "      <td>latin</td>\n",
              "      <td>0</td>\n",
              "      <td>Danny Ocean</td>\n",
              "      <td>latin</td>\n",
              "      <td>0.744</td>\n",
              "      <td>0.804</td>\n",
              "      <td>-6.327</td>\n",
              "      <td>0.0677</td>\n",
              "      <td>0.0231</td>\n",
              "      <td>0.0</td>\n",
              "      <td>0.0494</td>\n",
              "      <td>0.426</td>\n",
              "      <td>104.823</td>\n",
              "    </tr>\n",
              "  </tbody>\n",
              "</table>\n",
              "</div>\n",
              "      <button class=\"colab-df-convert\" onclick=\"convertToInteractive('df-bcd11be5-7620-4acf-801d-a135da2f9ad0')\"\n",
              "              title=\"Convert this dataframe to an interactive table.\"\n",
              "              style=\"display:none;\">\n",
              "        \n",
              "  <svg xmlns=\"http://www.w3.org/2000/svg\" height=\"24px\"viewBox=\"0 0 24 24\"\n",
              "       width=\"24px\">\n",
              "    <path d=\"M0 0h24v24H0V0z\" fill=\"none\"/>\n",
              "    <path d=\"M18.56 5.44l.94 2.06.94-2.06 2.06-.94-2.06-.94-.94-2.06-.94 2.06-2.06.94zm-11 1L8.5 8.5l.94-2.06 2.06-.94-2.06-.94L8.5 2.5l-.94 2.06-2.06.94zm10 10l.94 2.06.94-2.06 2.06-.94-2.06-.94-.94-2.06-.94 2.06-2.06.94z\"/><path d=\"M17.41 7.96l-1.37-1.37c-.4-.4-.92-.59-1.43-.59-.52 0-1.04.2-1.43.59L10.3 9.45l-7.72 7.72c-.78.78-.78 2.05 0 2.83L4 21.41c.39.39.9.59 1.41.59.51 0 1.02-.2 1.41-.59l7.78-7.78 2.81-2.81c.8-.78.8-2.07 0-2.86zM5.41 20L4 18.59l7.72-7.72 1.47 1.35L5.41 20z\"/>\n",
              "  </svg>\n",
              "      </button>\n",
              "      \n",
              "  <style>\n",
              "    .colab-df-container {\n",
              "      display:flex;\n",
              "      flex-wrap:wrap;\n",
              "      gap: 12px;\n",
              "    }\n",
              "\n",
              "    .colab-df-convert {\n",
              "      background-color: #E8F0FE;\n",
              "      border: none;\n",
              "      border-radius: 50%;\n",
              "      cursor: pointer;\n",
              "      display: none;\n",
              "      fill: #1967D2;\n",
              "      height: 32px;\n",
              "      padding: 0 0 0 0;\n",
              "      width: 32px;\n",
              "    }\n",
              "\n",
              "    .colab-df-convert:hover {\n",
              "      background-color: #E2EBFA;\n",
              "      box-shadow: 0px 1px 2px rgba(60, 64, 67, 0.3), 0px 1px 3px 1px rgba(60, 64, 67, 0.15);\n",
              "      fill: #174EA6;\n",
              "    }\n",
              "\n",
              "    [theme=dark] .colab-df-convert {\n",
              "      background-color: #3B4455;\n",
              "      fill: #D2E3FC;\n",
              "    }\n",
              "\n",
              "    [theme=dark] .colab-df-convert:hover {\n",
              "      background-color: #434B5C;\n",
              "      box-shadow: 0px 1px 3px 1px rgba(0, 0, 0, 0.15);\n",
              "      filter: drop-shadow(0px 1px 2px rgba(0, 0, 0, 0.3));\n",
              "      fill: #FFFFFF;\n",
              "    }\n",
              "  </style>\n",
              "\n",
              "      <script>\n",
              "        const buttonEl =\n",
              "          document.querySelector('#df-bcd11be5-7620-4acf-801d-a135da2f9ad0 button.colab-df-convert');\n",
              "        buttonEl.style.display =\n",
              "          google.colab.kernel.accessAllowed ? 'block' : 'none';\n",
              "\n",
              "        async function convertToInteractive(key) {\n",
              "          const element = document.querySelector('#df-bcd11be5-7620-4acf-801d-a135da2f9ad0');\n",
              "          const dataTable =\n",
              "            await google.colab.kernel.invokeFunction('convertToInteractive',\n",
              "                                                     [key], {});\n",
              "          if (!dataTable) return;\n",
              "\n",
              "          const docLinkHtml = 'Like what you see? Visit the ' +\n",
              "            '<a target=\"_blank\" href=https://colab.research.google.com/notebooks/data_table.ipynb>data table notebook</a>'\n",
              "            + ' to learn more about interactive tables.';\n",
              "          element.innerHTML = '';\n",
              "          dataTable['output_type'] = 'display_data';\n",
              "          await google.colab.output.renderOutput(dataTable, element);\n",
              "          const docLink = document.createElement('div');\n",
              "          docLink.innerHTML = docLinkHtml;\n",
              "          element.appendChild(docLink);\n",
              "        }\n",
              "      </script>\n",
              "    </div>\n",
              "  </div>\n",
              "  "
            ],
            "text/plain": [
              "  generoZ  Class      artista  ... liveness  valence    tempo\n",
              "0   latin      0  Danny Ocean  ...   0.0494    0.426  104.823\n",
              "1   latin      0  Danny Ocean  ...   0.0494    0.426  104.823\n",
              "2   latin      0  Danny Ocean  ...   0.0494    0.426  104.823\n",
              "3   latin      0  Danny Ocean  ...   0.0494    0.426  104.823\n",
              "4   latin      0  Danny Ocean  ...   0.0494    0.426  104.823\n",
              "\n",
              "[5 rows x 13 columns]"
            ]
          },
          "execution_count": 27,
          "metadata": {},
          "output_type": "execute_result"
        }
      ],
      "source": [
        "#Comprobamos que esta asociado un numero al nombre de la clase que es el genero\n",
        "Testing.head()"
      ]
    },
    {
      "cell_type": "code",
      "execution_count": null,
      "metadata": {
        "id": "kQLrRe8JYNZC"
      },
      "outputs": [],
      "source": [
        "Testing = Testing.drop(columns=['generoZ'])"
      ]
    },
    {
      "cell_type": "code",
      "execution_count": null,
      "metadata": {
        "colab": {
          "base_uri": "https://localhost:8080/",
          "height": 206
        },
        "id": "1I-NDyjeYUyf",
        "outputId": "b5518929-c7ae-40c3-b533-257b3d0199d9"
      },
      "outputs": [
        {
          "data": {
            "text/html": [
              "\n",
              "  <div id=\"df-419964b7-320b-4886-b3cf-5607a08593ba\">\n",
              "    <div class=\"colab-df-container\">\n",
              "      <div>\n",
              "<style scoped>\n",
              "    .dataframe tbody tr th:only-of-type {\n",
              "        vertical-align: middle;\n",
              "    }\n",
              "\n",
              "    .dataframe tbody tr th {\n",
              "        vertical-align: top;\n",
              "    }\n",
              "\n",
              "    .dataframe thead th {\n",
              "        text-align: right;\n",
              "    }\n",
              "</style>\n",
              "<table border=\"1\" class=\"dataframe\">\n",
              "  <thead>\n",
              "    <tr style=\"text-align: right;\">\n",
              "      <th></th>\n",
              "      <th>Class</th>\n",
              "      <th>artista</th>\n",
              "      <th>genero</th>\n",
              "      <th>danceability</th>\n",
              "      <th>energy</th>\n",
              "      <th>loudness</th>\n",
              "      <th>speechiness</th>\n",
              "      <th>acousticness</th>\n",
              "      <th>instrumentalness</th>\n",
              "      <th>liveness</th>\n",
              "      <th>valence</th>\n",
              "      <th>tempo</th>\n",
              "    </tr>\n",
              "  </thead>\n",
              "  <tbody>\n",
              "    <tr>\n",
              "      <th>0</th>\n",
              "      <td>0</td>\n",
              "      <td>Danny Ocean</td>\n",
              "      <td>latin</td>\n",
              "      <td>0.744</td>\n",
              "      <td>0.804</td>\n",
              "      <td>-6.327</td>\n",
              "      <td>0.0677</td>\n",
              "      <td>0.0231</td>\n",
              "      <td>0.0</td>\n",
              "      <td>0.0494</td>\n",
              "      <td>0.426</td>\n",
              "      <td>104.823</td>\n",
              "    </tr>\n",
              "    <tr>\n",
              "      <th>1</th>\n",
              "      <td>0</td>\n",
              "      <td>Danny Ocean</td>\n",
              "      <td>latin</td>\n",
              "      <td>0.744</td>\n",
              "      <td>0.804</td>\n",
              "      <td>-6.327</td>\n",
              "      <td>0.0677</td>\n",
              "      <td>0.0231</td>\n",
              "      <td>0.0</td>\n",
              "      <td>0.0494</td>\n",
              "      <td>0.426</td>\n",
              "      <td>104.823</td>\n",
              "    </tr>\n",
              "    <tr>\n",
              "      <th>2</th>\n",
              "      <td>0</td>\n",
              "      <td>Danny Ocean</td>\n",
              "      <td>latin</td>\n",
              "      <td>0.744</td>\n",
              "      <td>0.804</td>\n",
              "      <td>-6.327</td>\n",
              "      <td>0.0677</td>\n",
              "      <td>0.0231</td>\n",
              "      <td>0.0</td>\n",
              "      <td>0.0494</td>\n",
              "      <td>0.426</td>\n",
              "      <td>104.823</td>\n",
              "    </tr>\n",
              "    <tr>\n",
              "      <th>3</th>\n",
              "      <td>0</td>\n",
              "      <td>Danny Ocean</td>\n",
              "      <td>latin</td>\n",
              "      <td>0.744</td>\n",
              "      <td>0.804</td>\n",
              "      <td>-6.327</td>\n",
              "      <td>0.0677</td>\n",
              "      <td>0.0231</td>\n",
              "      <td>0.0</td>\n",
              "      <td>0.0494</td>\n",
              "      <td>0.426</td>\n",
              "      <td>104.823</td>\n",
              "    </tr>\n",
              "    <tr>\n",
              "      <th>4</th>\n",
              "      <td>0</td>\n",
              "      <td>Danny Ocean</td>\n",
              "      <td>latin</td>\n",
              "      <td>0.744</td>\n",
              "      <td>0.804</td>\n",
              "      <td>-6.327</td>\n",
              "      <td>0.0677</td>\n",
              "      <td>0.0231</td>\n",
              "      <td>0.0</td>\n",
              "      <td>0.0494</td>\n",
              "      <td>0.426</td>\n",
              "      <td>104.823</td>\n",
              "    </tr>\n",
              "  </tbody>\n",
              "</table>\n",
              "</div>\n",
              "      <button class=\"colab-df-convert\" onclick=\"convertToInteractive('df-419964b7-320b-4886-b3cf-5607a08593ba')\"\n",
              "              title=\"Convert this dataframe to an interactive table.\"\n",
              "              style=\"display:none;\">\n",
              "        \n",
              "  <svg xmlns=\"http://www.w3.org/2000/svg\" height=\"24px\"viewBox=\"0 0 24 24\"\n",
              "       width=\"24px\">\n",
              "    <path d=\"M0 0h24v24H0V0z\" fill=\"none\"/>\n",
              "    <path d=\"M18.56 5.44l.94 2.06.94-2.06 2.06-.94-2.06-.94-.94-2.06-.94 2.06-2.06.94zm-11 1L8.5 8.5l.94-2.06 2.06-.94-2.06-.94L8.5 2.5l-.94 2.06-2.06.94zm10 10l.94 2.06.94-2.06 2.06-.94-2.06-.94-.94-2.06-.94 2.06-2.06.94z\"/><path d=\"M17.41 7.96l-1.37-1.37c-.4-.4-.92-.59-1.43-.59-.52 0-1.04.2-1.43.59L10.3 9.45l-7.72 7.72c-.78.78-.78 2.05 0 2.83L4 21.41c.39.39.9.59 1.41.59.51 0 1.02-.2 1.41-.59l7.78-7.78 2.81-2.81c.8-.78.8-2.07 0-2.86zM5.41 20L4 18.59l7.72-7.72 1.47 1.35L5.41 20z\"/>\n",
              "  </svg>\n",
              "      </button>\n",
              "      \n",
              "  <style>\n",
              "    .colab-df-container {\n",
              "      display:flex;\n",
              "      flex-wrap:wrap;\n",
              "      gap: 12px;\n",
              "    }\n",
              "\n",
              "    .colab-df-convert {\n",
              "      background-color: #E8F0FE;\n",
              "      border: none;\n",
              "      border-radius: 50%;\n",
              "      cursor: pointer;\n",
              "      display: none;\n",
              "      fill: #1967D2;\n",
              "      height: 32px;\n",
              "      padding: 0 0 0 0;\n",
              "      width: 32px;\n",
              "    }\n",
              "\n",
              "    .colab-df-convert:hover {\n",
              "      background-color: #E2EBFA;\n",
              "      box-shadow: 0px 1px 2px rgba(60, 64, 67, 0.3), 0px 1px 3px 1px rgba(60, 64, 67, 0.15);\n",
              "      fill: #174EA6;\n",
              "    }\n",
              "\n",
              "    [theme=dark] .colab-df-convert {\n",
              "      background-color: #3B4455;\n",
              "      fill: #D2E3FC;\n",
              "    }\n",
              "\n",
              "    [theme=dark] .colab-df-convert:hover {\n",
              "      background-color: #434B5C;\n",
              "      box-shadow: 0px 1px 3px 1px rgba(0, 0, 0, 0.15);\n",
              "      filter: drop-shadow(0px 1px 2px rgba(0, 0, 0, 0.3));\n",
              "      fill: #FFFFFF;\n",
              "    }\n",
              "  </style>\n",
              "\n",
              "      <script>\n",
              "        const buttonEl =\n",
              "          document.querySelector('#df-419964b7-320b-4886-b3cf-5607a08593ba button.colab-df-convert');\n",
              "        buttonEl.style.display =\n",
              "          google.colab.kernel.accessAllowed ? 'block' : 'none';\n",
              "\n",
              "        async function convertToInteractive(key) {\n",
              "          const element = document.querySelector('#df-419964b7-320b-4886-b3cf-5607a08593ba');\n",
              "          const dataTable =\n",
              "            await google.colab.kernel.invokeFunction('convertToInteractive',\n",
              "                                                     [key], {});\n",
              "          if (!dataTable) return;\n",
              "\n",
              "          const docLinkHtml = 'Like what you see? Visit the ' +\n",
              "            '<a target=\"_blank\" href=https://colab.research.google.com/notebooks/data_table.ipynb>data table notebook</a>'\n",
              "            + ' to learn more about interactive tables.';\n",
              "          element.innerHTML = '';\n",
              "          dataTable['output_type'] = 'display_data';\n",
              "          await google.colab.output.renderOutput(dataTable, element);\n",
              "          const docLink = document.createElement('div');\n",
              "          docLink.innerHTML = docLinkHtml;\n",
              "          element.appendChild(docLink);\n",
              "        }\n",
              "      </script>\n",
              "    </div>\n",
              "  </div>\n",
              "  "
            ],
            "text/plain": [
              "   Class      artista genero  ...  liveness  valence    tempo\n",
              "0      0  Danny Ocean  latin  ...    0.0494    0.426  104.823\n",
              "1      0  Danny Ocean  latin  ...    0.0494    0.426  104.823\n",
              "2      0  Danny Ocean  latin  ...    0.0494    0.426  104.823\n",
              "3      0  Danny Ocean  latin  ...    0.0494    0.426  104.823\n",
              "4      0  Danny Ocean  latin  ...    0.0494    0.426  104.823\n",
              "\n",
              "[5 rows x 12 columns]"
            ]
          },
          "execution_count": 29,
          "metadata": {},
          "output_type": "execute_result"
        }
      ],
      "source": [
        "Testing.head()"
      ]
    },
    {
      "cell_type": "code",
      "execution_count": null,
      "metadata": {
        "id": "rNrEVzzjeH5b"
      },
      "outputs": [],
      "source": [
        "#Borramos las columnas con palabras\n",
        "Testing = Testing.drop(columns=[\"artista\",\"genero\"])"
      ]
    },
    {
      "cell_type": "code",
      "execution_count": null,
      "metadata": {
        "colab": {
          "base_uri": "https://localhost:8080/"
        },
        "id": "RVaBeBljYaMW",
        "outputId": "6978f5c5-4afd-4ac0-ac74-f5a070a99e1d"
      },
      "outputs": [
        {
          "name": "stdout",
          "output_type": "stream",
          "text": [
            "Distribucion de clases original\n"
          ]
        },
        {
          "data": {
            "text/plain": [
              "0     1353923\n",
              "3      325754\n",
              "27     312297\n",
              "1      249940\n",
              "29     182706\n",
              "       ...   \n",
              "41          1\n",
              "43          1\n",
              "44          1\n",
              "59          1\n",
              "32          1\n",
              "Name: Class, Length: 65, dtype: int64"
            ]
          },
          "execution_count": 31,
          "metadata": {},
          "output_type": "execute_result"
        }
      ],
      "source": [
        "print(\"Distribucion de clases original\")\n",
        "Testing['Class'].value_counts()"
      ]
    },
    {
      "cell_type": "code",
      "execution_count": null,
      "metadata": {
        "colab": {
          "base_uri": "https://localhost:8080/",
          "height": 206
        },
        "id": "UGDb8spiaU2y",
        "outputId": "67fa3914-fe67-451a-b58f-52f7c1c07546"
      },
      "outputs": [
        {
          "data": {
            "text/html": [
              "\n",
              "  <div id=\"df-2ff60f43-6692-4cd2-b5a7-29d4f2959156\">\n",
              "    <div class=\"colab-df-container\">\n",
              "      <div>\n",
              "<style scoped>\n",
              "    .dataframe tbody tr th:only-of-type {\n",
              "        vertical-align: middle;\n",
              "    }\n",
              "\n",
              "    .dataframe tbody tr th {\n",
              "        vertical-align: top;\n",
              "    }\n",
              "\n",
              "    .dataframe thead th {\n",
              "        text-align: right;\n",
              "    }\n",
              "</style>\n",
              "<table border=\"1\" class=\"dataframe\">\n",
              "  <thead>\n",
              "    <tr style=\"text-align: right;\">\n",
              "      <th></th>\n",
              "      <th>Class</th>\n",
              "      <th>danceability</th>\n",
              "      <th>energy</th>\n",
              "      <th>loudness</th>\n",
              "      <th>speechiness</th>\n",
              "      <th>acousticness</th>\n",
              "      <th>instrumentalness</th>\n",
              "      <th>liveness</th>\n",
              "      <th>valence</th>\n",
              "      <th>tempo</th>\n",
              "    </tr>\n",
              "  </thead>\n",
              "  <tbody>\n",
              "    <tr>\n",
              "      <th>0</th>\n",
              "      <td>0</td>\n",
              "      <td>0.744</td>\n",
              "      <td>0.804</td>\n",
              "      <td>-6.327</td>\n",
              "      <td>0.0677</td>\n",
              "      <td>0.0231</td>\n",
              "      <td>0.0</td>\n",
              "      <td>0.0494</td>\n",
              "      <td>0.426</td>\n",
              "      <td>104.823</td>\n",
              "    </tr>\n",
              "    <tr>\n",
              "      <th>1</th>\n",
              "      <td>0</td>\n",
              "      <td>0.744</td>\n",
              "      <td>0.804</td>\n",
              "      <td>-6.327</td>\n",
              "      <td>0.0677</td>\n",
              "      <td>0.0231</td>\n",
              "      <td>0.0</td>\n",
              "      <td>0.0494</td>\n",
              "      <td>0.426</td>\n",
              "      <td>104.823</td>\n",
              "    </tr>\n",
              "    <tr>\n",
              "      <th>2</th>\n",
              "      <td>0</td>\n",
              "      <td>0.744</td>\n",
              "      <td>0.804</td>\n",
              "      <td>-6.327</td>\n",
              "      <td>0.0677</td>\n",
              "      <td>0.0231</td>\n",
              "      <td>0.0</td>\n",
              "      <td>0.0494</td>\n",
              "      <td>0.426</td>\n",
              "      <td>104.823</td>\n",
              "    </tr>\n",
              "    <tr>\n",
              "      <th>3</th>\n",
              "      <td>0</td>\n",
              "      <td>0.744</td>\n",
              "      <td>0.804</td>\n",
              "      <td>-6.327</td>\n",
              "      <td>0.0677</td>\n",
              "      <td>0.0231</td>\n",
              "      <td>0.0</td>\n",
              "      <td>0.0494</td>\n",
              "      <td>0.426</td>\n",
              "      <td>104.823</td>\n",
              "    </tr>\n",
              "    <tr>\n",
              "      <th>4</th>\n",
              "      <td>0</td>\n",
              "      <td>0.744</td>\n",
              "      <td>0.804</td>\n",
              "      <td>-6.327</td>\n",
              "      <td>0.0677</td>\n",
              "      <td>0.0231</td>\n",
              "      <td>0.0</td>\n",
              "      <td>0.0494</td>\n",
              "      <td>0.426</td>\n",
              "      <td>104.823</td>\n",
              "    </tr>\n",
              "  </tbody>\n",
              "</table>\n",
              "</div>\n",
              "      <button class=\"colab-df-convert\" onclick=\"convertToInteractive('df-2ff60f43-6692-4cd2-b5a7-29d4f2959156')\"\n",
              "              title=\"Convert this dataframe to an interactive table.\"\n",
              "              style=\"display:none;\">\n",
              "        \n",
              "  <svg xmlns=\"http://www.w3.org/2000/svg\" height=\"24px\"viewBox=\"0 0 24 24\"\n",
              "       width=\"24px\">\n",
              "    <path d=\"M0 0h24v24H0V0z\" fill=\"none\"/>\n",
              "    <path d=\"M18.56 5.44l.94 2.06.94-2.06 2.06-.94-2.06-.94-.94-2.06-.94 2.06-2.06.94zm-11 1L8.5 8.5l.94-2.06 2.06-.94-2.06-.94L8.5 2.5l-.94 2.06-2.06.94zm10 10l.94 2.06.94-2.06 2.06-.94-2.06-.94-.94-2.06-.94 2.06-2.06.94z\"/><path d=\"M17.41 7.96l-1.37-1.37c-.4-.4-.92-.59-1.43-.59-.52 0-1.04.2-1.43.59L10.3 9.45l-7.72 7.72c-.78.78-.78 2.05 0 2.83L4 21.41c.39.39.9.59 1.41.59.51 0 1.02-.2 1.41-.59l7.78-7.78 2.81-2.81c.8-.78.8-2.07 0-2.86zM5.41 20L4 18.59l7.72-7.72 1.47 1.35L5.41 20z\"/>\n",
              "  </svg>\n",
              "      </button>\n",
              "      \n",
              "  <style>\n",
              "    .colab-df-container {\n",
              "      display:flex;\n",
              "      flex-wrap:wrap;\n",
              "      gap: 12px;\n",
              "    }\n",
              "\n",
              "    .colab-df-convert {\n",
              "      background-color: #E8F0FE;\n",
              "      border: none;\n",
              "      border-radius: 50%;\n",
              "      cursor: pointer;\n",
              "      display: none;\n",
              "      fill: #1967D2;\n",
              "      height: 32px;\n",
              "      padding: 0 0 0 0;\n",
              "      width: 32px;\n",
              "    }\n",
              "\n",
              "    .colab-df-convert:hover {\n",
              "      background-color: #E2EBFA;\n",
              "      box-shadow: 0px 1px 2px rgba(60, 64, 67, 0.3), 0px 1px 3px 1px rgba(60, 64, 67, 0.15);\n",
              "      fill: #174EA6;\n",
              "    }\n",
              "\n",
              "    [theme=dark] .colab-df-convert {\n",
              "      background-color: #3B4455;\n",
              "      fill: #D2E3FC;\n",
              "    }\n",
              "\n",
              "    [theme=dark] .colab-df-convert:hover {\n",
              "      background-color: #434B5C;\n",
              "      box-shadow: 0px 1px 3px 1px rgba(0, 0, 0, 0.15);\n",
              "      filter: drop-shadow(0px 1px 2px rgba(0, 0, 0, 0.3));\n",
              "      fill: #FFFFFF;\n",
              "    }\n",
              "  </style>\n",
              "\n",
              "      <script>\n",
              "        const buttonEl =\n",
              "          document.querySelector('#df-2ff60f43-6692-4cd2-b5a7-29d4f2959156 button.colab-df-convert');\n",
              "        buttonEl.style.display =\n",
              "          google.colab.kernel.accessAllowed ? 'block' : 'none';\n",
              "\n",
              "        async function convertToInteractive(key) {\n",
              "          const element = document.querySelector('#df-2ff60f43-6692-4cd2-b5a7-29d4f2959156');\n",
              "          const dataTable =\n",
              "            await google.colab.kernel.invokeFunction('convertToInteractive',\n",
              "                                                     [key], {});\n",
              "          if (!dataTable) return;\n",
              "\n",
              "          const docLinkHtml = 'Like what you see? Visit the ' +\n",
              "            '<a target=\"_blank\" href=https://colab.research.google.com/notebooks/data_table.ipynb>data table notebook</a>'\n",
              "            + ' to learn more about interactive tables.';\n",
              "          element.innerHTML = '';\n",
              "          dataTable['output_type'] = 'display_data';\n",
              "          await google.colab.output.renderOutput(dataTable, element);\n",
              "          const docLink = document.createElement('div');\n",
              "          docLink.innerHTML = docLinkHtml;\n",
              "          element.appendChild(docLink);\n",
              "        }\n",
              "      </script>\n",
              "    </div>\n",
              "  </div>\n",
              "  "
            ],
            "text/plain": [
              "   Class  danceability  energy  ...  liveness  valence    tempo\n",
              "0      0         0.744   0.804  ...    0.0494    0.426  104.823\n",
              "1      0         0.744   0.804  ...    0.0494    0.426  104.823\n",
              "2      0         0.744   0.804  ...    0.0494    0.426  104.823\n",
              "3      0         0.744   0.804  ...    0.0494    0.426  104.823\n",
              "4      0         0.744   0.804  ...    0.0494    0.426  104.823\n",
              "\n",
              "[5 rows x 10 columns]"
            ]
          },
          "execution_count": 32,
          "metadata": {},
          "output_type": "execute_result"
        }
      ],
      "source": [
        "Testing.head()"
      ]
    },
    {
      "cell_type": "code",
      "execution_count": null,
      "metadata": {
        "colab": {
          "base_uri": "https://localhost:8080/"
        },
        "id": "H6Z4WN9Napqs",
        "outputId": "74894f5f-2280-45a1-9979-0fca0afc9492"
      },
      "outputs": [
        {
          "data": {
            "text/plain": [
              "0     1353923\n",
              "3      325754\n",
              "27     312297\n",
              "1      249940\n",
              "29     182706\n",
              "       ...   \n",
              "41          1\n",
              "43          1\n",
              "44          1\n",
              "59          1\n",
              "32          1\n",
              "Name: Class, Length: 65, dtype: int64"
            ]
          },
          "execution_count": 33,
          "metadata": {},
          "output_type": "execute_result"
        }
      ],
      "source": [
        "Testing['Class'].value_counts()"
      ]
    },
    {
      "cell_type": "code",
      "execution_count": null,
      "metadata": {
        "id": "jCbsnkdUcLnP"
      },
      "outputs": [],
      "source": [
        "counts = Testing['Class'].value_counts()"
      ]
    },
    {
      "cell_type": "code",
      "execution_count": null,
      "metadata": {
        "id": "Kv84QP9icTXR"
      },
      "outputs": [],
      "source": [
        "#eliminamos las clases que tienen menos de 3 canciones\n",
        "res = Testing[~Testing['Class'].isin(counts[counts < 3].index)]"
      ]
    },
    {
      "cell_type": "code",
      "execution_count": null,
      "metadata": {
        "colab": {
          "base_uri": "https://localhost:8080/"
        },
        "id": "GhMjprMAcbKR",
        "outputId": "8a90a3ee-9014-40a9-a116-5ea4a4e2baad"
      },
      "outputs": [
        {
          "data": {
            "text/plain": [
              "0     1353923\n",
              "3      325754\n",
              "27     312297\n",
              "1      249940\n",
              "29     182706\n",
              "4      179019\n",
              "9      137649\n",
              "17      60581\n",
              "19      58708\n",
              "21      58566\n",
              "18      55464\n",
              "34      46357\n",
              "11      38684\n",
              "8       37553\n",
              "56      36365\n",
              "30      32761\n",
              "36      30625\n",
              "25      28653\n",
              "28      26752\n",
              "60      22742\n",
              "2       21701\n",
              "50      20710\n",
              "10      15242\n",
              "45      13689\n",
              "61      11618\n",
              "58       8928\n",
              "51       8484\n",
              "49       5929\n",
              "7        5776\n",
              "31       4624\n",
              "15       4495\n",
              "40       4327\n",
              "24       3240\n",
              "20       3000\n",
              "13       2906\n",
              "38       2764\n",
              "47       1628\n",
              "46       1369\n",
              "62        971\n",
              "39        676\n",
              "6         507\n",
              "35        441\n",
              "53        380\n",
              "63        261\n",
              "37        196\n",
              "54        174\n",
              "14        154\n",
              "55        105\n",
              "52         25\n",
              "5          18\n",
              "48         18\n",
              "26         13\n",
              "57         13\n",
              "22          3\n",
              "42          3\n",
              "Name: Class, dtype: int64"
            ]
          },
          "execution_count": 36,
          "metadata": {},
          "output_type": "execute_result"
        }
      ],
      "source": [
        "res['Class'].value_counts()"
      ]
    },
    {
      "cell_type": "code",
      "execution_count": null,
      "metadata": {
        "colab": {
          "base_uri": "https://localhost:8080/"
        },
        "id": "68f3sM-iYhZ_",
        "outputId": "ed17e53f-f910-42b5-fe76-6f70fb9b6ebd"
      },
      "outputs": [
        {
          "data": {
            "text/plain": [
              "0     947746\n",
              "3     228028\n",
              "27    218608\n",
              "1     174958\n",
              "29    127894\n",
              "4     125313\n",
              "9      96354\n",
              "17     42407\n",
              "19     41096\n",
              "21     40996\n",
              "18     38825\n",
              "34     32450\n",
              "11     27079\n",
              "8      26287\n",
              "56     25455\n",
              "30     22933\n",
              "36     21437\n",
              "25     20057\n",
              "28     18726\n",
              "60     15919\n",
              "2      15191\n",
              "50     14497\n",
              "10     10669\n",
              "45      9582\n",
              "61      8133\n",
              "58      6250\n",
              "51      5939\n",
              "49      4150\n",
              "7       4043\n",
              "31      3237\n",
              "15      3146\n",
              "40      3029\n",
              "24      2268\n",
              "20      2100\n",
              "13      2034\n",
              "38      1935\n",
              "47      1140\n",
              "46       958\n",
              "62       680\n",
              "39       473\n",
              "6        355\n",
              "35       309\n",
              "53       266\n",
              "63       183\n",
              "37       137\n",
              "54       122\n",
              "14       108\n",
              "55        73\n",
              "52        17\n",
              "5         13\n",
              "48        13\n",
              "26         9\n",
              "57         9\n",
              "22         2\n",
              "42         2\n",
              "Name: Class, dtype: int64"
            ]
          },
          "execution_count": 37,
          "metadata": {},
          "output_type": "execute_result"
        }
      ],
      "source": [
        "from sklearn.model_selection import train_test_split\n",
        "data_train, data_test, ytrain, ytest = train_test_split(res, res['Class'], test_size=0.3, stratify=res['Class'])\n",
        " #proporción de clases en el train después de dividir en train-test\n",
        "ytrain.value_counts()"
      ]
    },
    {
      "cell_type": "code",
      "execution_count": null,
      "metadata": {
        "colab": {
          "base_uri": "https://localhost:8080/"
        },
        "id": "hVacS5R5i4ic",
        "outputId": "2da15e73-cacb-46a2-905f-8371c4eb5732"
      },
      "outputs": [
        {
          "name": "stdout",
          "output_type": "stream",
          "text": [
            "Distribución de clases usando (over/sub) sampling\n",
            "\n"
          ]
        }
      ],
      "source": [
        "import numpy as np\n",
        "\n",
        "\n",
        "\n",
        "print(\"Distribución de clases usando (over/sub) sampling\")\n",
        "print()\n",
        "\n",
        "data_train = data_train.reset_index(drop=True)\n",
        "\n",
        "# subsampling sobre la clase 0\n",
        "idx = np.random.choice(data_train.loc[data_train.Class == 0].index, size=700000, replace=False)\n",
        "data_subsampled = data_train.drop(data_train.iloc[idx].index)\n",
        "#print(\"Data subsampled on class '0'\")\n",
        "#print(data_subsampled['Class'].value_counts())\n",
        "\n",
        "\n"
      ]
    },
    {
      "cell_type": "code",
      "execution_count": null,
      "metadata": {
        "colab": {
          "base_uri": "https://localhost:8080/",
          "height": 206
        },
        "id": "cmZvoXO9p2fN",
        "outputId": "04fd6034-d566-41bd-a377-28a691d458e6"
      },
      "outputs": [
        {
          "data": {
            "text/html": [
              "\n",
              "  <div id=\"df-095147fd-ad29-4e73-884d-42aacd2c9fc1\">\n",
              "    <div class=\"colab-df-container\">\n",
              "      <div>\n",
              "<style scoped>\n",
              "    .dataframe tbody tr th:only-of-type {\n",
              "        vertical-align: middle;\n",
              "    }\n",
              "\n",
              "    .dataframe tbody tr th {\n",
              "        vertical-align: top;\n",
              "    }\n",
              "\n",
              "    .dataframe thead th {\n",
              "        text-align: right;\n",
              "    }\n",
              "</style>\n",
              "<table border=\"1\" class=\"dataframe\">\n",
              "  <thead>\n",
              "    <tr style=\"text-align: right;\">\n",
              "      <th></th>\n",
              "      <th>Class</th>\n",
              "      <th>danceability</th>\n",
              "      <th>energy</th>\n",
              "      <th>loudness</th>\n",
              "      <th>speechiness</th>\n",
              "      <th>acousticness</th>\n",
              "      <th>instrumentalness</th>\n",
              "      <th>liveness</th>\n",
              "      <th>valence</th>\n",
              "      <th>tempo</th>\n",
              "    </tr>\n",
              "  </thead>\n",
              "  <tbody>\n",
              "    <tr>\n",
              "      <th>0</th>\n",
              "      <td>29</td>\n",
              "      <td>0.721</td>\n",
              "      <td>0.637</td>\n",
              "      <td>-5.134</td>\n",
              "      <td>0.2860</td>\n",
              "      <td>0.0406</td>\n",
              "      <td>0.000000</td>\n",
              "      <td>0.0525</td>\n",
              "      <td>0.691</td>\n",
              "      <td>193.922</td>\n",
              "    </tr>\n",
              "    <tr>\n",
              "      <th>1</th>\n",
              "      <td>27</td>\n",
              "      <td>0.767</td>\n",
              "      <td>0.592</td>\n",
              "      <td>-8.047</td>\n",
              "      <td>0.4830</td>\n",
              "      <td>0.3830</td>\n",
              "      <td>0.000000</td>\n",
              "      <td>0.2940</td>\n",
              "      <td>0.612</td>\n",
              "      <td>93.368</td>\n",
              "    </tr>\n",
              "    <tr>\n",
              "      <th>2</th>\n",
              "      <td>0</td>\n",
              "      <td>0.725</td>\n",
              "      <td>0.756</td>\n",
              "      <td>-5.013</td>\n",
              "      <td>0.0572</td>\n",
              "      <td>0.3620</td>\n",
              "      <td>0.000685</td>\n",
              "      <td>0.1030</td>\n",
              "      <td>0.828</td>\n",
              "      <td>100.070</td>\n",
              "    </tr>\n",
              "    <tr>\n",
              "      <th>3</th>\n",
              "      <td>3</td>\n",
              "      <td>0.793</td>\n",
              "      <td>0.793</td>\n",
              "      <td>-4.521</td>\n",
              "      <td>0.0830</td>\n",
              "      <td>0.0123</td>\n",
              "      <td>0.000000</td>\n",
              "      <td>0.0951</td>\n",
              "      <td>0.679</td>\n",
              "      <td>123.950</td>\n",
              "    </tr>\n",
              "    <tr>\n",
              "      <th>5</th>\n",
              "      <td>29</td>\n",
              "      <td>0.699</td>\n",
              "      <td>0.612</td>\n",
              "      <td>-4.355</td>\n",
              "      <td>0.0667</td>\n",
              "      <td>0.7570</td>\n",
              "      <td>0.000000</td>\n",
              "      <td>0.1610</td>\n",
              "      <td>0.591</td>\n",
              "      <td>100.005</td>\n",
              "    </tr>\n",
              "  </tbody>\n",
              "</table>\n",
              "</div>\n",
              "      <button class=\"colab-df-convert\" onclick=\"convertToInteractive('df-095147fd-ad29-4e73-884d-42aacd2c9fc1')\"\n",
              "              title=\"Convert this dataframe to an interactive table.\"\n",
              "              style=\"display:none;\">\n",
              "        \n",
              "  <svg xmlns=\"http://www.w3.org/2000/svg\" height=\"24px\"viewBox=\"0 0 24 24\"\n",
              "       width=\"24px\">\n",
              "    <path d=\"M0 0h24v24H0V0z\" fill=\"none\"/>\n",
              "    <path d=\"M18.56 5.44l.94 2.06.94-2.06 2.06-.94-2.06-.94-.94-2.06-.94 2.06-2.06.94zm-11 1L8.5 8.5l.94-2.06 2.06-.94-2.06-.94L8.5 2.5l-.94 2.06-2.06.94zm10 10l.94 2.06.94-2.06 2.06-.94-2.06-.94-.94-2.06-.94 2.06-2.06.94z\"/><path d=\"M17.41 7.96l-1.37-1.37c-.4-.4-.92-.59-1.43-.59-.52 0-1.04.2-1.43.59L10.3 9.45l-7.72 7.72c-.78.78-.78 2.05 0 2.83L4 21.41c.39.39.9.59 1.41.59.51 0 1.02-.2 1.41-.59l7.78-7.78 2.81-2.81c.8-.78.8-2.07 0-2.86zM5.41 20L4 18.59l7.72-7.72 1.47 1.35L5.41 20z\"/>\n",
              "  </svg>\n",
              "      </button>\n",
              "      \n",
              "  <style>\n",
              "    .colab-df-container {\n",
              "      display:flex;\n",
              "      flex-wrap:wrap;\n",
              "      gap: 12px;\n",
              "    }\n",
              "\n",
              "    .colab-df-convert {\n",
              "      background-color: #E8F0FE;\n",
              "      border: none;\n",
              "      border-radius: 50%;\n",
              "      cursor: pointer;\n",
              "      display: none;\n",
              "      fill: #1967D2;\n",
              "      height: 32px;\n",
              "      padding: 0 0 0 0;\n",
              "      width: 32px;\n",
              "    }\n",
              "\n",
              "    .colab-df-convert:hover {\n",
              "      background-color: #E2EBFA;\n",
              "      box-shadow: 0px 1px 2px rgba(60, 64, 67, 0.3), 0px 1px 3px 1px rgba(60, 64, 67, 0.15);\n",
              "      fill: #174EA6;\n",
              "    }\n",
              "\n",
              "    [theme=dark] .colab-df-convert {\n",
              "      background-color: #3B4455;\n",
              "      fill: #D2E3FC;\n",
              "    }\n",
              "\n",
              "    [theme=dark] .colab-df-convert:hover {\n",
              "      background-color: #434B5C;\n",
              "      box-shadow: 0px 1px 3px 1px rgba(0, 0, 0, 0.15);\n",
              "      filter: drop-shadow(0px 1px 2px rgba(0, 0, 0, 0.3));\n",
              "      fill: #FFFFFF;\n",
              "    }\n",
              "  </style>\n",
              "\n",
              "      <script>\n",
              "        const buttonEl =\n",
              "          document.querySelector('#df-095147fd-ad29-4e73-884d-42aacd2c9fc1 button.colab-df-convert');\n",
              "        buttonEl.style.display =\n",
              "          google.colab.kernel.accessAllowed ? 'block' : 'none';\n",
              "\n",
              "        async function convertToInteractive(key) {\n",
              "          const element = document.querySelector('#df-095147fd-ad29-4e73-884d-42aacd2c9fc1');\n",
              "          const dataTable =\n",
              "            await google.colab.kernel.invokeFunction('convertToInteractive',\n",
              "                                                     [key], {});\n",
              "          if (!dataTable) return;\n",
              "\n",
              "          const docLinkHtml = 'Like what you see? Visit the ' +\n",
              "            '<a target=\"_blank\" href=https://colab.research.google.com/notebooks/data_table.ipynb>data table notebook</a>'\n",
              "            + ' to learn more about interactive tables.';\n",
              "          element.innerHTML = '';\n",
              "          dataTable['output_type'] = 'display_data';\n",
              "          await google.colab.output.renderOutput(dataTable, element);\n",
              "          const docLink = document.createElement('div');\n",
              "          docLink.innerHTML = docLinkHtml;\n",
              "          element.appendChild(docLink);\n",
              "        }\n",
              "      </script>\n",
              "    </div>\n",
              "  </div>\n",
              "  "
            ],
            "text/plain": [
              "   Class  danceability  energy  ...  liveness  valence    tempo\n",
              "0     29         0.721   0.637  ...    0.0525    0.691  193.922\n",
              "1     27         0.767   0.592  ...    0.2940    0.612   93.368\n",
              "2      0         0.725   0.756  ...    0.1030    0.828  100.070\n",
              "3      3         0.793   0.793  ...    0.0951    0.679  123.950\n",
              "5     29         0.699   0.612  ...    0.1610    0.591  100.005\n",
              "\n",
              "[5 rows x 10 columns]"
            ]
          },
          "execution_count": 39,
          "metadata": {},
          "output_type": "execute_result"
        }
      ],
      "source": [
        "data_subsampled.head()"
      ]
    },
    {
      "cell_type": "code",
      "execution_count": null,
      "metadata": {
        "id": "7C5wd9jwl03s"
      },
      "outputs": [],
      "source": [
        "# datos test (mismo para todos los conjuntos de entrenamiento)\n",
        "X_test = data_test[data_train.columns[1:]] # todo despues de la primera columna\n",
        "y_test = data_test[data_train.columns[0]]  # la primera columna donde estan las clases\n",
        "\n",
        "X_subs = data_subsampled[data_train.columns[1:]]\n",
        "y_subs = data_subsampled[data_train.columns[0]]"
      ]
    },
    {
      "cell_type": "code",
      "execution_count": null,
      "metadata": {
        "colab": {
          "base_uri": "https://localhost:8080/",
          "height": 206
        },
        "id": "wpI5F-dHqwkM",
        "outputId": "aaba3662-1c28-49d7-9d6d-e9dc5616d78f"
      },
      "outputs": [
        {
          "data": {
            "text/html": [
              "\n",
              "  <div id=\"df-d57c7884-886d-4a0b-bae4-a3b5110035ca\">\n",
              "    <div class=\"colab-df-container\">\n",
              "      <div>\n",
              "<style scoped>\n",
              "    .dataframe tbody tr th:only-of-type {\n",
              "        vertical-align: middle;\n",
              "    }\n",
              "\n",
              "    .dataframe tbody tr th {\n",
              "        vertical-align: top;\n",
              "    }\n",
              "\n",
              "    .dataframe thead th {\n",
              "        text-align: right;\n",
              "    }\n",
              "</style>\n",
              "<table border=\"1\" class=\"dataframe\">\n",
              "  <thead>\n",
              "    <tr style=\"text-align: right;\">\n",
              "      <th></th>\n",
              "      <th>danceability</th>\n",
              "      <th>energy</th>\n",
              "      <th>loudness</th>\n",
              "      <th>speechiness</th>\n",
              "      <th>acousticness</th>\n",
              "      <th>instrumentalness</th>\n",
              "      <th>liveness</th>\n",
              "      <th>valence</th>\n",
              "      <th>tempo</th>\n",
              "    </tr>\n",
              "  </thead>\n",
              "  <tbody>\n",
              "    <tr>\n",
              "      <th>0</th>\n",
              "      <td>0.721</td>\n",
              "      <td>0.637</td>\n",
              "      <td>-5.134</td>\n",
              "      <td>0.2860</td>\n",
              "      <td>0.0406</td>\n",
              "      <td>0.000000</td>\n",
              "      <td>0.0525</td>\n",
              "      <td>0.691</td>\n",
              "      <td>193.922</td>\n",
              "    </tr>\n",
              "    <tr>\n",
              "      <th>1</th>\n",
              "      <td>0.767</td>\n",
              "      <td>0.592</td>\n",
              "      <td>-8.047</td>\n",
              "      <td>0.4830</td>\n",
              "      <td>0.3830</td>\n",
              "      <td>0.000000</td>\n",
              "      <td>0.2940</td>\n",
              "      <td>0.612</td>\n",
              "      <td>93.368</td>\n",
              "    </tr>\n",
              "    <tr>\n",
              "      <th>2</th>\n",
              "      <td>0.725</td>\n",
              "      <td>0.756</td>\n",
              "      <td>-5.013</td>\n",
              "      <td>0.0572</td>\n",
              "      <td>0.3620</td>\n",
              "      <td>0.000685</td>\n",
              "      <td>0.1030</td>\n",
              "      <td>0.828</td>\n",
              "      <td>100.070</td>\n",
              "    </tr>\n",
              "    <tr>\n",
              "      <th>3</th>\n",
              "      <td>0.793</td>\n",
              "      <td>0.793</td>\n",
              "      <td>-4.521</td>\n",
              "      <td>0.0830</td>\n",
              "      <td>0.0123</td>\n",
              "      <td>0.000000</td>\n",
              "      <td>0.0951</td>\n",
              "      <td>0.679</td>\n",
              "      <td>123.950</td>\n",
              "    </tr>\n",
              "    <tr>\n",
              "      <th>5</th>\n",
              "      <td>0.699</td>\n",
              "      <td>0.612</td>\n",
              "      <td>-4.355</td>\n",
              "      <td>0.0667</td>\n",
              "      <td>0.7570</td>\n",
              "      <td>0.000000</td>\n",
              "      <td>0.1610</td>\n",
              "      <td>0.591</td>\n",
              "      <td>100.005</td>\n",
              "    </tr>\n",
              "  </tbody>\n",
              "</table>\n",
              "</div>\n",
              "      <button class=\"colab-df-convert\" onclick=\"convertToInteractive('df-d57c7884-886d-4a0b-bae4-a3b5110035ca')\"\n",
              "              title=\"Convert this dataframe to an interactive table.\"\n",
              "              style=\"display:none;\">\n",
              "        \n",
              "  <svg xmlns=\"http://www.w3.org/2000/svg\" height=\"24px\"viewBox=\"0 0 24 24\"\n",
              "       width=\"24px\">\n",
              "    <path d=\"M0 0h24v24H0V0z\" fill=\"none\"/>\n",
              "    <path d=\"M18.56 5.44l.94 2.06.94-2.06 2.06-.94-2.06-.94-.94-2.06-.94 2.06-2.06.94zm-11 1L8.5 8.5l.94-2.06 2.06-.94-2.06-.94L8.5 2.5l-.94 2.06-2.06.94zm10 10l.94 2.06.94-2.06 2.06-.94-2.06-.94-.94-2.06-.94 2.06-2.06.94z\"/><path d=\"M17.41 7.96l-1.37-1.37c-.4-.4-.92-.59-1.43-.59-.52 0-1.04.2-1.43.59L10.3 9.45l-7.72 7.72c-.78.78-.78 2.05 0 2.83L4 21.41c.39.39.9.59 1.41.59.51 0 1.02-.2 1.41-.59l7.78-7.78 2.81-2.81c.8-.78.8-2.07 0-2.86zM5.41 20L4 18.59l7.72-7.72 1.47 1.35L5.41 20z\"/>\n",
              "  </svg>\n",
              "      </button>\n",
              "      \n",
              "  <style>\n",
              "    .colab-df-container {\n",
              "      display:flex;\n",
              "      flex-wrap:wrap;\n",
              "      gap: 12px;\n",
              "    }\n",
              "\n",
              "    .colab-df-convert {\n",
              "      background-color: #E8F0FE;\n",
              "      border: none;\n",
              "      border-radius: 50%;\n",
              "      cursor: pointer;\n",
              "      display: none;\n",
              "      fill: #1967D2;\n",
              "      height: 32px;\n",
              "      padding: 0 0 0 0;\n",
              "      width: 32px;\n",
              "    }\n",
              "\n",
              "    .colab-df-convert:hover {\n",
              "      background-color: #E2EBFA;\n",
              "      box-shadow: 0px 1px 2px rgba(60, 64, 67, 0.3), 0px 1px 3px 1px rgba(60, 64, 67, 0.15);\n",
              "      fill: #174EA6;\n",
              "    }\n",
              "\n",
              "    [theme=dark] .colab-df-convert {\n",
              "      background-color: #3B4455;\n",
              "      fill: #D2E3FC;\n",
              "    }\n",
              "\n",
              "    [theme=dark] .colab-df-convert:hover {\n",
              "      background-color: #434B5C;\n",
              "      box-shadow: 0px 1px 3px 1px rgba(0, 0, 0, 0.15);\n",
              "      filter: drop-shadow(0px 1px 2px rgba(0, 0, 0, 0.3));\n",
              "      fill: #FFFFFF;\n",
              "    }\n",
              "  </style>\n",
              "\n",
              "      <script>\n",
              "        const buttonEl =\n",
              "          document.querySelector('#df-d57c7884-886d-4a0b-bae4-a3b5110035ca button.colab-df-convert');\n",
              "        buttonEl.style.display =\n",
              "          google.colab.kernel.accessAllowed ? 'block' : 'none';\n",
              "\n",
              "        async function convertToInteractive(key) {\n",
              "          const element = document.querySelector('#df-d57c7884-886d-4a0b-bae4-a3b5110035ca');\n",
              "          const dataTable =\n",
              "            await google.colab.kernel.invokeFunction('convertToInteractive',\n",
              "                                                     [key], {});\n",
              "          if (!dataTable) return;\n",
              "\n",
              "          const docLinkHtml = 'Like what you see? Visit the ' +\n",
              "            '<a target=\"_blank\" href=https://colab.research.google.com/notebooks/data_table.ipynb>data table notebook</a>'\n",
              "            + ' to learn more about interactive tables.';\n",
              "          element.innerHTML = '';\n",
              "          dataTable['output_type'] = 'display_data';\n",
              "          await google.colab.output.renderOutput(dataTable, element);\n",
              "          const docLink = document.createElement('div');\n",
              "          docLink.innerHTML = docLinkHtml;\n",
              "          element.appendChild(docLink);\n",
              "        }\n",
              "      </script>\n",
              "    </div>\n",
              "  </div>\n",
              "  "
            ],
            "text/plain": [
              "   danceability  energy  loudness  ...  liveness  valence    tempo\n",
              "0         0.721   0.637    -5.134  ...    0.0525    0.691  193.922\n",
              "1         0.767   0.592    -8.047  ...    0.2940    0.612   93.368\n",
              "2         0.725   0.756    -5.013  ...    0.1030    0.828  100.070\n",
              "3         0.793   0.793    -4.521  ...    0.0951    0.679  123.950\n",
              "5         0.699   0.612    -4.355  ...    0.1610    0.591  100.005\n",
              "\n",
              "[5 rows x 9 columns]"
            ]
          },
          "execution_count": 42,
          "metadata": {},
          "output_type": "execute_result"
        }
      ],
      "source": [
        "X_subs.head()"
      ]
    },
    {
      "cell_type": "code",
      "execution_count": null,
      "metadata": {
        "colab": {
          "base_uri": "https://localhost:8080/"
        },
        "id": "Ov5VWF9Sqp5E",
        "outputId": "8a01a773-6d0b-4bcb-8f3f-9b22bc11a52d"
      },
      "outputs": [
        {
          "data": {
            "text/plain": [
              "0          29\n",
              "1          27\n",
              "2           0\n",
              "3           3\n",
              "5          29\n",
              "           ..\n",
              "2393630    29\n",
              "2393631     1\n",
              "2393633     4\n",
              "2393635     9\n",
              "2393637     3\n",
              "Name: Class, Length: 1693640, dtype: int64"
            ]
          },
          "execution_count": 43,
          "metadata": {},
          "output_type": "execute_result"
        }
      ],
      "source": [
        "y_subs"
      ]
    },
    {
      "cell_type": "code",
      "execution_count": null,
      "metadata": {
        "colab": {
          "base_uri": "https://localhost:8080/"
        },
        "id": "e-xBI9djl5v-",
        "outputId": "2b2c4246-d73b-456f-ecb9-52a418926d37"
      },
      "outputs": [
        {
          "name": "stdout",
          "output_type": "stream",
          "text": [
            "SUBSAMPLING::::::::::\n"
          ]
        },
        {
          "name": "stderr",
          "output_type": "stream",
          "text": [
            "/usr/local/lib/python3.7/dist-packages/sklearn/metrics/_classification.py:1308: UndefinedMetricWarning: Precision and F-score are ill-defined and being set to 0.0 in labels with no predicted samples. Use `zero_division` parameter to control this behavior.\n",
            "  _warn_prf(average, modifier, msg_start, len(result))\n",
            "/usr/local/lib/python3.7/dist-packages/sklearn/metrics/_classification.py:1308: UndefinedMetricWarning: Precision and F-score are ill-defined and being set to 0.0 in labels with no predicted samples. Use `zero_division` parameter to control this behavior.\n",
            "  _warn_prf(average, modifier, msg_start, len(result))\n"
          ]
        },
        {
          "name": "stdout",
          "output_type": "stream",
          "text": [
            "              precision    recall  f1-score   support\n",
            "\n",
            "           0       1.00      1.00      1.00    406177\n",
            "           1       1.00      1.00      1.00     74982\n",
            "           2       1.00      1.00      1.00      6510\n",
            "           3       1.00      1.00      1.00     97726\n",
            "           4       1.00      1.00      1.00     53706\n",
            "           5       1.00      1.00      1.00         5\n",
            "           6       0.99      0.95      0.97       152\n",
            "           7       1.00      1.00      1.00      1733\n",
            "           8       1.00      1.00      1.00     11266\n",
            "           9       1.00      1.00      1.00     41295\n",
            "          10       1.00      1.00      1.00      4573\n",
            "          11       1.00      1.00      1.00     11605\n",
            "          13       1.00      1.00      1.00       872\n",
            "          14       0.94      0.98      0.96        46\n",
            "          15       1.00      1.00      1.00      1349\n",
            "          17       1.00      1.00      1.00     18174\n",
            "          18       1.00      1.00      1.00     16639\n",
            "          19       1.00      1.00      1.00     17612\n",
            "          20       1.00      1.00      1.00       900\n",
            "          21       1.00      1.00      1.00     17570\n",
            "          22       0.00      0.00      0.00         1\n",
            "          24       1.00      1.00      1.00       972\n",
            "          25       1.00      1.00      1.00      8596\n",
            "          26       1.00      1.00      1.00         4\n",
            "          27       1.00      1.00      1.00     93689\n",
            "          28       1.00      1.00      1.00      8026\n",
            "          29       1.00      1.00      1.00     54812\n",
            "          30       1.00      1.00      1.00      9828\n",
            "          31       1.00      1.00      1.00      1387\n",
            "          34       1.00      1.00      1.00     13907\n",
            "          35       1.00      1.00      1.00       132\n",
            "          36       1.00      1.00      1.00      9188\n",
            "          37       1.00      1.00      1.00        59\n",
            "          38       1.00      1.00      1.00       829\n",
            "          39       1.00      1.00      1.00       203\n",
            "          40       1.00      1.00      1.00      1298\n",
            "          42       0.00      0.00      0.00         1\n",
            "          45       1.00      1.00      1.00      4107\n",
            "          46       1.00      1.00      1.00       411\n",
            "          47       1.00      1.00      1.00       488\n",
            "          48       1.00      1.00      1.00         5\n",
            "          49       1.00      1.00      1.00      1779\n",
            "          50       1.00      1.00      1.00      6213\n",
            "          51       1.00      1.00      1.00      2545\n",
            "          52       1.00      1.00      1.00         8\n",
            "          53       1.00      1.00      1.00       114\n",
            "          54       1.00      1.00      1.00        52\n",
            "          55       1.00      1.00      1.00        32\n",
            "          56       1.00      1.00      1.00     10910\n",
            "          57       1.00      1.00      1.00         4\n",
            "          58       1.00      1.00      1.00      2678\n",
            "          60       1.00      1.00      1.00      6823\n",
            "          61       1.00      1.00      1.00      3485\n",
            "          62       1.00      1.00      1.00       291\n",
            "          63       1.00      1.00      1.00        78\n",
            "\n",
            "    accuracy                           1.00   1025847\n",
            "   macro avg       0.96      0.96      0.96   1025847\n",
            "weighted avg       1.00      1.00      1.00   1025847\n",
            "\n"
          ]
        },
        {
          "name": "stderr",
          "output_type": "stream",
          "text": [
            "/usr/local/lib/python3.7/dist-packages/sklearn/metrics/_classification.py:1308: UndefinedMetricWarning: Precision and F-score are ill-defined and being set to 0.0 in labels with no predicted samples. Use `zero_division` parameter to control this behavior.\n",
            "  _warn_prf(average, modifier, msg_start, len(result))\n"
          ]
        }
      ],
      "source": [
        "from sklearn.tree import DecisionTreeClassifier\n",
        "from sklearn.metrics import classification_report\n",
        "print(\"SUBSAMPLING::::::::::\")\n",
        "clf_subs = DecisionTreeClassifier()\n",
        "clf_subs.fit(X_subs, y_subs)\n",
        "pred_subs = clf_subs.predict(X_test)\n",
        "print(classification_report(y_test, pred_subs))"
      ]
    },
    {
      "cell_type": "markdown",
      "metadata": {
        "id": "uzWqJ0mSK-dE"
      },
      "source": [
        "## Contribuciones"
      ]
    },
    {
      "cell_type": "markdown",
      "metadata": {
        "id": "fp6zZFQ0LPlw"
      },
      "source": [
        "Valeria respondió pregunta sobre qué artistas han perdurado en el top 200 y qué canciones han perdurado por una mayor cantidad de tiempo.\n",
        "\n",
        "Sebastián hizo la correccion sobre el clasificador e implementó el clustering de las (correccion de pregunta 1 y desarrollo  de la pregunta 2).\n",
        "\n",
        "Joaquín desarrollo el experimento con los generos extraidos de la api de Spotify segun el artista , para responder las preguntas relacionadas al género.\n",
        "\n",
        "Esteban participó en la creación de la presentación, la creación de algunos gráficos y la edición del video.\n",
        "\n",
        "Tomás también participo en la creacion de la presentación.\n",
        "\n",
        "\n"
      ]
    }
  ],
  "metadata": {
    "colab": {
      "collapsed_sections": [
        "dKZkafxTsx9l",
        "mpXQkVAUnues"
      ],
      "provenance": []
    },
    "kernelspec": {
      "display_name": "base",
      "language": "python",
      "name": "python3"
    },
    "language_info": {
      "name": "python",
      "version": "3.9.13 (main, Aug 25 2022, 23:51:50) [MSC v.1916 64 bit (AMD64)]"
    },
    "vscode": {
      "interpreter": {
        "hash": "64f66822a0f77c79a13345922a004189662baff35ab326d8d7e9a08c27c4bee1"
      }
    }
  },
  "nbformat": 4,
  "nbformat_minor": 0
}
